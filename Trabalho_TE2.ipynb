{
  "nbformat": 4,
  "nbformat_minor": 0,
  "metadata": {
    "colab": {
      "provenance": []
    },
    "kernelspec": {
      "name": "python3",
      "display_name": "Python 3"
    },
    "language_info": {
      "name": "python"
    }
  },
  "cells": [
    {
      "cell_type": "code",
      "execution_count": null,
      "metadata": {
        "id": "a4-cLO2Y7enY"
      },
      "outputs": [],
      "source": [
        "# Importa bibliotecas\n",
        "from sklearn import datasets\n",
        "import numpy as np\n",
        "import seaborn as sns\n",
        "import pandas as pd\n",
        "from sklearn.model_selection import train_test_split\n",
        "from sklearn.linear_model import LinearRegression\n",
        "import matplotlib.pyplot as plt\n",
        "from sklearn.linear_model import LogisticRegression\n",
        "from sklearn.model_selection import train_test_split\n",
        "from sklearn.metrics import confusion_matrix, classification_report\n",
        "from sklearn.metrics import roc_curve\n",
        "from sklearn.preprocessing import StandardScaler"
      ]
    },
    {
      "cell_type": "markdown",
      "source": [
        "# Importando e Análisando os dados do dataset"
      ],
      "metadata": {
        "id": "fyCR0az-QAf5"
      }
    },
    {
      "cell_type": "code",
      "source": [
        "df_original = pd.read_csv(\"MCMV.csv\", encoding=\"cp860\", index_col=False)"
      ],
      "metadata": {
        "id": "ffz0lJb47iGG"
      },
      "execution_count": null,
      "outputs": []
    },
    {
      "cell_type": "code",
      "source": [
        "df = df_original\n",
        "df.head()\n"
      ],
      "metadata": {
        "colab": {
          "base_uri": "https://localhost:8080/",
          "height": 387
        },
        "id": "eHs93opQ74E6",
        "outputId": "7b6fd64e-22a2-420f-fef7-7e297b91be1c"
      },
      "execution_count": null,
      "outputs": [
        {
          "output_type": "execute_result",
          "data": {
            "text/plain": [
              "          FID  UF  COD_IBGE CAPITAIS   XCOORD   YCOORD  Municipio  UF_1  \\\n",
              "0  MCMV.20227  DF    530010  Capital -47.9297 -15.7797  Bras├¡lia   NaN   \n",
              "1  MCMV.20199  DF    530010  Capital -47.9297 -15.7797  Bras├¡lia   NaN   \n",
              "2  MCMV.20200  DF    530010  Capital -47.9297 -15.7797  Bras├¡lia   NaN   \n",
              "3  MCMV.20201  DF    530010  Capital -47.9297 -15.7797  Bras├¡lia   NaN   \n",
              "4  MCMV.20202  DF    530010  Capital -47.9297 -15.7797  Bras├¡lia   NaN   \n",
              "\n",
              "  Faixa_de_r Produto  ...  Concluidas  Entregues   Sub_FGTS   Sub_OGU  \\\n",
              "0    Faixa 3  CCFGTS  ...           0          0        0.0       0.0   \n",
              "1    Faixa 3  CCFGTS  ...         166        166        0.0       0.0   \n",
              "2    Faixa 3  CCFGTS  ...         198        198        0.0       0.0   \n",
              "3    Faixa 2  CCFGTS  ...           0          0  1378130.0  459376.0   \n",
              "4    Faixa 2  CCFGTS  ...           0          0        0.0       0.0   \n",
              "\n",
              "   Percentual     IF  PMCMV   Faixa  UH_CONC  \\\n",
              "0       89.92  Caixa      1   75-95       40   \n",
              "1      100.00  Caixa      1  95-100        0   \n",
              "2      100.00  Caixa      2  95-100        0   \n",
              "3        0.00  Caixa      2    0-50      416   \n",
              "4        1.00  Caixa      1    0-50      100   \n",
              "\n",
              "                                the_geom  \n",
              "0  POINT (-47.92972 -15.779719999999884)  \n",
              "1  POINT (-47.92972 -15.779719999999884)  \n",
              "2  POINT (-47.92972 -15.779719999999884)  \n",
              "3  POINT (-47.92972 -15.779719999999884)  \n",
              "4  POINT (-47.92972 -15.779719999999884)  \n",
              "\n",
              "[5 rows x 22 columns]"
            ],
            "text/html": [
              "\n",
              "  <div id=\"df-ca6704a8-d3a6-42af-949a-a59976157548\">\n",
              "    <div class=\"colab-df-container\">\n",
              "      <div>\n",
              "<style scoped>\n",
              "    .dataframe tbody tr th:only-of-type {\n",
              "        vertical-align: middle;\n",
              "    }\n",
              "\n",
              "    .dataframe tbody tr th {\n",
              "        vertical-align: top;\n",
              "    }\n",
              "\n",
              "    .dataframe thead th {\n",
              "        text-align: right;\n",
              "    }\n",
              "</style>\n",
              "<table border=\"1\" class=\"dataframe\">\n",
              "  <thead>\n",
              "    <tr style=\"text-align: right;\">\n",
              "      <th></th>\n",
              "      <th>FID</th>\n",
              "      <th>UF</th>\n",
              "      <th>COD_IBGE</th>\n",
              "      <th>CAPITAIS</th>\n",
              "      <th>XCOORD</th>\n",
              "      <th>YCOORD</th>\n",
              "      <th>Municipio</th>\n",
              "      <th>UF_1</th>\n",
              "      <th>Faixa_de_r</th>\n",
              "      <th>Produto</th>\n",
              "      <th>...</th>\n",
              "      <th>Concluidas</th>\n",
              "      <th>Entregues</th>\n",
              "      <th>Sub_FGTS</th>\n",
              "      <th>Sub_OGU</th>\n",
              "      <th>Percentual</th>\n",
              "      <th>IF</th>\n",
              "      <th>PMCMV</th>\n",
              "      <th>Faixa</th>\n",
              "      <th>UH_CONC</th>\n",
              "      <th>the_geom</th>\n",
              "    </tr>\n",
              "  </thead>\n",
              "  <tbody>\n",
              "    <tr>\n",
              "      <th>0</th>\n",
              "      <td>MCMV.20227</td>\n",
              "      <td>DF</td>\n",
              "      <td>530010</td>\n",
              "      <td>Capital</td>\n",
              "      <td>-47.9297</td>\n",
              "      <td>-15.7797</td>\n",
              "      <td>Bras├¡lia</td>\n",
              "      <td>NaN</td>\n",
              "      <td>Faixa 3</td>\n",
              "      <td>CCFGTS</td>\n",
              "      <td>...</td>\n",
              "      <td>0</td>\n",
              "      <td>0</td>\n",
              "      <td>0.0</td>\n",
              "      <td>0.0</td>\n",
              "      <td>89.92</td>\n",
              "      <td>Caixa</td>\n",
              "      <td>1</td>\n",
              "      <td>75-95</td>\n",
              "      <td>40</td>\n",
              "      <td>POINT (-47.92972 -15.779719999999884)</td>\n",
              "    </tr>\n",
              "    <tr>\n",
              "      <th>1</th>\n",
              "      <td>MCMV.20199</td>\n",
              "      <td>DF</td>\n",
              "      <td>530010</td>\n",
              "      <td>Capital</td>\n",
              "      <td>-47.9297</td>\n",
              "      <td>-15.7797</td>\n",
              "      <td>Bras├¡lia</td>\n",
              "      <td>NaN</td>\n",
              "      <td>Faixa 3</td>\n",
              "      <td>CCFGTS</td>\n",
              "      <td>...</td>\n",
              "      <td>166</td>\n",
              "      <td>166</td>\n",
              "      <td>0.0</td>\n",
              "      <td>0.0</td>\n",
              "      <td>100.00</td>\n",
              "      <td>Caixa</td>\n",
              "      <td>1</td>\n",
              "      <td>95-100</td>\n",
              "      <td>0</td>\n",
              "      <td>POINT (-47.92972 -15.779719999999884)</td>\n",
              "    </tr>\n",
              "    <tr>\n",
              "      <th>2</th>\n",
              "      <td>MCMV.20200</td>\n",
              "      <td>DF</td>\n",
              "      <td>530010</td>\n",
              "      <td>Capital</td>\n",
              "      <td>-47.9297</td>\n",
              "      <td>-15.7797</td>\n",
              "      <td>Bras├¡lia</td>\n",
              "      <td>NaN</td>\n",
              "      <td>Faixa 3</td>\n",
              "      <td>CCFGTS</td>\n",
              "      <td>...</td>\n",
              "      <td>198</td>\n",
              "      <td>198</td>\n",
              "      <td>0.0</td>\n",
              "      <td>0.0</td>\n",
              "      <td>100.00</td>\n",
              "      <td>Caixa</td>\n",
              "      <td>2</td>\n",
              "      <td>95-100</td>\n",
              "      <td>0</td>\n",
              "      <td>POINT (-47.92972 -15.779719999999884)</td>\n",
              "    </tr>\n",
              "    <tr>\n",
              "      <th>3</th>\n",
              "      <td>MCMV.20201</td>\n",
              "      <td>DF</td>\n",
              "      <td>530010</td>\n",
              "      <td>Capital</td>\n",
              "      <td>-47.9297</td>\n",
              "      <td>-15.7797</td>\n",
              "      <td>Bras├¡lia</td>\n",
              "      <td>NaN</td>\n",
              "      <td>Faixa 2</td>\n",
              "      <td>CCFGTS</td>\n",
              "      <td>...</td>\n",
              "      <td>0</td>\n",
              "      <td>0</td>\n",
              "      <td>1378130.0</td>\n",
              "      <td>459376.0</td>\n",
              "      <td>0.00</td>\n",
              "      <td>Caixa</td>\n",
              "      <td>2</td>\n",
              "      <td>0-50</td>\n",
              "      <td>416</td>\n",
              "      <td>POINT (-47.92972 -15.779719999999884)</td>\n",
              "    </tr>\n",
              "    <tr>\n",
              "      <th>4</th>\n",
              "      <td>MCMV.20202</td>\n",
              "      <td>DF</td>\n",
              "      <td>530010</td>\n",
              "      <td>Capital</td>\n",
              "      <td>-47.9297</td>\n",
              "      <td>-15.7797</td>\n",
              "      <td>Bras├¡lia</td>\n",
              "      <td>NaN</td>\n",
              "      <td>Faixa 2</td>\n",
              "      <td>CCFGTS</td>\n",
              "      <td>...</td>\n",
              "      <td>0</td>\n",
              "      <td>0</td>\n",
              "      <td>0.0</td>\n",
              "      <td>0.0</td>\n",
              "      <td>1.00</td>\n",
              "      <td>Caixa</td>\n",
              "      <td>1</td>\n",
              "      <td>0-50</td>\n",
              "      <td>100</td>\n",
              "      <td>POINT (-47.92972 -15.779719999999884)</td>\n",
              "    </tr>\n",
              "  </tbody>\n",
              "</table>\n",
              "<p>5 rows × 22 columns</p>\n",
              "</div>\n",
              "      <button class=\"colab-df-convert\" onclick=\"convertToInteractive('df-ca6704a8-d3a6-42af-949a-a59976157548')\"\n",
              "              title=\"Convert this dataframe to an interactive table.\"\n",
              "              style=\"display:none;\">\n",
              "        \n",
              "  <svg xmlns=\"http://www.w3.org/2000/svg\" height=\"24px\"viewBox=\"0 0 24 24\"\n",
              "       width=\"24px\">\n",
              "    <path d=\"M0 0h24v24H0V0z\" fill=\"none\"/>\n",
              "    <path d=\"M18.56 5.44l.94 2.06.94-2.06 2.06-.94-2.06-.94-.94-2.06-.94 2.06-2.06.94zm-11 1L8.5 8.5l.94-2.06 2.06-.94-2.06-.94L8.5 2.5l-.94 2.06-2.06.94zm10 10l.94 2.06.94-2.06 2.06-.94-2.06-.94-.94-2.06-.94 2.06-2.06.94z\"/><path d=\"M17.41 7.96l-1.37-1.37c-.4-.4-.92-.59-1.43-.59-.52 0-1.04.2-1.43.59L10.3 9.45l-7.72 7.72c-.78.78-.78 2.05 0 2.83L4 21.41c.39.39.9.59 1.41.59.51 0 1.02-.2 1.41-.59l7.78-7.78 2.81-2.81c.8-.78.8-2.07 0-2.86zM5.41 20L4 18.59l7.72-7.72 1.47 1.35L5.41 20z\"/>\n",
              "  </svg>\n",
              "      </button>\n",
              "      \n",
              "  <style>\n",
              "    .colab-df-container {\n",
              "      display:flex;\n",
              "      flex-wrap:wrap;\n",
              "      gap: 12px;\n",
              "    }\n",
              "\n",
              "    .colab-df-convert {\n",
              "      background-color: #E8F0FE;\n",
              "      border: none;\n",
              "      border-radius: 50%;\n",
              "      cursor: pointer;\n",
              "      display: none;\n",
              "      fill: #1967D2;\n",
              "      height: 32px;\n",
              "      padding: 0 0 0 0;\n",
              "      width: 32px;\n",
              "    }\n",
              "\n",
              "    .colab-df-convert:hover {\n",
              "      background-color: #E2EBFA;\n",
              "      box-shadow: 0px 1px 2px rgba(60, 64, 67, 0.3), 0px 1px 3px 1px rgba(60, 64, 67, 0.15);\n",
              "      fill: #174EA6;\n",
              "    }\n",
              "\n",
              "    [theme=dark] .colab-df-convert {\n",
              "      background-color: #3B4455;\n",
              "      fill: #D2E3FC;\n",
              "    }\n",
              "\n",
              "    [theme=dark] .colab-df-convert:hover {\n",
              "      background-color: #434B5C;\n",
              "      box-shadow: 0px 1px 3px 1px rgba(0, 0, 0, 0.15);\n",
              "      filter: drop-shadow(0px 1px 2px rgba(0, 0, 0, 0.3));\n",
              "      fill: #FFFFFF;\n",
              "    }\n",
              "  </style>\n",
              "\n",
              "      <script>\n",
              "        const buttonEl =\n",
              "          document.querySelector('#df-ca6704a8-d3a6-42af-949a-a59976157548 button.colab-df-convert');\n",
              "        buttonEl.style.display =\n",
              "          google.colab.kernel.accessAllowed ? 'block' : 'none';\n",
              "\n",
              "        async function convertToInteractive(key) {\n",
              "          const element = document.querySelector('#df-ca6704a8-d3a6-42af-949a-a59976157548');\n",
              "          const dataTable =\n",
              "            await google.colab.kernel.invokeFunction('convertToInteractive',\n",
              "                                                     [key], {});\n",
              "          if (!dataTable) return;\n",
              "\n",
              "          const docLinkHtml = 'Like what you see? Visit the ' +\n",
              "            '<a target=\"_blank\" href=https://colab.research.google.com/notebooks/data_table.ipynb>data table notebook</a>'\n",
              "            + ' to learn more about interactive tables.';\n",
              "          element.innerHTML = '';\n",
              "          dataTable['output_type'] = 'display_data';\n",
              "          await google.colab.output.renderOutput(dataTable, element);\n",
              "          const docLink = document.createElement('div');\n",
              "          docLink.innerHTML = docLinkHtml;\n",
              "          element.appendChild(docLink);\n",
              "        }\n",
              "      </script>\n",
              "    </div>\n",
              "  </div>\n",
              "  "
            ]
          },
          "metadata": {},
          "execution_count": 176
        }
      ]
    },
    {
      "cell_type": "code",
      "source": [
        "np.unique(df[\"Produto\"])"
      ],
      "metadata": {
        "colab": {
          "base_uri": "https://localhost:8080/"
        },
        "id": "4W8y-aEs_QEV",
        "outputId": "0cab5411-258b-46c3-82ab-3ae19f674c65"
      },
      "execution_count": null,
      "outputs": [
        {
          "output_type": "execute_result",
          "data": {
            "text/plain": [
              "array(['CCFGTS', 'Entidades', 'FAR', 'FAR - Urbaniza├╛├Èo',\n",
              "       'Oferta Publica', 'Rural'], dtype=object)"
            ]
          },
          "metadata": {},
          "execution_count": 177
        }
      ]
    },
    {
      "cell_type": "code",
      "source": [
        "df.columns"
      ],
      "metadata": {
        "colab": {
          "base_uri": "https://localhost:8080/"
        },
        "id": "qfZTDGtj9fCe",
        "outputId": "e37e8e8b-dca9-4fc2-9e50-9c2e148e90c7"
      },
      "execution_count": null,
      "outputs": [
        {
          "output_type": "execute_result",
          "data": {
            "text/plain": [
              "Index(['FID', 'UF', 'COD_IBGE', 'CAPITAIS', 'XCOORD', 'YCOORD', 'Municipio',\n",
              "       'UF_1', 'Faixa_de_r', 'Produto', 'UH', 'Valor', 'Concluidas',\n",
              "       'Entregues', 'Sub_FGTS', 'Sub_OGU', 'Percentual', 'IF', 'PMCMV',\n",
              "       'Faixa', 'UH_CONC', 'the_geom'],\n",
              "      dtype='object')"
            ]
          },
          "metadata": {},
          "execution_count": 178
        }
      ]
    },
    {
      "cell_type": "markdown",
      "source": [
        "# Regressão Linear\n",
        "\n",
        "----"
      ],
      "metadata": {
        "id": "GGKbCR0DP7ZX"
      }
    },
    {
      "cell_type": "code",
      "source": [
        "df_filtered = df[(df['Percentual'] == 100)]"
      ],
      "metadata": {
        "id": "6CoZsgey02AN"
      },
      "execution_count": null,
      "outputs": []
    },
    {
      "cell_type": "code",
      "source": [
        "df_plot = df_filtered[[\"Produto\", \"Concluidas\", \"Entregues\", \"UH\", \"Valor\"]]"
      ],
      "metadata": {
        "id": "i-ctS7EG9SEo"
      },
      "execution_count": null,
      "outputs": []
    },
    {
      "cell_type": "code",
      "source": [
        "df_plot = df_plot.dropna()"
      ],
      "metadata": {
        "id": "4l4XVXpbBQyJ"
      },
      "execution_count": null,
      "outputs": []
    },
    {
      "cell_type": "code",
      "source": [
        "sns.countplot(df_plot[\"Produto\"])"
      ],
      "metadata": {
        "colab": {
          "base_uri": "https://localhost:8080/",
          "height": 351
        },
        "id": "lUaPoT7IBLL_",
        "outputId": "2a0c847f-f395-48db-970b-5b70fb8db031"
      },
      "execution_count": null,
      "outputs": [
        {
          "output_type": "stream",
          "name": "stderr",
          "text": [
            "/usr/local/lib/python3.7/dist-packages/seaborn/_decorators.py:43: FutureWarning: Pass the following variable as a keyword arg: x. From version 0.12, the only valid positional argument will be `data`, and passing other arguments without an explicit keyword will result in an error or misinterpretation.\n",
            "  FutureWarning\n"
          ]
        },
        {
          "output_type": "execute_result",
          "data": {
            "text/plain": [
              "<matplotlib.axes._subplots.AxesSubplot at 0x7f0aad164b90>"
            ]
          },
          "metadata": {},
          "execution_count": 182
        },
        {
          "output_type": "display_data",
          "data": {
            "text/plain": [
              "<Figure size 432x288 with 1 Axes>"
            ],
            "image/png": "[encoded data removed]"
          },
          "metadata": {
            "needs_background": "light"
          }
        }
      ]
    },
    {
      "cell_type": "code",
      "source": [
        "sns.pairplot(df_plot, hue=\"Produto\")"
      ],
      "metadata": {
        "colab": {
          "base_uri": "https://localhost:8080/",
          "height": 743
        },
        "id": "wVmjo7gM766u",
        "outputId": "b66d5095-b1e9-4d16-ff1b-f0b0995d6be5"
      },
      "execution_count": null,
      "outputs": [
        {
          "output_type": "execute_result",
          "data": {
            "text/plain": [
              "<seaborn.axisgrid.PairGrid at 0x7f0aacdbc490>"
            ]
          },
          "metadata": {},
          "execution_count": 183
        },
        {
          "output_type": "display_data",
          "data": {
            "text/plain": [
              "<Figure size 826.625x720 with 20 Axes>"
            ],
            "image/png": "[encoded data removed]"
          },
          "metadata": {
            "needs_background": "light"
          }
        }
      ]
    },
    {
      "cell_type": "code",
      "source": [
        "df_plot_ = df_filtered[[\"XCOORD\", \"YCOORD\"]]\n",
        "\n",
        "sns.pairplot(df_plot_)\n"
      ],
      "metadata": {
        "colab": {
          "base_uri": "https://localhost:8080/",
          "height": 391
        },
        "id": "go18Xw8kEtAZ",
        "outputId": "a77e8e58-56dd-4937-aaff-0cd1f7b2c572"
      },
      "execution_count": null,
      "outputs": [
        {
          "output_type": "execute_result",
          "data": {
            "text/plain": [
              "<seaborn.axisgrid.PairGrid at 0x7f0aac5e5750>"
            ]
          },
          "metadata": {},
          "execution_count": 184
        },
        {
          "output_type": "display_data",
          "data": {
            "text/plain": [
              "<Figure size 360x360 with 6 Axes>"
            ],
            "image/png": "[encoded data removed]"
          },
          "metadata": {
            "needs_background": "light"
          }
        }
      ]
    },
    {
      "cell_type": "code",
      "source": [
        "df_plot = df_filtered[[\"Concluidas\", \"Entregues\", \"UH\", \"Valor\"]]\n",
        "df_correlacao = df_plot.corr()\n",
        "\n",
        "fig, ax = plt.subplots(figsize=(15, 10))\n",
        "sns.heatmap(df_correlacao, annot=True, ax=ax)"
      ],
      "metadata": {
        "colab": {
          "base_uri": "https://localhost:8080/",
          "height": 613
        },
        "id": "gRTSDQEbC0p3",
        "outputId": "812583d2-1d45-4c5b-c51f-210385e063a9"
      },
      "execution_count": null,
      "outputs": [
        {
          "output_type": "execute_result",
          "data": {
            "text/plain": [
              "<matplotlib.axes._subplots.AxesSubplot at 0x7f0aac4dc550>"
            ]
          },
          "metadata": {},
          "execution_count": 185
        },
        {
          "output_type": "display_data",
          "data": {
            "text/plain": [
              "<Figure size 1080x720 with 2 Axes>"
            ],
            "image/png": "[encoded data removed]"
          },
          "metadata": {
            "needs_background": "light"
          }
        }
      ]
    },
    {
      "cell_type": "code",
      "source": [
        "# Valor \n",
        "# UH\n",
        "X = df_filtered[[\"UH\"]]\n",
        "y = df_filtered[[\"Valor\"]]\n",
        "y"
      ],
      "metadata": {
        "colab": {
          "base_uri": "https://localhost:8080/",
          "height": 424
        },
        "id": "tzTTqtnAeQPX",
        "outputId": "7448c47a-1fea-4e48-cc09-6180786d31be"
      },
      "execution_count": null,
      "outputs": [
        {
          "output_type": "execute_result",
          "data": {
            "text/plain": [
              "            Valor\n",
              "1      14770500.0\n",
              "2      18329800.0\n",
              "21      5450000.0\n",
              "30     45104100.0\n",
              "31      9245000.0\n",
              "...           ...\n",
              "20224    110988.0\n",
              "20225   1410650.0\n",
              "20226    991098.0\n",
              "20227   4672700.0\n",
              "20228   4998960.0\n",
              "\n",
              "[14034 rows x 1 columns]"
            ],
            "text/html": [
              "\n",
              "  <div id=\"df-2a7e296a-9bb5-4a6b-9ce4-b2eb8d8c0705\">\n",
              "    <div class=\"colab-df-container\">\n",
              "      <div>\n",
              "<style scoped>\n",
              "    .dataframe tbody tr th:only-of-type {\n",
              "        vertical-align: middle;\n",
              "    }\n",
              "\n",
              "    .dataframe tbody tr th {\n",
              "        vertical-align: top;\n",
              "    }\n",
              "\n",
              "    .dataframe thead th {\n",
              "        text-align: right;\n",
              "    }\n",
              "</style>\n",
              "<table border=\"1\" class=\"dataframe\">\n",
              "  <thead>\n",
              "    <tr style=\"text-align: right;\">\n",
              "      <th></th>\n",
              "      <th>Valor</th>\n",
              "    </tr>\n",
              "  </thead>\n",
              "  <tbody>\n",
              "    <tr>\n",
              "      <th>1</th>\n",
              "      <td>14770500.0</td>\n",
              "    </tr>\n",
              "    <tr>\n",
              "      <th>2</th>\n",
              "      <td>18329800.0</td>\n",
              "    </tr>\n",
              "    <tr>\n",
              "      <th>21</th>\n",
              "      <td>5450000.0</td>\n",
              "    </tr>\n",
              "    <tr>\n",
              "      <th>30</th>\n",
              "      <td>45104100.0</td>\n",
              "    </tr>\n",
              "    <tr>\n",
              "      <th>31</th>\n",
              "      <td>9245000.0</td>\n",
              "    </tr>\n",
              "    <tr>\n",
              "      <th>...</th>\n",
              "      <td>...</td>\n",
              "    </tr>\n",
              "    <tr>\n",
              "      <th>20224</th>\n",
              "      <td>110988.0</td>\n",
              "    </tr>\n",
              "    <tr>\n",
              "      <th>20225</th>\n",
              "      <td>1410650.0</td>\n",
              "    </tr>\n",
              "    <tr>\n",
              "      <th>20226</th>\n",
              "      <td>991098.0</td>\n",
              "    </tr>\n",
              "    <tr>\n",
              "      <th>20227</th>\n",
              "      <td>4672700.0</td>\n",
              "    </tr>\n",
              "    <tr>\n",
              "      <th>20228</th>\n",
              "      <td>4998960.0</td>\n",
              "    </tr>\n",
              "  </tbody>\n",
              "</table>\n",
              "<p>14034 rows × 1 columns</p>\n",
              "</div>\n",
              "      <button class=\"colab-df-convert\" onclick=\"convertToInteractive('df-2a7e296a-9bb5-4a6b-9ce4-b2eb8d8c0705')\"\n",
              "              title=\"Convert this dataframe to an interactive table.\"\n",
              "              style=\"display:none;\">\n",
              "        \n",
              "  <svg xmlns=\"http://www.w3.org/2000/svg\" height=\"24px\"viewBox=\"0 0 24 24\"\n",
              "       width=\"24px\">\n",
              "    <path d=\"M0 0h24v24H0V0z\" fill=\"none\"/>\n",
              "    <path d=\"M18.56 5.44l.94 2.06.94-2.06 2.06-.94-2.06-.94-.94-2.06-.94 2.06-2.06.94zm-11 1L8.5 8.5l.94-2.06 2.06-.94-2.06-.94L8.5 2.5l-.94 2.06-2.06.94zm10 10l.94 2.06.94-2.06 2.06-.94-2.06-.94-.94-2.06-.94 2.06-2.06.94z\"/><path d=\"M17.41 7.96l-1.37-1.37c-.4-.4-.92-.59-1.43-.59-.52 0-1.04.2-1.43.59L10.3 9.45l-7.72 7.72c-.78.78-.78 2.05 0 2.83L4 21.41c.39.39.9.59 1.41.59.51 0 1.02-.2 1.41-.59l7.78-7.78 2.81-2.81c.8-.78.8-2.07 0-2.86zM5.41 20L4 18.59l7.72-7.72 1.47 1.35L5.41 20z\"/>\n",
              "  </svg>\n",
              "      </button>\n",
              "      \n",
              "  <style>\n",
              "    .colab-df-container {\n",
              "      display:flex;\n",
              "      flex-wrap:wrap;\n",
              "      gap: 12px;\n",
              "    }\n",
              "\n",
              "    .colab-df-convert {\n",
              "      background-color: #E8F0FE;\n",
              "      border: none;\n",
              "      border-radius: 50%;\n",
              "      cursor: pointer;\n",
              "      display: none;\n",
              "      fill: #1967D2;\n",
              "      height: 32px;\n",
              "      padding: 0 0 0 0;\n",
              "      width: 32px;\n",
              "    }\n",
              "\n",
              "    .colab-df-convert:hover {\n",
              "      background-color: #E2EBFA;\n",
              "      box-shadow: 0px 1px 2px rgba(60, 64, 67, 0.3), 0px 1px 3px 1px rgba(60, 64, 67, 0.15);\n",
              "      fill: #174EA6;\n",
              "    }\n",
              "\n",
              "    [theme=dark] .colab-df-convert {\n",
              "      background-color: #3B4455;\n",
              "      fill: #D2E3FC;\n",
              "    }\n",
              "\n",
              "    [theme=dark] .colab-df-convert:hover {\n",
              "      background-color: #434B5C;\n",
              "      box-shadow: 0px 1px 3px 1px rgba(0, 0, 0, 0.15);\n",
              "      filter: drop-shadow(0px 1px 2px rgba(0, 0, 0, 0.3));\n",
              "      fill: #FFFFFF;\n",
              "    }\n",
              "  </style>\n",
              "\n",
              "      <script>\n",
              "        const buttonEl =\n",
              "          document.querySelector('#df-2a7e296a-9bb5-4a6b-9ce4-b2eb8d8c0705 button.colab-df-convert');\n",
              "        buttonEl.style.display =\n",
              "          google.colab.kernel.accessAllowed ? 'block' : 'none';\n",
              "\n",
              "        async function convertToInteractive(key) {\n",
              "          const element = document.querySelector('#df-2a7e296a-9bb5-4a6b-9ce4-b2eb8d8c0705');\n",
              "          const dataTable =\n",
              "            await google.colab.kernel.invokeFunction('convertToInteractive',\n",
              "                                                     [key], {});\n",
              "          if (!dataTable) return;\n",
              "\n",
              "          const docLinkHtml = 'Like what you see? Visit the ' +\n",
              "            '<a target=\"_blank\" href=https://colab.research.google.com/notebooks/data_table.ipynb>data table notebook</a>'\n",
              "            + ' to learn more about interactive tables.';\n",
              "          element.innerHTML = '';\n",
              "          dataTable['output_type'] = 'display_data';\n",
              "          await google.colab.output.renderOutput(dataTable, element);\n",
              "          const docLink = document.createElement('div');\n",
              "          docLink.innerHTML = docLinkHtml;\n",
              "          element.appendChild(docLink);\n",
              "        }\n",
              "      </script>\n",
              "    </div>\n",
              "  </div>\n",
              "  "
            ]
          },
          "metadata": {},
          "execution_count": 186
        }
      ]
    },
    {
      "cell_type": "code",
      "source": [
        "X_train, X_test, y_train, y_test = train_test_split(X, y, test_size=0.3, random_state=1)"
      ],
      "metadata": {
        "id": "s_KY263agMwa"
      },
      "execution_count": null,
      "outputs": []
    },
    {
      "cell_type": "code",
      "source": [
        "modelo = LinearRegression()\n",
        "modelo.fit(X, y)"
      ],
      "metadata": {
        "colab": {
          "base_uri": "https://localhost:8080/"
        },
        "id": "wxuuaM9jgye-",
        "outputId": "f788b2b9-9da9-49b6-9f6c-95ce62f38282"
      },
      "execution_count": null,
      "outputs": [
        {
          "output_type": "execute_result",
          "data": {
            "text/plain": [
              "LinearRegression()"
            ]
          },
          "metadata": {},
          "execution_count": 188
        }
      ]
    },
    {
      "cell_type": "code",
      "source": [
        "a_coeff = modelo.coef_\n",
        "l_coeff = modelo.intercept_"
      ],
      "metadata": {
        "id": "DglKubZphb6P"
      },
      "execution_count": null,
      "outputs": []
    },
    {
      "cell_type": "code",
      "source": [
        "print(\"Coeficiente Angular: \"+ str(a_coeff))\n",
        "print(\"Coeficiente Linear: \"+ str(l_coeff))"
      ],
      "metadata": {
        "colab": {
          "base_uri": "https://localhost:8080/"
        },
        "id": "uLdo-lVThwbe",
        "outputId": "10cb7837-9082-49f3-a368-a2e7567f2972"
      },
      "execution_count": null,
      "outputs": [
        {
          "output_type": "stream",
          "name": "stdout",
          "text": [
            "Coeficiente Angular: [[56527.84186355]]\n",
            "Coeficiente Linear: [209921.68519239]\n"
          ]
        }
      ]
    },
    {
      "cell_type": "code",
      "source": [
        "fig, ax = plt.subplots(figsize=(5,5)) \n",
        "plt.scatter(X, y)\n",
        "plt.plot(X, l_coeff + a_coeff*X, color=\"red\")\n",
        "plt.xlabel('Unidades Habitacionais (UH)')\n",
        "plt.ylabel('Preço R$ 1.000.000')\n",
        "plt.show()"
      ],
      "metadata": {
        "colab": {
          "base_uri": "https://localhost:8080/",
          "height": 345
        },
        "id": "0YEMPrBjiYCz",
        "outputId": "3444fdd9-ab58-435d-851c-d51717328aa9"
      },
      "execution_count": null,
      "outputs": [
        {
          "output_type": "display_data",
          "data": {
            "text/plain": [
              "<Figure size 360x360 with 1 Axes>"
            ],
            "image/png": "[encoded data removed]"
          },
          "metadata": {
            "needs_background": "light"
          }
        }
      ]
    },
    {
      "cell_type": "markdown",
      "source": [
        "# **Regressão Logística**\n",
        "\n",
        "---\n"
      ],
      "metadata": {
        "id": "9ZtujxsJPdsl"
      }
    },
    {
      "cell_type": "code",
      "source": [
        "df_pmcmv = df[[\"UH\", \"Valor\", \"Sub_FGTS\", \"Sub_OGU\", \"PMCMV\"]]"
      ],
      "metadata": {
        "id": "z1p17wZsYgyo"
      },
      "execution_count": null,
      "outputs": []
    },
    {
      "cell_type": "code",
      "source": [
        "positive = df_pmcmv[df_pmcmv['PMCMV'].isin([1])]  \n",
        "negative = df_pmcmv[df_pmcmv['PMCMV'].isin([2])]\n",
        "\n",
        "fig, ax = plt.subplots(figsize=(6,6)) \n",
        "ax.scatter(positive['UH'], positive['Valor'], s=50, c='b', marker='o', label='Renda menor')  \n",
        "ax.scatter(negative['UH'], negative['Valor'], s=50, c='r', marker='x', label='Renda maior')  \n",
        "ax.legend()  \n",
        "ax.set_xlabel('UH')  \n",
        "ax.set_ylabel('Valor')  "
      ],
      "metadata": {
        "colab": {
          "base_uri": "https://localhost:8080/",
          "height": 416
        },
        "id": "1QXR3PlPYvVX",
        "outputId": "0fc8ace2-3de0-473b-a67a-85e920162754"
      },
      "execution_count": null,
      "outputs": [
        {
          "output_type": "execute_result",
          "data": {
            "text/plain": [
              "Text(0, 0.5, 'Valor')"
            ]
          },
          "metadata": {},
          "execution_count": 193
        },
        {
          "output_type": "display_data",
          "data": {
            "text/plain": [
              "<Figure size 432x432 with 1 Axes>"
            ],
            "image/png": "[encoded data removed]"
          },
          "metadata": {
            "needs_background": "light"
          }
        }
      ]
    },
    {
      "cell_type": "code",
      "source": [
        "# Divide em treino e teste 70-30\n",
        "X = df_pmcmv[[\"Sub_FGTS\", \"Sub_OGU\"]].values\n",
        "y = df_pmcmv[[\"PMCMV\"]].values\n",
        "\n",
        "# Definindo valores que serão utilizados\n",
        "# Scaling\n",
        "sc_x = StandardScaler()\n",
        "sc_y = StandardScaler()\n",
        "\n",
        "x_std = sc_x.fit_transform(X)\n",
        "X_train, X_test, y_train, y_test = train_test_split(X, y, test_size=0.30, random_state=0)\n",
        "\n",
        "y_test\n"
      ],
      "metadata": {
        "colab": {
          "base_uri": "https://localhost:8080/"
        },
        "id": "hwRYm7p_b9Z4",
        "outputId": "6dd6936d-09ae-44fc-915c-39ca17036b87"
      },
      "execution_count": null,
      "outputs": [
        {
          "output_type": "execute_result",
          "data": {
            "text/plain": [
              "array([[1],\n",
              "       [1],\n",
              "       [1],\n",
              "       ...,\n",
              "       [2],\n",
              "       [1],\n",
              "       [2]])"
            ]
          },
          "metadata": {},
          "execution_count": 194
        }
      ]
    },
    {
      "cell_type": "code",
      "source": [
        "logit = LogisticRegression()\n",
        "# treina o modelo\n",
        "logit.fit(X_train, y_train)"
      ],
      "metadata": {
        "colab": {
          "base_uri": "https://localhost:8080/"
        },
        "id": "UlT0wjTgfWj2",
        "outputId": "a904fc74-c126-43f2-cbc2-949e6d8c51a6"
      },
      "execution_count": null,
      "outputs": [
        {
          "output_type": "stream",
          "name": "stderr",
          "text": [
            "/usr/local/lib/python3.7/dist-packages/sklearn/utils/validation.py:993: DataConversionWarning: A column-vector y was passed when a 1d array was expected. Please change the shape of y to (n_samples, ), for example using ravel().\n",
            "  y = column_or_1d(y, warn=True)\n"
          ]
        },
        {
          "output_type": "execute_result",
          "data": {
            "text/plain": [
              "LogisticRegression()"
            ]
          },
          "metadata": {},
          "execution_count": 195
        }
      ]
    },
    {
      "cell_type": "code",
      "source": [
        "# faz predicao e salva em y_pred\n",
        "y_pred = logit.predict(X_test)\n",
        "y_pred"
      ],
      "metadata": {
        "colab": {
          "base_uri": "https://localhost:8080/"
        },
        "id": "497kn8JUgYo7",
        "outputId": "d728c518-e30e-4c44-b1e0-65c9dc86ecdf"
      },
      "execution_count": null,
      "outputs": [
        {
          "output_type": "execute_result",
          "data": {
            "text/plain": [
              "array([1, 1, 1, ..., 2, 1, 1])"
            ]
          },
          "metadata": {},
          "execution_count": 196
        }
      ]
    },
    {
      "cell_type": "code",
      "source": [
        "# acuracia\n",
        "logit.score(X_test, y_test)\n",
        "\n",
        "# matriz de confusao\n",
        "print(confusion_matrix(y_test, y_pred))\n",
        "\n",
        "# outras metricas\n",
        "print(classification_report(y_test, y_pred))"
      ],
      "metadata": {
        "colab": {
          "base_uri": "https://localhost:8080/"
        },
        "id": "wdBeWnbLlxzY",
        "outputId": "982e5099-d1d5-44d6-ecae-f858c711b6f0"
      },
      "execution_count": null,
      "outputs": [
        {
          "output_type": "stream",
          "name": "stdout",
          "text": [
            "[[3282    0]\n",
            " [ 562 2225]]\n",
            "              precision    recall  f1-score   support\n",
            "\n",
            "           1       0.85      1.00      0.92      3282\n",
            "           2       1.00      0.80      0.89      2787\n",
            "\n",
            "    accuracy                           0.91      6069\n",
            "   macro avg       0.93      0.90      0.90      6069\n",
            "weighted avg       0.92      0.91      0.91      6069\n",
            "\n"
          ]
        }
      ]
    },
    {
      "cell_type": "code",
      "source": [
        "# Visualizando matriz de confusão\n",
        "confusion_matrix = pd.crosstab(y_test.flatten(), y_pred, rownames=['Atual'], colnames=['Predito'])\n",
        "\n",
        "fig, ax = plt.subplots(figsize=(15, 10))\n",
        "sns.heatmap(confusion_matrix, annot=True, ax=ax)"
      ],
      "metadata": {
        "colab": {
          "base_uri": "https://localhost:8080/",
          "height": 623
        },
        "id": "s8uBAyc_cQdd",
        "outputId": "f196cefe-299c-413c-c4d6-be9ce22a7ccb"
      },
      "execution_count": null,
      "outputs": [
        {
          "output_type": "execute_result",
          "data": {
            "text/plain": [
              "<matplotlib.axes._subplots.AxesSubplot at 0x7f0aac493050>"
            ]
          },
          "metadata": {},
          "execution_count": 198
        },
        {
          "output_type": "display_data",
          "data": {
            "text/plain": [
              "<Figure size 1080x720 with 2 Axes>"
            ],
            "image/png": "[encoded data removed]"
          },
          "metadata": {
            "needs_background": "light"
          }
        }
      ]
    },
    {
      "cell_type": "code",
      "source": [
        "from sklearn.metrics import classification_report\n",
        "from sklearn import metrics\n",
        "\n",
        "print(classification_report(y_test, y_pred))"
      ],
      "metadata": {
        "colab": {
          "base_uri": "https://localhost:8080/"
        },
        "id": "NDpOf629qBJU",
        "outputId": "5aa434ff-a109-4d80-d7ea-0081859575d5"
      },
      "execution_count": null,
      "outputs": [
        {
          "output_type": "stream",
          "name": "stdout",
          "text": [
            "              precision    recall  f1-score   support\n",
            "\n",
            "           1       0.85      1.00      0.92      3282\n",
            "           2       1.00      0.80      0.89      2787\n",
            "\n",
            "    accuracy                           0.91      6069\n",
            "   macro avg       0.93      0.90      0.90      6069\n",
            "weighted avg       0.92      0.91      0.91      6069\n",
            "\n"
          ]
        }
      ]
    },
    {
      "cell_type": "code",
      "source": [
        "logisticRegression = LogisticRegression()\n",
        "\n",
        "logisticRegression.fit(X_train, y_train)\n",
        "\n",
        "score = logisticRegression.score(X_test, y_test)\n",
        "\n",
        "print(\"Acurácia geral: \", score)"
      ],
      "metadata": {
        "colab": {
          "base_uri": "https://localhost:8080/"
        },
        "id": "5ddHkpbBqEYE",
        "outputId": "e143eb89-06ee-4549-87a7-ce5ecfe56276"
      },
      "execution_count": null,
      "outputs": [
        {
          "output_type": "stream",
          "name": "stdout",
          "text": [
            "Acurácia geral:  0.9073982534190147\n"
          ]
        },
        {
          "output_type": "stream",
          "name": "stderr",
          "text": [
            "/usr/local/lib/python3.7/dist-packages/sklearn/utils/validation.py:993: DataConversionWarning: A column-vector y was passed when a 1d array was expected. Please change the shape of y to (n_samples, ), for example using ravel().\n",
            "  y = column_or_1d(y, warn=True)\n"
          ]
        }
      ]
    },
    {
      "cell_type": "markdown",
      "source": [
        "# Regressão Logistica Faixa de Renda"
      ],
      "metadata": {
        "id": "YrhlWPPfmFcM"
      }
    },
    {
      "cell_type": "code",
      "source": [
        "df_pmcmv = df[[\"UH\", \"Valor\", \"Sub_FGTS\", \"Sub_OGU\", \"PMCMV\", \"XCOORD\", \"YCOORD\", \"Faixa_de_r\", \"Produto\"]]"
      ],
      "metadata": {
        "id": "bDsmFGIElgc7"
      },
      "execution_count": null,
      "outputs": []
    },
    {
      "cell_type": "code",
      "source": [
        "def faixa_de_renda(data):\n",
        "    if data == \"Faixa 1\":\n",
        "      return int(1)\n",
        "    if data == \"Faixa 2\":\n",
        "      return int(2)\n",
        "    if data == \"Faixa 3\":\n",
        "      return int(3)\n",
        "    # return int(0)        \n",
        "\n",
        "df_pmcmv[\"faixa_de_renda\"] = df_pmcmv[\"Faixa_de_r\"].apply(faixa_de_renda)\n"
      ],
      "metadata": {
        "colab": {
          "base_uri": "https://localhost:8080/"
        },
        "id": "Rm-TOMwhoPpp",
        "outputId": "e96fd953-3110-4330-f060-c8bac8e22979"
      },
      "execution_count": null,
      "outputs": [
        {
          "output_type": "stream",
          "name": "stderr",
          "text": [
            "/usr/local/lib/python3.7/dist-packages/ipykernel_launcher.py:10: SettingWithCopyWarning: \n",
            "A value is trying to be set on a copy of a slice from a DataFrame.\n",
            "Try using .loc[row_indexer,col_indexer] = value instead\n",
            "\n",
            "See the caveats in the documentation: https://pandas.pydata.org/pandas-docs/stable/user_guide/indexing.html#returning-a-view-versus-a-copy\n",
            "  # Remove the CWD from sys.path while we load stuff.\n"
          ]
        }
      ]
    },
    {
      "cell_type": "code",
      "source": [
        "valor_por_uh = []\n",
        "for line in df_pmcmv.index:\n",
        "  valor_por_uh.append(df_pmcmv[\"Valor\"][line]/df_pmcmv[\"UH\"][line])\n",
        "\n",
        "df_pmcmv[\"valor_por_uh\"] = valor_por_uh\n",
        "df_pmcmv"
      ],
      "metadata": {
        "colab": {
          "base_uri": "https://localhost:8080/",
          "height": 528
        },
        "id": "MsoRNjw7u2so",
        "outputId": "ee8db56d-ec07-4f90-b98e-bbd19371f71f"
      },
      "execution_count": null,
      "outputs": [
        {
          "output_type": "stream",
          "name": "stderr",
          "text": [
            "/usr/local/lib/python3.7/dist-packages/ipykernel_launcher.py:5: SettingWithCopyWarning: \n",
            "A value is trying to be set on a copy of a slice from a DataFrame.\n",
            "Try using .loc[row_indexer,col_indexer] = value instead\n",
            "\n",
            "See the caveats in the documentation: https://pandas.pydata.org/pandas-docs/stable/user_guide/indexing.html#returning-a-view-versus-a-copy\n",
            "  \"\"\"\n"
          ]
        },
        {
          "output_type": "execute_result",
          "data": {
            "text/plain": [
              "        UH       Valor   Sub_FGTS    Sub_OGU  PMCMV   XCOORD    YCOORD  \\\n",
              "0       40   5200000.0        0.0       0.00      1 -47.9297 -15.77970   \n",
              "1      166  14770500.0        0.0       0.00      1 -47.9297 -15.77970   \n",
              "2      198  18329800.0        0.0       0.00      2 -47.9297 -15.77970   \n",
              "3      416  22019400.0  1378130.0  459376.00      2 -47.9297 -15.77970   \n",
              "4      100  11686100.0        0.0       0.00      1 -47.9297 -15.77970   \n",
              "...    ...         ...        ...        ...    ...      ...       ...   \n",
              "20224    2    110988.0    21959.5    7319.84      2 -61.9953 -11.92830   \n",
              "20225   23   1410650.0        0.0       0.00      1 -63.0325  -9.90571   \n",
              "20226   18    991098.0   322002.0  107334.00      2 -63.0325  -9.90571   \n",
              "20227   61   4672700.0        0.0       0.00      1 -63.0325  -9.90571   \n",
              "20228   68   4998960.0   834279.0  278093.00      2 -63.0325  -9.90571   \n",
              "\n",
              "      Faixa_de_r Produto  faixa_de_renda   valor_por_uh  \n",
              "0        Faixa 3  CCFGTS               3  130000.000000  \n",
              "1        Faixa 3  CCFGTS               3   88978.915663  \n",
              "2        Faixa 3  CCFGTS               3   92574.747475  \n",
              "3        Faixa 2  CCFGTS               2   52931.250000  \n",
              "4        Faixa 2  CCFGTS               2  116861.000000  \n",
              "...          ...     ...             ...            ...  \n",
              "20224    Faixa 2  CCFGTS               2   55494.000000  \n",
              "20225    Faixa 1  CCFGTS               1   61332.608696  \n",
              "20226    Faixa 1  CCFGTS               1   55061.000000  \n",
              "20227    Faixa 2  CCFGTS               2   76601.639344  \n",
              "20228    Faixa 2  CCFGTS               2   73514.117647  \n",
              "\n",
              "[20229 rows x 11 columns]"
            ],
            "text/html": [
              "\n",
              "  <div id=\"df-a6806a72-35d0-46c8-a758-c0ebf5c5289d\">\n",
              "    <div class=\"colab-df-container\">\n",
              "      <div>\n",
              "<style scoped>\n",
              "    .dataframe tbody tr th:only-of-type {\n",
              "        vertical-align: middle;\n",
              "    }\n",
              "\n",
              "    .dataframe tbody tr th {\n",
              "        vertical-align: top;\n",
              "    }\n",
              "\n",
              "    .dataframe thead th {\n",
              "        text-align: right;\n",
              "    }\n",
              "</style>\n",
              "<table border=\"1\" class=\"dataframe\">\n",
              "  <thead>\n",
              "    <tr style=\"text-align: right;\">\n",
              "      <th></th>\n",
              "      <th>UH</th>\n",
              "      <th>Valor</th>\n",
              "      <th>Sub_FGTS</th>\n",
              "      <th>Sub_OGU</th>\n",
              "      <th>PMCMV</th>\n",
              "      <th>XCOORD</th>\n",
              "      <th>YCOORD</th>\n",
              "      <th>Faixa_de_r</th>\n",
              "      <th>Produto</th>\n",
              "      <th>faixa_de_renda</th>\n",
              "      <th>valor_por_uh</th>\n",
              "    </tr>\n",
              "  </thead>\n",
              "  <tbody>\n",
              "    <tr>\n",
              "      <th>0</th>\n",
              "      <td>40</td>\n",
              "      <td>5200000.0</td>\n",
              "      <td>0.0</td>\n",
              "      <td>0.00</td>\n",
              "      <td>1</td>\n",
              "      <td>-47.9297</td>\n",
              "      <td>-15.77970</td>\n",
              "      <td>Faixa 3</td>\n",
              "      <td>CCFGTS</td>\n",
              "      <td>3</td>\n",
              "      <td>130000.000000</td>\n",
              "    </tr>\n",
              "    <tr>\n",
              "      <th>1</th>\n",
              "      <td>166</td>\n",
              "      <td>14770500.0</td>\n",
              "      <td>0.0</td>\n",
              "      <td>0.00</td>\n",
              "      <td>1</td>\n",
              "      <td>-47.9297</td>\n",
              "      <td>-15.77970</td>\n",
              "      <td>Faixa 3</td>\n",
              "      <td>CCFGTS</td>\n",
              "      <td>3</td>\n",
              "      <td>88978.915663</td>\n",
              "    </tr>\n",
              "    <tr>\n",
              "      <th>2</th>\n",
              "      <td>198</td>\n",
              "      <td>18329800.0</td>\n",
              "      <td>0.0</td>\n",
              "      <td>0.00</td>\n",
              "      <td>2</td>\n",
              "      <td>-47.9297</td>\n",
              "      <td>-15.77970</td>\n",
              "      <td>Faixa 3</td>\n",
              "      <td>CCFGTS</td>\n",
              "      <td>3</td>\n",
              "      <td>92574.747475</td>\n",
              "    </tr>\n",
              "    <tr>\n",
              "      <th>3</th>\n",
              "      <td>416</td>\n",
              "      <td>22019400.0</td>\n",
              "      <td>1378130.0</td>\n",
              "      <td>459376.00</td>\n",
              "      <td>2</td>\n",
              "      <td>-47.9297</td>\n",
              "      <td>-15.77970</td>\n",
              "      <td>Faixa 2</td>\n",
              "      <td>CCFGTS</td>\n",
              "      <td>2</td>\n",
              "      <td>52931.250000</td>\n",
              "    </tr>\n",
              "    <tr>\n",
              "      <th>4</th>\n",
              "      <td>100</td>\n",
              "      <td>11686100.0</td>\n",
              "      <td>0.0</td>\n",
              "      <td>0.00</td>\n",
              "      <td>1</td>\n",
              "      <td>-47.9297</td>\n",
              "      <td>-15.77970</td>\n",
              "      <td>Faixa 2</td>\n",
              "      <td>CCFGTS</td>\n",
              "      <td>2</td>\n",
              "      <td>116861.000000</td>\n",
              "    </tr>\n",
              "    <tr>\n",
              "      <th>...</th>\n",
              "      <td>...</td>\n",
              "      <td>...</td>\n",
              "      <td>...</td>\n",
              "      <td>...</td>\n",
              "      <td>...</td>\n",
              "      <td>...</td>\n",
              "      <td>...</td>\n",
              "      <td>...</td>\n",
              "      <td>...</td>\n",
              "      <td>...</td>\n",
              "      <td>...</td>\n",
              "    </tr>\n",
              "    <tr>\n",
              "      <th>20224</th>\n",
              "      <td>2</td>\n",
              "      <td>110988.0</td>\n",
              "      <td>21959.5</td>\n",
              "      <td>7319.84</td>\n",
              "      <td>2</td>\n",
              "      <td>-61.9953</td>\n",
              "      <td>-11.92830</td>\n",
              "      <td>Faixa 2</td>\n",
              "      <td>CCFGTS</td>\n",
              "      <td>2</td>\n",
              "      <td>55494.000000</td>\n",
              "    </tr>\n",
              "    <tr>\n",
              "      <th>20225</th>\n",
              "      <td>23</td>\n",
              "      <td>1410650.0</td>\n",
              "      <td>0.0</td>\n",
              "      <td>0.00</td>\n",
              "      <td>1</td>\n",
              "      <td>-63.0325</td>\n",
              "      <td>-9.90571</td>\n",
              "      <td>Faixa 1</td>\n",
              "      <td>CCFGTS</td>\n",
              "      <td>1</td>\n",
              "      <td>61332.608696</td>\n",
              "    </tr>\n",
              "    <tr>\n",
              "      <th>20226</th>\n",
              "      <td>18</td>\n",
              "      <td>991098.0</td>\n",
              "      <td>322002.0</td>\n",
              "      <td>107334.00</td>\n",
              "      <td>2</td>\n",
              "      <td>-63.0325</td>\n",
              "      <td>-9.90571</td>\n",
              "      <td>Faixa 1</td>\n",
              "      <td>CCFGTS</td>\n",
              "      <td>1</td>\n",
              "      <td>55061.000000</td>\n",
              "    </tr>\n",
              "    <tr>\n",
              "      <th>20227</th>\n",
              "      <td>61</td>\n",
              "      <td>4672700.0</td>\n",
              "      <td>0.0</td>\n",
              "      <td>0.00</td>\n",
              "      <td>1</td>\n",
              "      <td>-63.0325</td>\n",
              "      <td>-9.90571</td>\n",
              "      <td>Faixa 2</td>\n",
              "      <td>CCFGTS</td>\n",
              "      <td>2</td>\n",
              "      <td>76601.639344</td>\n",
              "    </tr>\n",
              "    <tr>\n",
              "      <th>20228</th>\n",
              "      <td>68</td>\n",
              "      <td>4998960.0</td>\n",
              "      <td>834279.0</td>\n",
              "      <td>278093.00</td>\n",
              "      <td>2</td>\n",
              "      <td>-63.0325</td>\n",
              "      <td>-9.90571</td>\n",
              "      <td>Faixa 2</td>\n",
              "      <td>CCFGTS</td>\n",
              "      <td>2</td>\n",
              "      <td>73514.117647</td>\n",
              "    </tr>\n",
              "  </tbody>\n",
              "</table>\n",
              "<p>20229 rows × 11 columns</p>\n",
              "</div>\n",
              "      <button class=\"colab-df-convert\" onclick=\"convertToInteractive('df-a6806a72-35d0-46c8-a758-c0ebf5c5289d')\"\n",
              "              title=\"Convert this dataframe to an interactive table.\"\n",
              "              style=\"display:none;\">\n",
              "        \n",
              "  <svg xmlns=\"http://www.w3.org/2000/svg\" height=\"24px\"viewBox=\"0 0 24 24\"\n",
              "       width=\"24px\">\n",
              "    <path d=\"M0 0h24v24H0V0z\" fill=\"none\"/>\n",
              "    <path d=\"M18.56 5.44l.94 2.06.94-2.06 2.06-.94-2.06-.94-.94-2.06-.94 2.06-2.06.94zm-11 1L8.5 8.5l.94-2.06 2.06-.94-2.06-.94L8.5 2.5l-.94 2.06-2.06.94zm10 10l.94 2.06.94-2.06 2.06-.94-2.06-.94-.94-2.06-.94 2.06-2.06.94z\"/><path d=\"M17.41 7.96l-1.37-1.37c-.4-.4-.92-.59-1.43-.59-.52 0-1.04.2-1.43.59L10.3 9.45l-7.72 7.72c-.78.78-.78 2.05 0 2.83L4 21.41c.39.39.9.59 1.41.59.51 0 1.02-.2 1.41-.59l7.78-7.78 2.81-2.81c.8-.78.8-2.07 0-2.86zM5.41 20L4 18.59l7.72-7.72 1.47 1.35L5.41 20z\"/>\n",
              "  </svg>\n",
              "      </button>\n",
              "      \n",
              "  <style>\n",
              "    .colab-df-container {\n",
              "      display:flex;\n",
              "      flex-wrap:wrap;\n",
              "      gap: 12px;\n",
              "    }\n",
              "\n",
              "    .colab-df-convert {\n",
              "      background-color: #E8F0FE;\n",
              "      border: none;\n",
              "      border-radius: 50%;\n",
              "      cursor: pointer;\n",
              "      display: none;\n",
              "      fill: #1967D2;\n",
              "      height: 32px;\n",
              "      padding: 0 0 0 0;\n",
              "      width: 32px;\n",
              "    }\n",
              "\n",
              "    .colab-df-convert:hover {\n",
              "      background-color: #E2EBFA;\n",
              "      box-shadow: 0px 1px 2px rgba(60, 64, 67, 0.3), 0px 1px 3px 1px rgba(60, 64, 67, 0.15);\n",
              "      fill: #174EA6;\n",
              "    }\n",
              "\n",
              "    [theme=dark] .colab-df-convert {\n",
              "      background-color: #3B4455;\n",
              "      fill: #D2E3FC;\n",
              "    }\n",
              "\n",
              "    [theme=dark] .colab-df-convert:hover {\n",
              "      background-color: #434B5C;\n",
              "      box-shadow: 0px 1px 3px 1px rgba(0, 0, 0, 0.15);\n",
              "      filter: drop-shadow(0px 1px 2px rgba(0, 0, 0, 0.3));\n",
              "      fill: #FFFFFF;\n",
              "    }\n",
              "  </style>\n",
              "\n",
              "      <script>\n",
              "        const buttonEl =\n",
              "          document.querySelector('#df-a6806a72-35d0-46c8-a758-c0ebf5c5289d button.colab-df-convert');\n",
              "        buttonEl.style.display =\n",
              "          google.colab.kernel.accessAllowed ? 'block' : 'none';\n",
              "\n",
              "        async function convertToInteractive(key) {\n",
              "          const element = document.querySelector('#df-a6806a72-35d0-46c8-a758-c0ebf5c5289d');\n",
              "          const dataTable =\n",
              "            await google.colab.kernel.invokeFunction('convertToInteractive',\n",
              "                                                     [key], {});\n",
              "          if (!dataTable) return;\n",
              "\n",
              "          const docLinkHtml = 'Like what you see? Visit the ' +\n",
              "            '<a target=\"_blank\" href=https://colab.research.google.com/notebooks/data_table.ipynb>data table notebook</a>'\n",
              "            + ' to learn more about interactive tables.';\n",
              "          element.innerHTML = '';\n",
              "          dataTable['output_type'] = 'display_data';\n",
              "          await google.colab.output.renderOutput(dataTable, element);\n",
              "          const docLink = document.createElement('div');\n",
              "          docLink.innerHTML = docLinkHtml;\n",
              "          element.appendChild(docLink);\n",
              "        }\n",
              "      </script>\n",
              "    </div>\n",
              "  </div>\n",
              "  "
            ]
          },
          "metadata": {},
          "execution_count": 203
        }
      ]
    },
    {
      "cell_type": "code",
      "source": [
        "def produto_tipo(data):\n",
        "    if data == \"CCFGTS\":\n",
        "      return int(1)\n",
        "    if data == \"Entidades\":\n",
        "      return int(2)\n",
        "    if data == \"Oferta Publica\":\n",
        "      return int(3)\n",
        "    if data ==  \"FAR\":\n",
        "      return int(4)\n",
        "    if data ==  \"Rural\":\n",
        "      return int(5)\n",
        "    else:\n",
        "      return int(0)        \n",
        "\n",
        "df_pmcmv[\"produto_tipo\"] = df_pmcmv[\"Produto\"].apply(produto_tipo)"
      ],
      "metadata": {
        "colab": {
          "base_uri": "https://localhost:8080/"
        },
        "id": "8EkeL6XQx3QH",
        "outputId": "0dca0f72-383b-475e-a679-6b0730eff738"
      },
      "execution_count": null,
      "outputs": [
        {
          "output_type": "stream",
          "name": "stderr",
          "text": [
            "/usr/local/lib/python3.7/dist-packages/ipykernel_launcher.py:15: SettingWithCopyWarning: \n",
            "A value is trying to be set on a copy of a slice from a DataFrame.\n",
            "Try using .loc[row_indexer,col_indexer] = value instead\n",
            "\n",
            "See the caveats in the documentation: https://pandas.pydata.org/pandas-docs/stable/user_guide/indexing.html#returning-a-view-versus-a-copy\n",
            "  from ipykernel import kernelapp as app\n"
          ]
        }
      ]
    },
    {
      "cell_type": "code",
      "source": [
        "menor = df_pmcmv[df_pmcmv['faixa_de_renda'].isin([1])]  \n",
        "medio = df_pmcmv[df_pmcmv['faixa_de_renda'].isin([2])]\n",
        "maior = df_pmcmv[df_pmcmv['faixa_de_renda'].isin([3])]\n",
        "\n",
        "fig, ax = plt.subplots(figsize=(6,6)) \n",
        "ax.scatter(menor['UH'], menor['valor_por_uh'], s=50, c='b', marker='o', label='Renda menor')  \n",
        "ax.scatter(medio['UH'], medio['valor_por_uh'], s=50, c='r', marker='x', label='Renda média')  \n",
        "ax.scatter(maior['UH'], maior['valor_por_uh'], s=50, c='#ffff00', marker='o', label='Renda maior')  \n",
        "ax.legend()  \n",
        "ax.set_xlabel('UH')  \n",
        "ax.set_ylabel('Valor')  "
      ],
      "metadata": {
        "colab": {
          "base_uri": "https://localhost:8080/",
          "height": 416
        },
        "id": "FO0P0kqMmEwW",
        "outputId": "a7e2d761-9c7d-4c93-f43d-4d05a6c3d69d"
      },
      "execution_count": null,
      "outputs": [
        {
          "output_type": "execute_result",
          "data": {
            "text/plain": [
              "Text(0, 0.5, 'Valor')"
            ]
          },
          "metadata": {},
          "execution_count": 205
        },
        {
          "output_type": "display_data",
          "data": {
            "text/plain": [
              "<Figure size 432x432 with 1 Axes>"
            ],
            "image/png": "[encoded data removed]"
          },
          "metadata": {
            "needs_background": "light"
          }
        }
      ]
    },
    {
      "cell_type": "code",
      "source": [
        "menor = df_pmcmv[df_pmcmv['faixa_de_renda'].isin([1])]  \n",
        "medio = df_pmcmv[df_pmcmv['faixa_de_renda'].isin([2])]\n",
        "maior = df_pmcmv[df_pmcmv['faixa_de_renda'].isin([3])]\n",
        "\n",
        "fig, ax = plt.subplots(figsize=(6,6)) \n",
        "ax.scatter(menor['XCOORD'], menor['YCOORD'], s=50, c='b', marker='o', label='Renda menor')  \n",
        "ax.scatter(medio['XCOORD'], medio['YCOORD'], s=50, c='r', marker='x', label='Renda média')  \n",
        "ax.scatter(maior['XCOORD'], maior['YCOORD'], s=50, c='#ffff00', marker='x', label='Renda maior')  \n",
        "ax.legend()  \n",
        "ax.set_xlabel('X')  \n",
        "ax.set_ylabel('Y')  "
      ],
      "metadata": {
        "colab": {
          "base_uri": "https://localhost:8080/",
          "height": 407
        },
        "id": "Eu1BhP8ZpjOP",
        "outputId": "61ea7d49-c780-4ac1-c995-bb588a673e6a"
      },
      "execution_count": null,
      "outputs": [
        {
          "output_type": "execute_result",
          "data": {
            "text/plain": [
              "Text(0, 0.5, 'Y')"
            ]
          },
          "metadata": {},
          "execution_count": 206
        },
        {
          "output_type": "display_data",
          "data": {
            "text/plain": [
              "<Figure size 432x432 with 1 Axes>"
            ],
            "image/png": "[encoded data removed]"
          },
          "metadata": {
            "needs_background": "light"
          }
        }
      ]
    },
    {
      "cell_type": "code",
      "source": [
        "# Divide em treino e teste 70-30\n",
        "X = df_pmcmv[[\"XCOORD\",\"valor_por_uh\", \"produto_tipo\"]].values\n",
        "y = df_pmcmv[[\"faixa_de_renda\"]].values\n",
        "\n",
        "# Definindo valores que serão utilizados\n",
        "# Scaling\n",
        "sc_x = StandardScaler()\n",
        "sc_y = StandardScaler()\n",
        "\n",
        "x_std = sc_x.fit_transform(X)\n",
        "X_train, X_test, y_train, y_test = train_test_split(X, y, test_size=0.4)\n",
        "\n",
        "X_test\n"
      ],
      "metadata": {
        "colab": {
          "base_uri": "https://localhost:8080/"
        },
        "id": "Jo44BZg7mFIx",
        "outputId": "d73fe816-f138-4158-c2ec-dd8ab0432f3c"
      },
      "execution_count": null,
      "outputs": [
        {
          "output_type": "execute_result",
          "data": {
            "text/plain": [
              "array([[-4.40805000e+01,  1.01250000e+05,  1.00000000e+00],\n",
              "       [-4.97080000e+01,  5.22278333e+04,  1.00000000e+00],\n",
              "       [-4.67526000e+01,  8.46775472e+04,  1.00000000e+00],\n",
              "       ...,\n",
              "       [-5.26783000e+01,  4.90000000e+04,  4.00000000e+00],\n",
              "       [-4.21026000e+01,  8.08226667e+04,  1.00000000e+00],\n",
              "       [-4.11371000e+01,  6.75000000e+04,  1.00000000e+00]])"
            ]
          },
          "metadata": {},
          "execution_count": 207
        }
      ]
    },
    {
      "cell_type": "code",
      "source": [
        "logit = LogisticRegression()\n",
        "# treina o modelo\n",
        "logit.fit(X_train, y_train)"
      ],
      "metadata": {
        "colab": {
          "base_uri": "https://localhost:8080/"
        },
        "id": "0Jj3voaBmPjQ",
        "outputId": "c722a51c-85f1-4181-b20c-ddb1897322d7"
      },
      "execution_count": null,
      "outputs": [
        {
          "output_type": "stream",
          "name": "stderr",
          "text": [
            "/usr/local/lib/python3.7/dist-packages/sklearn/utils/validation.py:993: DataConversionWarning: A column-vector y was passed when a 1d array was expected. Please change the shape of y to (n_samples, ), for example using ravel().\n",
            "  y = column_or_1d(y, warn=True)\n"
          ]
        },
        {
          "output_type": "execute_result",
          "data": {
            "text/plain": [
              "LogisticRegression()"
            ]
          },
          "metadata": {},
          "execution_count": 208
        }
      ]
    },
    {
      "cell_type": "code",
      "source": [
        "# faz predicao e salva em y_pred\n",
        "y_pred = logit.predict(X_test)\n",
        "y_pred"
      ],
      "metadata": {
        "colab": {
          "base_uri": "https://localhost:8080/"
        },
        "id": "rdhc4_yzmSih",
        "outputId": "acd25741-28e3-407c-b1b4-678191b8b111"
      },
      "execution_count": null,
      "outputs": [
        {
          "output_type": "execute_result",
          "data": {
            "text/plain": [
              "array([2, 1, 2, ..., 1, 2, 2])"
            ]
          },
          "metadata": {},
          "execution_count": 209
        }
      ]
    },
    {
      "cell_type": "code",
      "source": [
        "from sklearn.metrics import confusion_matrix, classification_report\n",
        "\n",
        "# acuracia\n",
        "logit.score(X_test, y_test)\n",
        "\n",
        "# matriz de confusao\n",
        "print(confusion_matrix(y_test, y_pred))\n",
        "\n",
        "# outras metricas\n",
        "print(classification_report(y_test, y_pred))"
      ],
      "metadata": {
        "colab": {
          "base_uri": "https://localhost:8080/"
        },
        "id": "GQD9VEQymhoS",
        "outputId": "a49ede28-29d7-42c8-82b1-e2028b6b70a0"
      },
      "execution_count": null,
      "outputs": [
        {
          "output_type": "stream",
          "name": "stdout",
          "text": [
            "[[3370  864    0]\n",
            " [ 751 2154    0]\n",
            " [ 264  689    0]]\n",
            "              precision    recall  f1-score   support\n",
            "\n",
            "           1       0.77      0.80      0.78      4234\n",
            "           2       0.58      0.74      0.65      2905\n",
            "           3       0.00      0.00      0.00       953\n",
            "\n",
            "    accuracy                           0.68      8092\n",
            "   macro avg       0.45      0.51      0.48      8092\n",
            "weighted avg       0.61      0.68      0.64      8092\n",
            "\n"
          ]
        },
        {
          "output_type": "stream",
          "name": "stderr",
          "text": [
            "/usr/local/lib/python3.7/dist-packages/sklearn/metrics/_classification.py:1318: UndefinedMetricWarning: Precision and F-score are ill-defined and being set to 0.0 in labels with no predicted samples. Use `zero_division` parameter to control this behavior.\n",
            "  _warn_prf(average, modifier, msg_start, len(result))\n",
            "/usr/local/lib/python3.7/dist-packages/sklearn/metrics/_classification.py:1318: UndefinedMetricWarning: Precision and F-score are ill-defined and being set to 0.0 in labels with no predicted samples. Use `zero_division` parameter to control this behavior.\n",
            "  _warn_prf(average, modifier, msg_start, len(result))\n",
            "/usr/local/lib/python3.7/dist-packages/sklearn/metrics/_classification.py:1318: UndefinedMetricWarning: Precision and F-score are ill-defined and being set to 0.0 in labels with no predicted samples. Use `zero_division` parameter to control this behavior.\n",
            "  _warn_prf(average, modifier, msg_start, len(result))\n"
          ]
        }
      ]
    },
    {
      "cell_type": "code",
      "source": [
        "# Visualizando matriz de confusão\n",
        "from sklearn.metrics import confusion_matrix, classification_report\n",
        "confusion_matrix = pd.crosstab(y_test.flatten(), y_pred, rownames=['Atual'], colnames=['Predito'])\n",
        "# confusion_matrix = confusion_matrix(y_test, y_pred)\n",
        "print(confusion_matrix)\n",
        "fig, ax = plt.subplots(figsize=(15, 10))\n",
        "sns.heatmap(confusion_matrix, annot=True, ax=ax)"
      ],
      "metadata": {
        "colab": {
          "base_uri": "https://localhost:8080/",
          "height": 710
        },
        "id": "4jfC-ETsmhe1",
        "outputId": "22a38dcb-ec3b-43fb-80ab-bc77c0b97aee"
      },
      "execution_count": null,
      "outputs": [
        {
          "output_type": "stream",
          "name": "stdout",
          "text": [
            "Predito     1     2\n",
            "Atual              \n",
            "1        3370   864\n",
            "2         751  2154\n",
            "3         264   689\n"
          ]
        },
        {
          "output_type": "execute_result",
          "data": {
            "text/plain": [
              "<matplotlib.axes._subplots.AxesSubplot at 0x7f0aabdcf3d0>"
            ]
          },
          "metadata": {},
          "execution_count": 211
        },
        {
          "output_type": "display_data",
          "data": {
            "text/plain": [
              "<Figure size 1080x720 with 2 Axes>"
            ],
            "image/png": "[encoded data removed]"
          },
          "metadata": {
            "needs_background": "light"
          }
        }
      ]
    },
    {
      "cell_type": "code",
      "source": [
        "from sklearn.metrics import classification_report\n",
        "from sklearn import metrics\n",
        "\n",
        "print(classification_report(y_test, y_pred))"
      ],
      "metadata": {
        "colab": {
          "base_uri": "https://localhost:8080/"
        },
        "id": "GClhTi8DmhV-",
        "outputId": "997e3f8a-b14f-46b2-82af-73a1668e268d"
      },
      "execution_count": null,
      "outputs": [
        {
          "output_type": "stream",
          "name": "stdout",
          "text": [
            "              precision    recall  f1-score   support\n",
            "\n",
            "           1       0.77      0.80      0.78      4234\n",
            "           2       0.58      0.74      0.65      2905\n",
            "           3       0.00      0.00      0.00       953\n",
            "\n",
            "    accuracy                           0.68      8092\n",
            "   macro avg       0.45      0.51      0.48      8092\n",
            "weighted avg       0.61      0.68      0.64      8092\n",
            "\n"
          ]
        },
        {
          "output_type": "stream",
          "name": "stderr",
          "text": [
            "/usr/local/lib/python3.7/dist-packages/sklearn/metrics/_classification.py:1318: UndefinedMetricWarning: Precision and F-score are ill-defined and being set to 0.0 in labels with no predicted samples. Use `zero_division` parameter to control this behavior.\n",
            "  _warn_prf(average, modifier, msg_start, len(result))\n",
            "/usr/local/lib/python3.7/dist-packages/sklearn/metrics/_classification.py:1318: UndefinedMetricWarning: Precision and F-score are ill-defined and being set to 0.0 in labels with no predicted samples. Use `zero_division` parameter to control this behavior.\n",
            "  _warn_prf(average, modifier, msg_start, len(result))\n",
            "/usr/local/lib/python3.7/dist-packages/sklearn/metrics/_classification.py:1318: UndefinedMetricWarning: Precision and F-score are ill-defined and being set to 0.0 in labels with no predicted samples. Use `zero_division` parameter to control this behavior.\n",
            "  _warn_prf(average, modifier, msg_start, len(result))\n"
          ]
        }
      ]
    },
    {
      "cell_type": "code",
      "source": [
        "logisticRegression = LogisticRegression()\n",
        "\n",
        "logisticRegression.fit(X_train, y_train)\n",
        "\n",
        "score = logisticRegression.score(X_test, y_test)\n",
        "\n",
        "print(\"Acurácia geral: \", score)"
      ],
      "metadata": {
        "colab": {
          "base_uri": "https://localhost:8080/"
        },
        "id": "-mZGURhzmnK0",
        "outputId": "f7ffea45-12a7-4bec-a5a9-0ec8d40e50a7"
      },
      "execution_count": null,
      "outputs": [
        {
          "output_type": "stream",
          "name": "stderr",
          "text": [
            "/usr/local/lib/python3.7/dist-packages/sklearn/utils/validation.py:993: DataConversionWarning: A column-vector y was passed when a 1d array was expected. Please change the shape of y to (n_samples, ), for example using ravel().\n",
            "  y = column_or_1d(y, warn=True)\n"
          ]
        },
        {
          "output_type": "stream",
          "name": "stdout",
          "text": [
            "Acurácia geral:  0.6826495304003954\n"
          ]
        }
      ]
    }
  ]
}