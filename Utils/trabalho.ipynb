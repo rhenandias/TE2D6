{
 "cells": [
  {
   "cell_type": "markdown",
   "metadata": {},
   "source": [
    "Luan Rodrigues Petruitis GU3008347"
   ]
  },
  {
   "cell_type": "code",
   "execution_count": 12,
   "metadata": {},
   "outputs": [],
   "source": [
    "from datetime import datetime\n",
    "from IPython.display import Image\n",
    "import matplotlib.pyplot as plt\n",
    "import numpy as np\n",
    "import pandas as pd\n",
    "from sklearn.linear_model import LinearRegression\n",
    "import petl as etl\n",
    "%matplotlib inline\n",
    "\n",
    "# Configurações do para realizar os plots\n",
    "plt.rc('font', size=12)\n",
    "plt.rc('axes', labelsize=14)\n",
    "plt.rc('legend', fontsize=12)\n",
    "plt.rc('xtick', labelsize=10)\n",
    "plt.rc('ytick', labelsize=12)\n",
    "\n",
    "np.random.seed(42)\n",
    "\n",
    "# Preparando os dados\n",
    "dataset_investidores = pd.read_csv(\"./InvestidoresTesouroDireto.csv\", encoding='cp1252', on_bad_lines='skip')\n",
    "\n",
    "# print(dataset_investidores)\n",
    "\n",
    "dataset_investidores = dataset_investidores.loc[:, ~dataset_investidores.columns.str.contains('^Unnamed')]\n",
    "# dataset_investidores.head()\n",
    "# Pegando a variável base e o alvo\n",
    "\n",
    "def mes(data):\n",
    "    month = datetime.strptime(data, \"%d/%m/%Y\").year\n",
    "    return month\n",
    "    # if month >= 1 and month <= 3:\n",
    "    #     return 1  \n",
    "    # elif month >= 4 and month <= 6:\n",
    "    #     return 2  \n",
    "    # elif month >= 7 and month <= 9:\n",
    "    #     return 3  \n",
    "    # else:\n",
    "    #     return 4\n",
    "        \n",
    "\n",
    "dataset_investidores[\"data\"] = dataset_investidores[\"Data de Adesao\"].apply(mes)\n",
    "\n",
    "\n",
    "Indices=[]\n",
    "for x in dataset_investidores.index:\n",
    "    try:\n",
    "        idade_formated = int(dataset_investidores.Idade[x])\n",
    "    except:\n",
    "        Indices.append(x)    \n",
    "\n",
    "dataset_investidores = dataset_investidores.drop(Indices)\n",
    "dataset_investidores[\"Idade\"] = dataset_investidores[\"Idade\"].astype(int)\n",
    "\n",
    "\n",
    "# X = dataset_investidores[[\"mes\"]].values # base\n",
    "# print(\"Base:\", X)\n",
    "# y = dataset_investidores[[\"Idade\"]].values # alvo\n",
    "# print(\"Alvo:\", y)\n",
    "\n",
    "dataset_investidores_data = dataset_investidores.groupby(\"Data de Adesao\")\n"
   ]
  },
  {
   "cell_type": "code",
   "execution_count": 25,
   "metadata": {},
   "outputs": [
    {
     "data": {
      "text/html": [
       "<div>\n",
       "<style scoped>\n",
       "    .dataframe tbody tr th:only-of-type {\n",
       "        vertical-align: middle;\n",
       "    }\n",
       "\n",
       "    .dataframe tbody tr th {\n",
       "        vertical-align: top;\n",
       "    }\n",
       "\n",
       "    .dataframe thead th {\n",
       "        text-align: right;\n",
       "    }\n",
       "</style>\n",
       "<table border=\"1\" class=\"dataframe\">\n",
       "  <thead>\n",
       "    <tr style=\"text-align: right;\">\n",
       "      <th></th>\n",
       "      <th>count</th>\n",
       "    </tr>\n",
       "    <tr>\n",
       "      <th>Data de Adesao</th>\n",
       "      <th></th>\n",
       "    </tr>\n",
       "  </thead>\n",
       "  <tbody>\n",
       "    <tr>\n",
       "      <th>01/01/1900</th>\n",
       "      <td>24878.0</td>\n",
       "    </tr>\n",
       "    <tr>\n",
       "      <th>01/01/2014</th>\n",
       "      <td>1.0</td>\n",
       "    </tr>\n",
       "    <tr>\n",
       "      <th>01/01/2016</th>\n",
       "      <td>2.0</td>\n",
       "    </tr>\n",
       "    <tr>\n",
       "      <th>01/01/2017</th>\n",
       "      <td>1.0</td>\n",
       "    </tr>\n",
       "    <tr>\n",
       "      <th>01/02/2010</th>\n",
       "      <td>6.0</td>\n",
       "    </tr>\n",
       "    <tr>\n",
       "      <th>...</th>\n",
       "      <td>...</td>\n",
       "    </tr>\n",
       "    <tr>\n",
       "      <th>31/10/2017</th>\n",
       "      <td>152.0</td>\n",
       "    </tr>\n",
       "    <tr>\n",
       "      <th>31/10/2018</th>\n",
       "      <td>302.0</td>\n",
       "    </tr>\n",
       "    <tr>\n",
       "      <th>31/10/2019</th>\n",
       "      <td>280.0</td>\n",
       "    </tr>\n",
       "    <tr>\n",
       "      <th>31/12/2014</th>\n",
       "      <td>1.0</td>\n",
       "    </tr>\n",
       "    <tr>\n",
       "      <th>31/12/2016</th>\n",
       "      <td>1.0</td>\n",
       "    </tr>\n",
       "  </tbody>\n",
       "</table>\n",
       "<p>3706 rows × 1 columns</p>\n",
       "</div>"
      ],
      "text/plain": [
       "                  count\n",
       "Data de Adesao         \n",
       "01/01/1900      24878.0\n",
       "01/01/2014          1.0\n",
       "01/01/2016          2.0\n",
       "01/01/2017          1.0\n",
       "01/02/2010          6.0\n",
       "...                 ...\n",
       "31/10/2017        152.0\n",
       "31/10/2018        302.0\n",
       "31/10/2019        280.0\n",
       "31/12/2014          1.0\n",
       "31/12/2016          1.0\n",
       "\n",
       "[3706 rows x 1 columns]"
      ]
     },
     "execution_count": 25,
     "metadata": {},
     "output_type": "execute_result"
    }
   ],
   "source": [
    "dataset_investidores.describe().head(40)\n",
    "\n",
    "total_investidor_mes = dataset_investidores_data.describe()[\"Codigo do Investidor\"][[\"count\"]]\n",
    "total_investidor_mes"
   ]
  },
  {
   "cell_type": "code",
   "execution_count": 24,
   "metadata": {},
   "outputs": [
    {
     "data": {
      "image/png": "[encoded data removed]",
      "text/plain": [
       "<Figure size 432x288 with 1 Axes>"
      ]
     },
     "metadata": {
      "needs_background": "light"
     },
     "output_type": "display_data"
    }
   ],
   "source": [
    "\n",
    "# Gráfico com os dados\n",
    "dataset_investidores.plot(x=\"data\", y=\"Idade\", kind='scatter', grid=True)\n",
    "plt.axis([2000, 2023, 0, 130])\n",
    "plt.show()\n",
    "\n",
    "\n",
    "# # Selecione o modelo de regressão\n",
    "# model = LinearRegression()\n",
    "# # treinando modelo de regressão linear\n",
    "# model.fit(X, y)\n",
    "\n",
    "# # Fazer uma previsão para o chipre\n",
    "# X_new = [[37_655.2]] # Pib per capita de Chipre em 2020\n",
    "\n",
    "# # Predizendo valores com o modelo treinado\n",
    "# print(model.predict(X_new))"
   ]
  }
 ],
 "metadata": {
  "kernelspec": {
   "display_name": "Python 3.8.10 64-bit",
   "language": "python",
   "name": "python3"
  },
  "language_info": {
   "codemirror_mode": {
    "name": "ipython",
    "version": 3
   },
   "file_extension": ".py",
   "mimetype": "text/x-python",
   "name": "python",
   "nbconvert_exporter": "python",
   "pygments_lexer": "ipython3",
   "version": "3.8.10"
  },
  "orig_nbformat": 4,
  "vscode": {
   "interpreter": {
    "hash": "31f2aee4e71d21fbe5cf8b01ff0e069b9275f58929596ceb00d14d90e3e16cd6"
   }
  }
 },
 "nbformat": 4,
 "nbformat_minor": 2
}
