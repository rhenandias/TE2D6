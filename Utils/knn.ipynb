{
 "cells": [
  {
   "cell_type": "markdown",
   "metadata": {},
   "source": [
    "Luan Rodrigues Petruitis GU3008347"
   ]
  },
  {
   "cell_type": "code",
   "execution_count": 1,
   "metadata": {},
   "outputs": [
    {
     "data": {
      "text/html": [
       "<div>\n",
       "<style scoped>\n",
       "    .dataframe tbody tr th:only-of-type {\n",
       "        vertical-align: middle;\n",
       "    }\n",
       "\n",
       "    .dataframe tbody tr th {\n",
       "        vertical-align: top;\n",
       "    }\n",
       "\n",
       "    .dataframe thead th {\n",
       "        text-align: right;\n",
       "    }\n",
       "</style>\n",
       "<table border=\"1\" class=\"dataframe\">\n",
       "  <thead>\n",
       "    <tr style=\"text-align: right;\">\n",
       "      <th></th>\n",
       "      <th>species</th>\n",
       "      <th>island</th>\n",
       "      <th>bill_length_mm</th>\n",
       "      <th>bill_depth_mm</th>\n",
       "      <th>flipper_length_mm</th>\n",
       "      <th>body_mass_g</th>\n",
       "      <th>sex</th>\n",
       "    </tr>\n",
       "  </thead>\n",
       "  <tbody>\n",
       "    <tr>\n",
       "      <th>0</th>\n",
       "      <td>Adelie</td>\n",
       "      <td>Torgersen</td>\n",
       "      <td>39.1</td>\n",
       "      <td>18.7</td>\n",
       "      <td>181.0</td>\n",
       "      <td>3750.0</td>\n",
       "      <td>Male</td>\n",
       "    </tr>\n",
       "    <tr>\n",
       "      <th>1</th>\n",
       "      <td>Adelie</td>\n",
       "      <td>Torgersen</td>\n",
       "      <td>39.5</td>\n",
       "      <td>17.4</td>\n",
       "      <td>186.0</td>\n",
       "      <td>3800.0</td>\n",
       "      <td>Female</td>\n",
       "    </tr>\n",
       "    <tr>\n",
       "      <th>2</th>\n",
       "      <td>Adelie</td>\n",
       "      <td>Torgersen</td>\n",
       "      <td>40.3</td>\n",
       "      <td>18.0</td>\n",
       "      <td>195.0</td>\n",
       "      <td>3250.0</td>\n",
       "      <td>Female</td>\n",
       "    </tr>\n",
       "    <tr>\n",
       "      <th>3</th>\n",
       "      <td>Adelie</td>\n",
       "      <td>Torgersen</td>\n",
       "      <td>NaN</td>\n",
       "      <td>NaN</td>\n",
       "      <td>NaN</td>\n",
       "      <td>NaN</td>\n",
       "      <td>NaN</td>\n",
       "    </tr>\n",
       "    <tr>\n",
       "      <th>4</th>\n",
       "      <td>Adelie</td>\n",
       "      <td>Torgersen</td>\n",
       "      <td>36.7</td>\n",
       "      <td>19.3</td>\n",
       "      <td>193.0</td>\n",
       "      <td>3450.0</td>\n",
       "      <td>Female</td>\n",
       "    </tr>\n",
       "  </tbody>\n",
       "</table>\n",
       "</div>"
      ],
      "text/plain": [
       "  species     island  bill_length_mm  bill_depth_mm  flipper_length_mm  \\\n",
       "0  Adelie  Torgersen            39.1           18.7              181.0   \n",
       "1  Adelie  Torgersen            39.5           17.4              186.0   \n",
       "2  Adelie  Torgersen            40.3           18.0              195.0   \n",
       "3  Adelie  Torgersen             NaN            NaN                NaN   \n",
       "4  Adelie  Torgersen            36.7           19.3              193.0   \n",
       "\n",
       "   body_mass_g     sex  \n",
       "0       3750.0    Male  \n",
       "1       3800.0  Female  \n",
       "2       3250.0  Female  \n",
       "3          NaN     NaN  \n",
       "4       3450.0  Female  "
      ]
     },
     "execution_count": 1,
     "metadata": {},
     "output_type": "execute_result"
    }
   ],
   "source": [
    "import seaborn as sns\n",
    "\n",
    "penguins = sns.load_dataset('penguins')\n",
    "penguins.head()"
   ]
  },
  {
   "cell_type": "code",
   "execution_count": 13,
   "metadata": {},
   "outputs": [
    {
     "data": {
      "text/html": [
       "<div>\n",
       "<style scoped>\n",
       "    .dataframe tbody tr th:only-of-type {\n",
       "        vertical-align: middle;\n",
       "    }\n",
       "\n",
       "    .dataframe tbody tr th {\n",
       "        vertical-align: top;\n",
       "    }\n",
       "\n",
       "    .dataframe thead th {\n",
       "        text-align: right;\n",
       "    }\n",
       "</style>\n",
       "<table border=\"1\" class=\"dataframe\">\n",
       "  <thead>\n",
       "    <tr style=\"text-align: right;\">\n",
       "      <th></th>\n",
       "      <th>species</th>\n",
       "      <th>island</th>\n",
       "      <th>bill_length_mm</th>\n",
       "      <th>bill_depth_mm</th>\n",
       "      <th>flipper_length_mm</th>\n",
       "      <th>body_mass_g</th>\n",
       "      <th>sex</th>\n",
       "    </tr>\n",
       "  </thead>\n",
       "  <tbody>\n",
       "    <tr>\n",
       "      <th>0</th>\n",
       "      <td>Adelie</td>\n",
       "      <td>Torgersen</td>\n",
       "      <td>39.1</td>\n",
       "      <td>18.7</td>\n",
       "      <td>181.0</td>\n",
       "      <td>3750.0</td>\n",
       "      <td>Male</td>\n",
       "    </tr>\n",
       "    <tr>\n",
       "      <th>1</th>\n",
       "      <td>Adelie</td>\n",
       "      <td>Torgersen</td>\n",
       "      <td>39.5</td>\n",
       "      <td>17.4</td>\n",
       "      <td>186.0</td>\n",
       "      <td>3800.0</td>\n",
       "      <td>Female</td>\n",
       "    </tr>\n",
       "    <tr>\n",
       "      <th>2</th>\n",
       "      <td>Adelie</td>\n",
       "      <td>Torgersen</td>\n",
       "      <td>40.3</td>\n",
       "      <td>18.0</td>\n",
       "      <td>195.0</td>\n",
       "      <td>3250.0</td>\n",
       "      <td>Female</td>\n",
       "    </tr>\n",
       "    <tr>\n",
       "      <th>3</th>\n",
       "      <td>Adelie</td>\n",
       "      <td>Torgersen</td>\n",
       "      <td>0.0</td>\n",
       "      <td>0.0</td>\n",
       "      <td>0.0</td>\n",
       "      <td>0.0</td>\n",
       "      <td>0</td>\n",
       "    </tr>\n",
       "    <tr>\n",
       "      <th>4</th>\n",
       "      <td>Adelie</td>\n",
       "      <td>Torgersen</td>\n",
       "      <td>36.7</td>\n",
       "      <td>19.3</td>\n",
       "      <td>193.0</td>\n",
       "      <td>3450.0</td>\n",
       "      <td>Female</td>\n",
       "    </tr>\n",
       "    <tr>\n",
       "      <th>...</th>\n",
       "      <td>...</td>\n",
       "      <td>...</td>\n",
       "      <td>...</td>\n",
       "      <td>...</td>\n",
       "      <td>...</td>\n",
       "      <td>...</td>\n",
       "      <td>...</td>\n",
       "    </tr>\n",
       "    <tr>\n",
       "      <th>339</th>\n",
       "      <td>Gentoo</td>\n",
       "      <td>Biscoe</td>\n",
       "      <td>0.0</td>\n",
       "      <td>0.0</td>\n",
       "      <td>0.0</td>\n",
       "      <td>0.0</td>\n",
       "      <td>0</td>\n",
       "    </tr>\n",
       "    <tr>\n",
       "      <th>340</th>\n",
       "      <td>Gentoo</td>\n",
       "      <td>Biscoe</td>\n",
       "      <td>46.8</td>\n",
       "      <td>14.3</td>\n",
       "      <td>215.0</td>\n",
       "      <td>4850.0</td>\n",
       "      <td>Female</td>\n",
       "    </tr>\n",
       "    <tr>\n",
       "      <th>341</th>\n",
       "      <td>Gentoo</td>\n",
       "      <td>Biscoe</td>\n",
       "      <td>50.4</td>\n",
       "      <td>15.7</td>\n",
       "      <td>222.0</td>\n",
       "      <td>5750.0</td>\n",
       "      <td>Male</td>\n",
       "    </tr>\n",
       "    <tr>\n",
       "      <th>342</th>\n",
       "      <td>Gentoo</td>\n",
       "      <td>Biscoe</td>\n",
       "      <td>45.2</td>\n",
       "      <td>14.8</td>\n",
       "      <td>212.0</td>\n",
       "      <td>5200.0</td>\n",
       "      <td>Female</td>\n",
       "    </tr>\n",
       "    <tr>\n",
       "      <th>343</th>\n",
       "      <td>Gentoo</td>\n",
       "      <td>Biscoe</td>\n",
       "      <td>49.9</td>\n",
       "      <td>16.1</td>\n",
       "      <td>213.0</td>\n",
       "      <td>5400.0</td>\n",
       "      <td>Male</td>\n",
       "    </tr>\n",
       "  </tbody>\n",
       "</table>\n",
       "<p>344 rows × 7 columns</p>\n",
       "</div>"
      ],
      "text/plain": [
       "    species     island  bill_length_mm  bill_depth_mm  flipper_length_mm  \\\n",
       "0    Adelie  Torgersen            39.1           18.7              181.0   \n",
       "1    Adelie  Torgersen            39.5           17.4              186.0   \n",
       "2    Adelie  Torgersen            40.3           18.0              195.0   \n",
       "3    Adelie  Torgersen             0.0            0.0                0.0   \n",
       "4    Adelie  Torgersen            36.7           19.3              193.0   \n",
       "..      ...        ...             ...            ...                ...   \n",
       "339  Gentoo     Biscoe             0.0            0.0                0.0   \n",
       "340  Gentoo     Biscoe            46.8           14.3              215.0   \n",
       "341  Gentoo     Biscoe            50.4           15.7              222.0   \n",
       "342  Gentoo     Biscoe            45.2           14.8              212.0   \n",
       "343  Gentoo     Biscoe            49.9           16.1              213.0   \n",
       "\n",
       "     body_mass_g     sex  \n",
       "0         3750.0    Male  \n",
       "1         3800.0  Female  \n",
       "2         3250.0  Female  \n",
       "3            0.0       0  \n",
       "4         3450.0  Female  \n",
       "..           ...     ...  \n",
       "339          0.0       0  \n",
       "340       4850.0  Female  \n",
       "341       5750.0    Male  \n",
       "342       5200.0  Female  \n",
       "343       5400.0    Male  \n",
       "\n",
       "[344 rows x 7 columns]"
      ]
     },
     "execution_count": 13,
     "metadata": {},
     "output_type": "execute_result"
    }
   ],
   "source": [
    "import petl as etl\n",
    "import numpy as np\n",
    "\n",
    "# Extração \n",
    "filename = 'penguins.json'\n",
    "colunas = [\"species\", \"bill_length_mm\", \"body_mass_g\", \"sex\"]\n",
    "penguins = penguins.fillna(0) # Retirando NaN\n",
    "penguins"
   ]
  },
  {
   "cell_type": "code",
   "execution_count": 3,
   "metadata": {},
   "outputs": [
    {
     "name": "stdout",
     "output_type": "stream",
     "text": [
      "[(0, 39.1, 3750.0, 1), (1, 39.5, 3800.0, 2), (0, 40.3, 3250.0, 2), (0, 0.0, 0.0, 0), (0, 36.7, 3450.0, 2), (0, 39.3, 3650.0, 1), (0, 38.9, 3625.0, 2), (0, 39.2, 4675.0, 1), (0, 34.1, 3475.0, 0), (0, 42.0, 4250.0, 0), (0, 37.8, 3300.0, 0), (0, 37.8, 3700.0, 0), (0, 41.1, 3200.0, 2), (0, 38.6, 3800.0, 1), (0, 34.6, 4400.0, 1), (0, 36.6, 3700.0, 2), (0, 38.7, 3450.0, 2), (0, 42.5, 4500.0, 1), (0, 34.4, 3325.0, 2), (0, 46.0, 4200.0, 1), (0, 37.8, 3400.0, 2), (0, 37.7, 3600.0, 1), (0, 35.9, 3800.0, 2), (0, 38.2, 3950.0, 1), (0, 38.8, 3800.0, 1), (0, 35.3, 3800.0, 2), (0, 40.6, 3550.0, 1), (0, 40.5, 3200.0, 2), (0, 37.9, 3150.0, 2), (0, 40.5, 3950.0, 1), (0, 39.5, 3250.0, 2), (0, 37.2, 3900.0, 1), (0, 39.5, 3300.0, 2), (0, 40.9, 3900.0, 1), (0, 36.4, 3325.0, 2), (0, 39.2, 4150.0, 1), (0, 38.8, 3950.0, 1), (0, 42.2, 3550.0, 2), (0, 37.6, 3300.0, 2), (0, 39.8, 4650.0, 1), (0, 36.5, 3150.0, 2), (0, 40.8, 3900.0, 1), (0, 36.0, 3100.0, 2), (0, 44.1, 4400.0, 1), (0, 37.0, 3000.0, 2), (0, 39.6, 4600.0, 1), (0, 41.1, 3425.0, 1), (0, 37.5, 2975.0, 0), (0, 36.0, 3450.0, 2), (0, 42.3, 4150.0, 1), (0, 39.6, 3500.0, 2), (0, 40.1, 4300.0, 1), (0, 35.0, 3450.0, 2), (0, 42.0, 4050.0, 1), (0, 34.5, 2900.0, 2), (0, 41.4, 3700.0, 1), (0, 39.0, 3550.0, 2), (0, 40.6, 3800.0, 1), (0, 36.5, 2850.0, 2), (0, 37.6, 3750.0, 1), (0, 35.7, 3150.0, 2), (0, 41.3, 4400.0, 1), (0, 37.6, 3600.0, 2), (0, 41.1, 4050.0, 1), (0, 36.4, 2850.0, 2), (0, 41.6, 3950.0, 1), (0, 35.5, 3350.0, 2), (0, 41.1, 4100.0, 1), (0, 35.9, 3050.0, 2), (0, 41.8, 4450.0, 1), (0, 33.5, 3600.0, 2), (0, 39.7, 3900.0, 1), (0, 39.6, 3550.0, 2), (0, 45.8, 4150.0, 1), (0, 35.5, 3700.0, 2), (0, 42.8, 4250.0, 1), (0, 40.9, 3700.0, 2), (0, 37.2, 3900.0, 1), (0, 36.2, 3550.0, 2), (0, 42.1, 4000.0, 1), (0, 34.6, 3200.0, 2), (0, 42.9, 4700.0, 1), (0, 36.7, 3800.0, 2), (0, 35.1, 4200.0, 1), (0, 37.3, 3350.0, 2), (0, 41.3, 3550.0, 1), (0, 36.3, 3800.0, 1), (0, 36.9, 3500.0, 2), (0, 38.3, 3950.0, 1), (0, 38.9, 3600.0, 2), (0, 35.7, 3550.0, 2), (0, 41.1, 4300.0, 1), (0, 34.0, 3400.0, 2), (0, 39.6, 4450.0, 1), (0, 36.2, 3300.0, 2), (0, 40.8, 4300.0, 1), (0, 38.1, 3700.0, 2), (0, 40.3, 4350.0, 1), (0, 33.1, 2900.0, 2), (0, 43.2, 4100.0, 1), (0, 35.0, 3725.0, 2), (0, 41.0, 4725.0, 1), (0, 37.7, 3075.0, 2), (0, 37.8, 4250.0, 1), (0, 37.9, 2925.0, 2), (0, 39.7, 3550.0, 1), (0, 38.6, 3750.0, 2), (0, 38.2, 3900.0, 1), (0, 38.1, 3175.0, 2), (0, 43.2, 4775.0, 1), (0, 38.1, 3825.0, 2), (0, 45.6, 4600.0, 1), (0, 39.7, 3200.0, 2), (0, 42.2, 4275.0, 1), (0, 39.6, 3900.0, 2), (0, 42.7, 4075.0, 1), (0, 38.6, 2900.0, 2), (0, 37.3, 3775.0, 1), (0, 35.7, 3350.0, 2), (0, 41.1, 3325.0, 1), (0, 36.2, 3150.0, 2), (0, 37.7, 3500.0, 1), (0, 40.2, 3450.0, 2), (0, 41.4, 3875.0, 1), (0, 35.2, 3050.0, 2), (0, 40.6, 4000.0, 1), (0, 38.8, 3275.0, 2), (0, 41.5, 4300.0, 1), (0, 39.0, 3050.0, 2), (0, 44.1, 4000.0, 1), (0, 38.5, 3325.0, 2), (0, 43.1, 3500.0, 1), (0, 36.8, 3500.0, 2), (0, 37.5, 4475.0, 1), (0, 38.1, 3425.0, 2), (0, 41.1, 3900.0, 1), (0, 35.6, 3175.0, 2), (0, 40.2, 3975.0, 1), (0, 37.0, 3400.0, 2), (0, 39.7, 4250.0, 1), (0, 40.2, 3400.0, 2), (0, 40.6, 3475.0, 1), (0, 32.1, 3050.0, 2), (0, 40.7, 3725.0, 1), (0, 37.3, 3000.0, 2), (0, 39.0, 3650.0, 1), (0, 39.2, 4250.0, 1), (0, 36.6, 3475.0, 2), (0, 36.0, 3450.0, 2), (0, 37.8, 3750.0, 1), (0, 36.0, 3700.0, 2), (0, 41.5, 4000.0, 1), (2, 46.5, 3500.0, 2), (3, 50.0, 3900.0, 1), (2, 51.3, 3650.0, 1), (2, 45.4, 3525.0, 2), (2, 52.7, 3725.0, 1), (2, 45.2, 3950.0, 2), (2, 46.1, 3250.0, 2), (2, 51.3, 3750.0, 1), (2, 46.0, 4150.0, 2), (2, 51.3, 3700.0, 1), (2, 46.6, 3800.0, 2), (2, 51.7, 3775.0, 1), (2, 47.0, 3700.0, 2), (2, 52.0, 4050.0, 1), (2, 45.9, 3575.0, 2), (2, 50.5, 4050.0, 1), (2, 50.3, 3300.0, 1), (2, 58.0, 3700.0, 2), (2, 46.4, 3450.0, 2), (2, 49.2, 4400.0, 1), (2, 42.4, 3600.0, 2), (2, 48.5, 3400.0, 1), (2, 43.2, 2900.0, 2), (2, 50.6, 3800.0, 1), (2, 46.7, 3300.0, 2), (2, 52.0, 4150.0, 1), (2, 50.5, 3400.0, 2), (2, 49.5, 3800.0, 1), (2, 46.4, 3700.0, 2), (2, 52.8, 4550.0, 1), (2, 40.9, 3200.0, 2), (2, 54.2, 4300.0, 1), (2, 42.5, 3350.0, 2), (2, 51.0, 4100.0, 1), (2, 49.7, 3600.0, 1), (2, 47.5, 3900.0, 2), (2, 47.6, 3850.0, 2), (2, 52.0, 4800.0, 1), (2, 46.9, 2700.0, 2), (2, 53.5, 4500.0, 1), (2, 49.0, 3950.0, 1), (2, 46.2, 3650.0, 2), (2, 50.9, 3550.0, 1), (2, 45.5, 3500.0, 2), (2, 50.9, 3675.0, 2), (2, 50.8, 4450.0, 1), (2, 50.1, 3400.0, 2), (2, 49.0, 4300.0, 1), (2, 51.5, 3250.0, 1), (2, 49.8, 3675.0, 2), (2, 48.1, 3325.0, 2), (2, 51.4, 3950.0, 1), (2, 45.7, 3600.0, 2), (2, 50.7, 4050.0, 1), (2, 42.5, 3350.0, 2), (2, 52.2, 3450.0, 1), (2, 45.2, 3250.0, 2), (2, 49.3, 4050.0, 1), (2, 50.2, 3800.0, 1), (2, 45.6, 3525.0, 2), (2, 51.9, 3950.0, 1), (2, 46.8, 3650.0, 2), (2, 45.7, 3650.0, 2), (2, 55.8, 4000.0, 1), (2, 43.5, 3400.0, 2), (2, 49.6, 3775.0, 1), (2, 50.8, 4100.0, 1), (2, 50.2, 3775.0, 2), (4, 46.1, 4500.0, 2), (5, 50.0, 5700.0, 1), (4, 48.7, 4450.0, 2), (4, 50.0, 5700.0, 1), (4, 47.6, 5400.0, 1), (4, 46.5, 4550.0, 2), (4, 45.4, 4800.0, 2), (4, 46.7, 5200.0, 1), (4, 43.3, 4400.0, 2), (4, 46.8, 5150.0, 1), (4, 40.9, 4650.0, 2), (4, 49.0, 5550.0, 1), (4, 45.5, 4650.0, 2), (4, 48.4, 5850.0, 1), (4, 45.8, 4200.0, 2), (4, 49.3, 5850.0, 1), (4, 42.0, 4150.0, 2), (4, 49.2, 6300.0, 1), (4, 46.2, 4800.0, 2), (4, 48.7, 5350.0, 1), (4, 50.2, 5700.0, 1), (4, 45.1, 5000.0, 2), (4, 46.5, 4400.0, 2), (4, 46.3, 5050.0, 1), (4, 42.9, 5000.0, 2), (4, 46.1, 5100.0, 1), (4, 44.5, 4100.0, 0), (4, 47.8, 5650.0, 1), (4, 48.2, 4600.0, 2), (4, 50.0, 5550.0, 1), (4, 47.3, 5250.0, 1), (4, 42.8, 4700.0, 2), (4, 45.1, 5050.0, 2), (4, 59.6, 6050.0, 1), (4, 49.1, 5150.0, 2), (4, 48.4, 5400.0, 1), (4, 42.6, 4950.0, 2), (4, 44.4, 5250.0, 1), (4, 44.0, 4350.0, 2), (4, 48.7, 5350.0, 1), (4, 42.7, 3950.0, 2), (4, 49.6, 5700.0, 1), (4, 45.3, 4300.0, 2), (4, 49.6, 4750.0, 1), (4, 50.5, 5550.0, 1), (4, 43.6, 4900.0, 2), (4, 45.5, 4200.0, 2), (4, 50.5, 5400.0, 1), (4, 44.9, 5100.0, 2), (4, 45.2, 5300.0, 1), (4, 46.6, 4850.0, 2), (4, 48.5, 5300.0, 1), (4, 45.1, 4400.0, 2), (4, 50.1, 5000.0, 1), (4, 46.5, 4900.0, 2), (4, 45.0, 5050.0, 1), (4, 43.8, 4300.0, 2), (4, 45.5, 5000.0, 1), (4, 43.2, 4450.0, 2), (4, 50.4, 5550.0, 1), (4, 45.3, 4200.0, 2), (4, 46.2, 5300.0, 1), (4, 45.7, 4400.0, 2), (4, 54.3, 5650.0, 1), (4, 45.8, 4700.0, 2), (4, 49.8, 5700.0, 1), (4, 46.2, 4650.0, 0), (4, 49.5, 5800.0, 1), (4, 43.5, 4700.0, 2), (4, 50.7, 5550.0, 1), (4, 47.7, 4750.0, 2), (4, 46.4, 5000.0, 1), (4, 48.2, 5100.0, 1), (4, 46.5, 5200.0, 2), (4, 46.4, 4700.0, 2), (4, 48.6, 5800.0, 1), (4, 47.5, 4600.0, 2), (4, 51.1, 6000.0, 1), (4, 45.2, 4750.0, 2), (4, 45.2, 5950.0, 1), (4, 49.1, 4625.0, 2), (4, 52.5, 5450.0, 1), (4, 47.4, 4725.0, 2), (4, 50.0, 5350.0, 1), (4, 44.9, 4750.0, 2), (4, 50.8, 5600.0, 1), (4, 43.4, 4600.0, 2), (4, 51.3, 5300.0, 1), (4, 47.5, 4875.0, 2), (4, 52.1, 5550.0, 1), (4, 47.5, 4950.0, 2), (4, 52.2, 5400.0, 1), (4, 45.5, 4750.0, 2), (4, 49.5, 5650.0, 1), (4, 44.5, 4850.0, 2), (4, 50.8, 5200.0, 1), (4, 49.4, 4925.0, 1), (4, 46.9, 4875.0, 2), (4, 48.4, 4625.0, 2), (4, 51.1, 5250.0, 1), (4, 48.5, 4850.0, 2), (4, 55.9, 5600.0, 1), (4, 47.2, 4975.0, 2), (4, 49.1, 5500.0, 1), (4, 47.3, 4725.0, 0), (4, 46.8, 5500.0, 1), (4, 41.7, 4700.0, 2), (4, 53.4, 5500.0, 1), (4, 43.3, 4575.0, 2), (4, 48.1, 5500.0, 1), (4, 50.5, 5000.0, 2), (4, 49.8, 5950.0, 1), (4, 43.5, 4650.0, 2), (4, 51.5, 5500.0, 1), (4, 46.2, 4375.0, 2), (4, 55.1, 5850.0, 1), (4, 44.5, 4875.0, 0), (4, 48.8, 6000.0, 1), (4, 47.2, 4925.0, 2), (4, 0.0, 0.0, 0), (4, 46.8, 4850.0, 2), (4, 50.4, 5750.0, 1), (4, 45.2, 5200.0, 2), (4, 49.9, 5400.0, 1)]\n"
     ]
    },
    {
     "data": {
      "text/html": [
       "<table class='petl'>\n",
       "<thead>\n",
       "<tr>\n",
       "<th>f0</th>\n",
       "<th>f1</th>\n",
       "<th>f2</th>\n",
       "<th>f3</th>\n",
       "</tr>\n",
       "</thead>\n",
       "<tbody>\n",
       "<tr>\n",
       "<td>0</td>\n",
       "<td>39.1</td>\n",
       "<td>3750.0</td>\n",
       "<td>1</td>\n",
       "</tr>\n",
       "<tr>\n",
       "<td>1</td>\n",
       "<td>39.5</td>\n",
       "<td>3800.0</td>\n",
       "<td>2</td>\n",
       "</tr>\n",
       "<tr>\n",
       "<td>0</td>\n",
       "<td>40.3</td>\n",
       "<td>3250.0</td>\n",
       "<td>2</td>\n",
       "</tr>\n",
       "<tr>\n",
       "<td>0</td>\n",
       "<td>0.0</td>\n",
       "<td>0.0</td>\n",
       "<td>0</td>\n",
       "</tr>\n",
       "<tr>\n",
       "<td>0</td>\n",
       "<td>36.7</td>\n",
       "<td>3450.0</td>\n",
       "<td>2</td>\n",
       "</tr>\n",
       "</tbody>\n",
       "</table>\n",
       "<p><strong>...</strong></p>"
      ]
     },
     "metadata": {},
     "output_type": "display_data"
    }
   ],
   "source": [
    "penguins_array = penguins[colunas].to_numpy()\n",
    "\n",
    "# Transformação\n",
    "penguins_array_tratado = []\n",
    "species = []\n",
    "for pgn in penguins_array:\n",
    "    if pgn[-1] == 0.0:\n",
    "        pgn[-1] = 0\n",
    "\n",
    "    if pgn[-1] == 'Male':\n",
    "        pgn[-1] = 1\n",
    "\n",
    "    if pgn[-1] == 'Female':\n",
    "        pgn[-1] = 2\n",
    "\n",
    "    if pgn[0] in species:\n",
    "        pgn[0] = species.index(pgn[0])\n",
    "\n",
    "    if pgn[0] not in species:\n",
    "        species.append(pgn[0])\n",
    "        pgn[0] = species.index(pgn[0])\n",
    "\n",
    "    penguins_array_tratado.append(tuple(pgn))\n",
    "\n",
    "print(penguins_array_tratado)\n",
    "penguins_np = np.array(penguins_array_tratado, dtype='i4, f4, f4, i4')\n",
    "\n",
    "penguins_etl = etl.fromarray(penguins_np)\n",
    "penguins_etl.display(5)\n",
    "penguins_etl.tocsv(\".\\\\dados\\\\penguins.csv\")"
   ]
  },
  {
   "cell_type": "code",
   "execution_count": 4,
   "metadata": {},
   "outputs": [
    {
     "data": {
      "text/html": [
       "<div>\n",
       "<style scoped>\n",
       "    .dataframe tbody tr th:only-of-type {\n",
       "        vertical-align: middle;\n",
       "    }\n",
       "\n",
       "    .dataframe tbody tr th {\n",
       "        vertical-align: top;\n",
       "    }\n",
       "\n",
       "    .dataframe thead th {\n",
       "        text-align: right;\n",
       "    }\n",
       "</style>\n",
       "<table border=\"1\" class=\"dataframe\">\n",
       "  <thead>\n",
       "    <tr style=\"text-align: right;\">\n",
       "      <th></th>\n",
       "      <th>f0</th>\n",
       "      <th>f1</th>\n",
       "      <th>f2</th>\n",
       "      <th>f3</th>\n",
       "    </tr>\n",
       "  </thead>\n",
       "  <tbody>\n",
       "    <tr>\n",
       "      <th>0</th>\n",
       "      <td>0</td>\n",
       "      <td>39.1</td>\n",
       "      <td>3750.0</td>\n",
       "      <td>1</td>\n",
       "    </tr>\n",
       "    <tr>\n",
       "      <th>1</th>\n",
       "      <td>1</td>\n",
       "      <td>39.5</td>\n",
       "      <td>3800.0</td>\n",
       "      <td>2</td>\n",
       "    </tr>\n",
       "    <tr>\n",
       "      <th>2</th>\n",
       "      <td>0</td>\n",
       "      <td>40.3</td>\n",
       "      <td>3250.0</td>\n",
       "      <td>2</td>\n",
       "    </tr>\n",
       "    <tr>\n",
       "      <th>3</th>\n",
       "      <td>0</td>\n",
       "      <td>0.0</td>\n",
       "      <td>0.0</td>\n",
       "      <td>0</td>\n",
       "    </tr>\n",
       "    <tr>\n",
       "      <th>4</th>\n",
       "      <td>0</td>\n",
       "      <td>36.7</td>\n",
       "      <td>3450.0</td>\n",
       "      <td>2</td>\n",
       "    </tr>\n",
       "    <tr>\n",
       "      <th>...</th>\n",
       "      <td>...</td>\n",
       "      <td>...</td>\n",
       "      <td>...</td>\n",
       "      <td>...</td>\n",
       "    </tr>\n",
       "    <tr>\n",
       "      <th>339</th>\n",
       "      <td>4</td>\n",
       "      <td>0.0</td>\n",
       "      <td>0.0</td>\n",
       "      <td>0</td>\n",
       "    </tr>\n",
       "    <tr>\n",
       "      <th>340</th>\n",
       "      <td>4</td>\n",
       "      <td>46.8</td>\n",
       "      <td>4850.0</td>\n",
       "      <td>2</td>\n",
       "    </tr>\n",
       "    <tr>\n",
       "      <th>341</th>\n",
       "      <td>4</td>\n",
       "      <td>50.4</td>\n",
       "      <td>5750.0</td>\n",
       "      <td>1</td>\n",
       "    </tr>\n",
       "    <tr>\n",
       "      <th>342</th>\n",
       "      <td>4</td>\n",
       "      <td>45.2</td>\n",
       "      <td>5200.0</td>\n",
       "      <td>2</td>\n",
       "    </tr>\n",
       "    <tr>\n",
       "      <th>343</th>\n",
       "      <td>4</td>\n",
       "      <td>49.9</td>\n",
       "      <td>5400.0</td>\n",
       "      <td>1</td>\n",
       "    </tr>\n",
       "  </tbody>\n",
       "</table>\n",
       "<p>344 rows × 4 columns</p>\n",
       "</div>"
      ],
      "text/plain": [
       "     f0    f1      f2  f3\n",
       "0     0  39.1  3750.0   1\n",
       "1     1  39.5  3800.0   2\n",
       "2     0  40.3  3250.0   2\n",
       "3     0   0.0     0.0   0\n",
       "4     0  36.7  3450.0   2\n",
       "..   ..   ...     ...  ..\n",
       "339   4   0.0     0.0   0\n",
       "340   4  46.8  4850.0   2\n",
       "341   4  50.4  5750.0   1\n",
       "342   4  45.2  5200.0   2\n",
       "343   4  49.9  5400.0   1\n",
       "\n",
       "[344 rows x 4 columns]"
      ]
     },
     "execution_count": 4,
     "metadata": {},
     "output_type": "execute_result"
    }
   ],
   "source": [
    "import pandas as pd\n",
    "\n",
    "df = pd.read_csv(\".\\\\dados\\\\penguins.csv\")\n",
    "df"
   ]
  },
  {
   "cell_type": "code",
   "execution_count": 5,
   "metadata": {},
   "outputs": [
    {
     "data": {
      "text/html": [
       "<div>\n",
       "<style scoped>\n",
       "    .dataframe tbody tr th:only-of-type {\n",
       "        vertical-align: middle;\n",
       "    }\n",
       "\n",
       "    .dataframe tbody tr th {\n",
       "        vertical-align: top;\n",
       "    }\n",
       "\n",
       "    .dataframe thead th {\n",
       "        text-align: right;\n",
       "    }\n",
       "</style>\n",
       "<table border=\"1\" class=\"dataframe\">\n",
       "  <thead>\n",
       "    <tr style=\"text-align: right;\">\n",
       "      <th></th>\n",
       "      <th>species</th>\n",
       "      <th>bill_length_mm</th>\n",
       "      <th>body_mass_g</th>\n",
       "    </tr>\n",
       "  </thead>\n",
       "  <tbody>\n",
       "    <tr>\n",
       "      <th>0</th>\n",
       "      <td>0</td>\n",
       "      <td>39.1</td>\n",
       "      <td>3750.0</td>\n",
       "    </tr>\n",
       "    <tr>\n",
       "      <th>1</th>\n",
       "      <td>1</td>\n",
       "      <td>39.5</td>\n",
       "      <td>3800.0</td>\n",
       "    </tr>\n",
       "    <tr>\n",
       "      <th>2</th>\n",
       "      <td>0</td>\n",
       "      <td>40.3</td>\n",
       "      <td>3250.0</td>\n",
       "    </tr>\n",
       "    <tr>\n",
       "      <th>3</th>\n",
       "      <td>0</td>\n",
       "      <td>0.0</td>\n",
       "      <td>0.0</td>\n",
       "    </tr>\n",
       "    <tr>\n",
       "      <th>4</th>\n",
       "      <td>0</td>\n",
       "      <td>36.7</td>\n",
       "      <td>3450.0</td>\n",
       "    </tr>\n",
       "    <tr>\n",
       "      <th>...</th>\n",
       "      <td>...</td>\n",
       "      <td>...</td>\n",
       "      <td>...</td>\n",
       "    </tr>\n",
       "    <tr>\n",
       "      <th>339</th>\n",
       "      <td>4</td>\n",
       "      <td>0.0</td>\n",
       "      <td>0.0</td>\n",
       "    </tr>\n",
       "    <tr>\n",
       "      <th>340</th>\n",
       "      <td>4</td>\n",
       "      <td>46.8</td>\n",
       "      <td>4850.0</td>\n",
       "    </tr>\n",
       "    <tr>\n",
       "      <th>341</th>\n",
       "      <td>4</td>\n",
       "      <td>50.4</td>\n",
       "      <td>5750.0</td>\n",
       "    </tr>\n",
       "    <tr>\n",
       "      <th>342</th>\n",
       "      <td>4</td>\n",
       "      <td>45.2</td>\n",
       "      <td>5200.0</td>\n",
       "    </tr>\n",
       "    <tr>\n",
       "      <th>343</th>\n",
       "      <td>4</td>\n",
       "      <td>49.9</td>\n",
       "      <td>5400.0</td>\n",
       "    </tr>\n",
       "  </tbody>\n",
       "</table>\n",
       "<p>344 rows × 3 columns</p>\n",
       "</div>"
      ],
      "text/plain": [
       "     species  bill_length_mm  body_mass_g\n",
       "0          0            39.1       3750.0\n",
       "1          1            39.5       3800.0\n",
       "2          0            40.3       3250.0\n",
       "3          0             0.0          0.0\n",
       "4          0            36.7       3450.0\n",
       "..       ...             ...          ...\n",
       "339        4             0.0          0.0\n",
       "340        4            46.8       4850.0\n",
       "341        4            50.4       5750.0\n",
       "342        4            45.2       5200.0\n",
       "343        4            49.9       5400.0\n",
       "\n",
       "[344 rows x 3 columns]"
      ]
     },
     "execution_count": 5,
     "metadata": {},
     "output_type": "execute_result"
    }
   ],
   "source": [
    "df = df.rename(columns={'f0': \"species\", 'f1': 'bill_length_mm', 'f2': \"body_mass_g\", 'f3': \"sex\"})\n",
    "df = df.drop('sex', axis=1)\n",
    "df"
   ]
  },
  {
   "cell_type": "code",
   "execution_count": 8,
   "metadata": {},
   "outputs": [
    {
     "data": {
      "text/plain": [
       "<seaborn.axisgrid.PairGrid at 0x7f9387b86ee0>"
      ]
     },
     "execution_count": 8,
     "metadata": {},
     "output_type": "execute_result"
    },
    {
     "data": {
      "image/png": "[encoded data removed]",
      "text/plain": [
       "<Figure size 405.375x360 with 6 Axes>"
      ]
     },
     "metadata": {
      "needs_background": "light"
     },
     "output_type": "display_data"
    }
   ],
   "source": [
    "sns.pairplot(df, hue='species')"
   ]
  },
  {
   "cell_type": "code",
   "execution_count": 10,
   "metadata": {},
   "outputs": [
    {
     "data": {
      "text/plain": [
       "<AxesSubplot:xlabel='species', ylabel='count'>"
      ]
     },
     "execution_count": 10,
     "metadata": {},
     "output_type": "execute_result"
    },
    {
     "data": {
      "image/png": "[encoded data removed]",
      "text/plain": [
       "<Figure size 432x288 with 1 Axes>"
      ]
     },
     "metadata": {
      "needs_background": "light"
     },
     "output_type": "display_data"
    }
   ],
   "source": [
    "# Gráfico para mostrar a quantidade de cada espécies\n",
    "sns.countplot(x=penguins['species'])"
   ]
  },
  {
   "cell_type": "code",
   "execution_count": 14,
   "metadata": {},
   "outputs": [
    {
     "data": {
      "text/plain": [
       "<AxesSubplot:xlabel='species', ylabel='count'>"
      ]
     },
     "execution_count": 14,
     "metadata": {},
     "output_type": "execute_result"
    },
    {
     "data": {
      "image/png": "[encoded data removed]",
      "text/plain": [
       "<Figure size 432x288 with 1 Axes>"
      ]
     },
     "metadata": {
      "needs_background": "light"
     },
     "output_type": "display_data"
    }
   ],
   "source": [
    "# Gráfico com macho e femea de cada espécie\n",
    "sns.countplot(x=penguins['species'],hue=penguins['sex'])5"
   ]
  },
  {
   "cell_type": "code",
   "execution_count": 40,
   "metadata": {},
   "outputs": [
    {
     "data": {
      "text/plain": [
       "<AxesSubplot:xlabel='species', ylabel='count'>"
      ]
     },
     "execution_count": 40,
     "metadata": {},
     "output_type": "execute_result"
    },
    {
     "data": {
      "image/png": "[encoded data removed]",
      "text/plain": [
       "<Figure size 432x288 with 1 Axes>"
      ]
     },
     "metadata": {
      "needs_background": "light"
     },
     "output_type": "display_data"
    }
   ],
   "source": [
    "sns.countplot(x=penguins['species'],hue=penguins['island'])"
   ]
  },
  {
   "cell_type": "code",
   "execution_count": 20,
   "metadata": {},
   "outputs": [
    {
     "name": "stdout",
     "output_type": "stream",
     "text": [
      "Rótulos das classes: [0 1 2 3 4 5]\n",
      "Dados: [[  39.1 3750. ]\n",
      " [  39.5 3800. ]\n",
      " [  40.3 3250. ]\n",
      " [   0.     0. ]\n",
      " [  36.7 3450. ]\n",
      " [  39.3 3650. ]\n",
      " [  38.9 3625. ]\n",
      " [  39.2 4675. ]\n",
      " [  34.1 3475. ]\n",
      " [  42.  4250. ]\n",
      " [  37.8 3300. ]\n",
      " [  37.8 3700. ]\n",
      " [  41.1 3200. ]\n",
      " [  38.6 3800. ]\n",
      " [  34.6 4400. ]\n",
      " [  36.6 3700. ]\n",
      " [  38.7 3450. ]\n",
      " [  42.5 4500. ]\n",
      " [  34.4 3325. ]\n",
      " [  46.  4200. ]\n",
      " [  37.8 3400. ]\n",
      " [  37.7 3600. ]\n",
      " [  35.9 3800. ]\n",
      " [  38.2 3950. ]\n",
      " [  38.8 3800. ]\n",
      " [  35.3 3800. ]\n",
      " [  40.6 3550. ]\n",
      " [  40.5 3200. ]\n",
      " [  37.9 3150. ]\n",
      " [  40.5 3950. ]\n",
      " [  39.5 3250. ]\n",
      " [  37.2 3900. ]\n",
      " [  39.5 3300. ]\n",
      " [  40.9 3900. ]\n",
      " [  36.4 3325. ]\n",
      " [  39.2 4150. ]\n",
      " [  38.8 3950. ]\n",
      " [  42.2 3550. ]\n",
      " [  37.6 3300. ]\n",
      " [  39.8 4650. ]\n",
      " [  36.5 3150. ]\n",
      " [  40.8 3900. ]\n",
      " [  36.  3100. ]\n",
      " [  44.1 4400. ]\n",
      " [  37.  3000. ]\n",
      " [  39.6 4600. ]\n",
      " [  41.1 3425. ]\n",
      " [  37.5 2975. ]\n",
      " [  36.  3450. ]\n",
      " [  42.3 4150. ]\n",
      " [  39.6 3500. ]\n",
      " [  40.1 4300. ]\n",
      " [  35.  3450. ]\n",
      " [  42.  4050. ]\n",
      " [  34.5 2900. ]\n",
      " [  41.4 3700. ]\n",
      " [  39.  3550. ]\n",
      " [  40.6 3800. ]\n",
      " [  36.5 2850. ]\n",
      " [  37.6 3750. ]\n",
      " [  35.7 3150. ]\n",
      " [  41.3 4400. ]\n",
      " [  37.6 3600. ]\n",
      " [  41.1 4050. ]\n",
      " [  36.4 2850. ]\n",
      " [  41.6 3950. ]\n",
      " [  35.5 3350. ]\n",
      " [  41.1 4100. ]\n",
      " [  35.9 3050. ]\n",
      " [  41.8 4450. ]\n",
      " [  33.5 3600. ]\n",
      " [  39.7 3900. ]\n",
      " [  39.6 3550. ]\n",
      " [  45.8 4150. ]\n",
      " [  35.5 3700. ]\n",
      " [  42.8 4250. ]\n",
      " [  40.9 3700. ]\n",
      " [  37.2 3900. ]\n",
      " [  36.2 3550. ]\n",
      " [  42.1 4000. ]\n",
      " [  34.6 3200. ]\n",
      " [  42.9 4700. ]\n",
      " [  36.7 3800. ]\n",
      " [  35.1 4200. ]\n",
      " [  37.3 3350. ]\n",
      " [  41.3 3550. ]\n",
      " [  36.3 3800. ]\n",
      " [  36.9 3500. ]\n",
      " [  38.3 3950. ]\n",
      " [  38.9 3600. ]\n",
      " [  35.7 3550. ]\n",
      " [  41.1 4300. ]\n",
      " [  34.  3400. ]\n",
      " [  39.6 4450. ]\n",
      " [  36.2 3300. ]\n",
      " [  40.8 4300. ]\n",
      " [  38.1 3700. ]\n",
      " [  40.3 4350. ]\n",
      " [  33.1 2900. ]\n",
      " [  43.2 4100. ]\n",
      " [  35.  3725. ]\n",
      " [  41.  4725. ]\n",
      " [  37.7 3075. ]\n",
      " [  37.8 4250. ]\n",
      " [  37.9 2925. ]\n",
      " [  39.7 3550. ]\n",
      " [  38.6 3750. ]\n",
      " [  38.2 3900. ]\n",
      " [  38.1 3175. ]\n",
      " [  43.2 4775. ]\n",
      " [  38.1 3825. ]\n",
      " [  45.6 4600. ]\n",
      " [  39.7 3200. ]\n",
      " [  42.2 4275. ]\n",
      " [  39.6 3900. ]\n",
      " [  42.7 4075. ]\n",
      " [  38.6 2900. ]\n",
      " [  37.3 3775. ]\n",
      " [  35.7 3350. ]\n",
      " [  41.1 3325. ]\n",
      " [  36.2 3150. ]\n",
      " [  37.7 3500. ]\n",
      " [  40.2 3450. ]\n",
      " [  41.4 3875. ]\n",
      " [  35.2 3050. ]\n",
      " [  40.6 4000. ]\n",
      " [  38.8 3275. ]\n",
      " [  41.5 4300. ]\n",
      " [  39.  3050. ]\n",
      " [  44.1 4000. ]\n",
      " [  38.5 3325. ]\n",
      " [  43.1 3500. ]\n",
      " [  36.8 3500. ]\n",
      " [  37.5 4475. ]\n",
      " [  38.1 3425. ]\n",
      " [  41.1 3900. ]\n",
      " [  35.6 3175. ]\n",
      " [  40.2 3975. ]\n",
      " [  37.  3400. ]\n",
      " [  39.7 4250. ]\n",
      " [  40.2 3400. ]\n",
      " [  40.6 3475. ]\n",
      " [  32.1 3050. ]\n",
      " [  40.7 3725. ]\n",
      " [  37.3 3000. ]\n",
      " [  39.  3650. ]\n",
      " [  39.2 4250. ]\n",
      " [  36.6 3475. ]\n",
      " [  36.  3450. ]\n",
      " [  37.8 3750. ]\n",
      " [  36.  3700. ]\n",
      " [  41.5 4000. ]\n",
      " [  46.5 3500. ]\n",
      " [  50.  3900. ]\n",
      " [  51.3 3650. ]\n",
      " [  45.4 3525. ]\n",
      " [  52.7 3725. ]\n",
      " [  45.2 3950. ]\n",
      " [  46.1 3250. ]\n",
      " [  51.3 3750. ]\n",
      " [  46.  4150. ]\n",
      " [  51.3 3700. ]\n",
      " [  46.6 3800. ]\n",
      " [  51.7 3775. ]\n",
      " [  47.  3700. ]\n",
      " [  52.  4050. ]\n",
      " [  45.9 3575. ]\n",
      " [  50.5 4050. ]\n",
      " [  50.3 3300. ]\n",
      " [  58.  3700. ]\n",
      " [  46.4 3450. ]\n",
      " [  49.2 4400. ]\n",
      " [  42.4 3600. ]\n",
      " [  48.5 3400. ]\n",
      " [  43.2 2900. ]\n",
      " [  50.6 3800. ]\n",
      " [  46.7 3300. ]\n",
      " [  52.  4150. ]\n",
      " [  50.5 3400. ]\n",
      " [  49.5 3800. ]\n",
      " [  46.4 3700. ]\n",
      " [  52.8 4550. ]\n",
      " [  40.9 3200. ]\n",
      " [  54.2 4300. ]\n",
      " [  42.5 3350. ]\n",
      " [  51.  4100. ]\n",
      " [  49.7 3600. ]\n",
      " [  47.5 3900. ]\n",
      " [  47.6 3850. ]\n",
      " [  52.  4800. ]\n",
      " [  46.9 2700. ]\n",
      " [  53.5 4500. ]\n",
      " [  49.  3950. ]\n",
      " [  46.2 3650. ]\n",
      " [  50.9 3550. ]\n",
      " [  45.5 3500. ]\n",
      " [  50.9 3675. ]\n",
      " [  50.8 4450. ]\n",
      " [  50.1 3400. ]\n",
      " [  49.  4300. ]\n",
      " [  51.5 3250. ]\n",
      " [  49.8 3675. ]\n",
      " [  48.1 3325. ]\n",
      " [  51.4 3950. ]\n",
      " [  45.7 3600. ]\n",
      " [  50.7 4050. ]\n",
      " [  42.5 3350. ]\n",
      " [  52.2 3450. ]\n",
      " [  45.2 3250. ]\n",
      " [  49.3 4050. ]\n",
      " [  50.2 3800. ]\n",
      " [  45.6 3525. ]\n",
      " [  51.9 3950. ]\n",
      " [  46.8 3650. ]\n",
      " [  45.7 3650. ]\n",
      " [  55.8 4000. ]\n",
      " [  43.5 3400. ]\n",
      " [  49.6 3775. ]\n",
      " [  50.8 4100. ]\n",
      " [  50.2 3775. ]\n",
      " [  46.1 4500. ]\n",
      " [  50.  5700. ]\n",
      " [  48.7 4450. ]\n",
      " [  50.  5700. ]\n",
      " [  47.6 5400. ]\n",
      " [  46.5 4550. ]\n",
      " [  45.4 4800. ]\n",
      " [  46.7 5200. ]\n",
      " [  43.3 4400. ]\n",
      " [  46.8 5150. ]\n",
      " [  40.9 4650. ]\n",
      " [  49.  5550. ]\n",
      " [  45.5 4650. ]\n",
      " [  48.4 5850. ]\n",
      " [  45.8 4200. ]\n",
      " [  49.3 5850. ]\n",
      " [  42.  4150. ]\n",
      " [  49.2 6300. ]\n",
      " [  46.2 4800. ]\n",
      " [  48.7 5350. ]\n",
      " [  50.2 5700. ]\n",
      " [  45.1 5000. ]\n",
      " [  46.5 4400. ]\n",
      " [  46.3 5050. ]\n",
      " [  42.9 5000. ]\n",
      " [  46.1 5100. ]\n",
      " [  44.5 4100. ]\n",
      " [  47.8 5650. ]\n",
      " [  48.2 4600. ]\n",
      " [  50.  5550. ]\n",
      " [  47.3 5250. ]\n",
      " [  42.8 4700. ]\n",
      " [  45.1 5050. ]\n",
      " [  59.6 6050. ]\n",
      " [  49.1 5150. ]\n",
      " [  48.4 5400. ]\n",
      " [  42.6 4950. ]\n",
      " [  44.4 5250. ]\n",
      " [  44.  4350. ]\n",
      " [  48.7 5350. ]\n",
      " [  42.7 3950. ]\n",
      " [  49.6 5700. ]\n",
      " [  45.3 4300. ]\n",
      " [  49.6 4750. ]\n",
      " [  50.5 5550. ]\n",
      " [  43.6 4900. ]\n",
      " [  45.5 4200. ]\n",
      " [  50.5 5400. ]\n",
      " [  44.9 5100. ]\n",
      " [  45.2 5300. ]\n",
      " [  46.6 4850. ]\n",
      " [  48.5 5300. ]\n",
      " [  45.1 4400. ]\n",
      " [  50.1 5000. ]\n",
      " [  46.5 4900. ]\n",
      " [  45.  5050. ]\n",
      " [  43.8 4300. ]\n",
      " [  45.5 5000. ]\n",
      " [  43.2 4450. ]\n",
      " [  50.4 5550. ]\n",
      " [  45.3 4200. ]\n",
      " [  46.2 5300. ]\n",
      " [  45.7 4400. ]\n",
      " [  54.3 5650. ]\n",
      " [  45.8 4700. ]\n",
      " [  49.8 5700. ]\n",
      " [  46.2 4650. ]\n",
      " [  49.5 5800. ]\n",
      " [  43.5 4700. ]\n",
      " [  50.7 5550. ]\n",
      " [  47.7 4750. ]\n",
      " [  46.4 5000. ]\n",
      " [  48.2 5100. ]\n",
      " [  46.5 5200. ]\n",
      " [  46.4 4700. ]\n",
      " [  48.6 5800. ]\n",
      " [  47.5 4600. ]\n",
      " [  51.1 6000. ]\n",
      " [  45.2 4750. ]\n",
      " [  45.2 5950. ]\n",
      " [  49.1 4625. ]\n",
      " [  52.5 5450. ]\n",
      " [  47.4 4725. ]\n",
      " [  50.  5350. ]\n",
      " [  44.9 4750. ]\n",
      " [  50.8 5600. ]\n",
      " [  43.4 4600. ]\n",
      " [  51.3 5300. ]\n",
      " [  47.5 4875. ]\n",
      " [  52.1 5550. ]\n",
      " [  47.5 4950. ]\n",
      " [  52.2 5400. ]\n",
      " [  45.5 4750. ]\n",
      " [  49.5 5650. ]\n",
      " [  44.5 4850. ]\n",
      " [  50.8 5200. ]\n",
      " [  49.4 4925. ]\n",
      " [  46.9 4875. ]\n",
      " [  48.4 4625. ]\n",
      " [  51.1 5250. ]\n",
      " [  48.5 4850. ]\n",
      " [  55.9 5600. ]\n",
      " [  47.2 4975. ]\n",
      " [  49.1 5500. ]\n",
      " [  47.3 4725. ]\n",
      " [  46.8 5500. ]\n",
      " [  41.7 4700. ]\n",
      " [  53.4 5500. ]\n",
      " [  43.3 4575. ]\n",
      " [  48.1 5500. ]\n",
      " [  50.5 5000. ]\n",
      " [  49.8 5950. ]\n",
      " [  43.5 4650. ]\n",
      " [  51.5 5500. ]\n",
      " [  46.2 4375. ]\n",
      " [  55.1 5850. ]\n",
      " [  44.5 4875. ]\n",
      " [  48.8 6000. ]\n",
      " [  47.2 4925. ]\n",
      " [   0.     0. ]\n",
      " [  46.8 4850. ]\n",
      " [  50.4 5750. ]\n",
      " [  45.2 5200. ]\n",
      " [  49.9 5400. ]]\n"
     ]
    }
   ],
   "source": [
    "import matplotlib.pyplot as plt\n",
    "import seaborn as sns\n",
    "from matplotlib.colors import ListedColormap\n",
    "from sklearn import neighbors, datasets\n",
    "from sklearn.inspection import DecisionBoundaryDisplay\n",
    "iris = datasets.load_iris()\n",
    "\n",
    "X = df[[\"bill_length_mm\", \"body_mass_g\"]].values\n",
    "y = df[\"species\"].values\n",
    "print('Rótulos das classes:', np.unique(y))\n",
    "print('Dados:', X)"
   ]
  },
  {
   "cell_type": "code",
   "execution_count": 24,
   "metadata": {},
   "outputs": [],
   "source": [
    "from sklearn.model_selection import train_test_split\n",
    "\n",
    "X_train, X_test, y_train, y_test = train_test_split(X, y, test_size=0.3, random_state=1)\n",
    "\n",
    "from sklearn.preprocessing import StandardScaler\n",
    "sc = StandardScaler()\n",
    "sc.fit(X_train)\n",
    "\n",
    "X_train_std = sc.transform(X_train)\n",
    "X_test_std = sc.transform(X_test)"
   ]
  },
  {
   "cell_type": "code",
   "execution_count": 25,
   "metadata": {},
   "outputs": [],
   "source": [
    "#X_combined_std = np.vstack((X_train_std, X_test_std))\n",
    "from matplotlib.colors import ListedColormap\n",
    "from distutils.version import LooseVersion\n",
    "import matplotlib.pyplot as plt\n",
    "import matplotlib\n",
    "\n",
    "def plot_decision_regions(X, y, classifier, test_idx=None, resolution=0.02):\n",
    "    # setup marker generator and color map\n",
    "    markers = ('s', 'x', 'o', '^', 'v', '.', '1')\n",
    "    colors = ('red', 'blue', 'lightgreen', 'gray', 'cyan', 'brown', 'pink')\n",
    "    cmap = ListedColormap(colors[:len(np.unique(y))])\n",
    "    # plot the decision surface\n",
    "    x1_min, x1_max = X[:, 0].min() - 1, X[:, 0].max() + 1\n",
    "    x2_min, x2_max = X[:, 0].min() - 1, X[:, 0].max() + 1\n",
    "    xx1, xx2 = np.meshgrid(np.arange(x1_min, x1_max, resolution),\n",
    "    np.arange(x2_min, x2_max, resolution))\n",
    "    print()\n",
    "    Z = classifier.predict(np.array([xx1.ravel(), xx2.ravel()]).T)\n",
    "    Z = Z.reshape(xx1.shape)\n",
    "    plt.contourf(xx1, xx2, Z, alpha=0.3, cmap=cmap)\n",
    "    plt.xlim(xx1.min(), xx1.max())\n",
    "    plt.ylim(xx2.min(), xx2.max())\n",
    "\n",
    "    for idx, cl in enumerate(np.unique(y)):\n",
    "        plt.scatter(x=X[y == cl, 0],\n",
    "        y=X[y == cl, 1],\n",
    "        alpha=0.8,\n",
    "        color=colors[idx],\n",
    "        marker=markers[idx],\n",
    "        label=cl,\n",
    "        edgecolor='black')\n",
    "\n",
    "    # highlight test examples\n",
    "    if test_idx:\n",
    "        # plot all examples\n",
    "        X_test, y_test = X[test_idx, :], y[test_idx]\n",
    "\n",
    "        if LooseVersion(matplotlib.__version__) < LooseVersion('0.3.4'):\n",
    "            plt.scatter(X_test[:, 0],\n",
    "            X_test[:, 1],\n",
    "            c='',\n",
    "            edgecolor='black',\n",
    "            alpha=1.0,\n",
    "            linewidth=1,\n",
    "            marker='o',\n",
    "            s=100,\n",
    "            label='test set')\n",
    "        else:\n",
    "            plt.scatter(X_test[:, 0], X_test[:, 1], c='none', edgecolor='black',\n",
    "            alpha=1.0,\n",
    "            linewidth=1,\n",
    "            marker='o',\n",
    "            s=100,\n",
    "            label='test set')\n",
    "\n",
    "#y_combined_std = np.hstack((y_train, y_test))\n"
   ]
  },
  {
   "cell_type": "code",
   "execution_count": 26,
   "metadata": {},
   "outputs": [],
   "source": [
    "X_combined_std = np.vstack((X_train_std, X_test_std))\n",
    "y_combined_std = np.hstack((y_train, y_test))"
   ]
  },
  {
   "cell_type": "code",
   "execution_count": 27,
   "metadata": {},
   "outputs": [],
   "source": [
    "from sklearn.neighbors import KNeighborsClassifier\n",
    "KNN = KNeighborsClassifier(n_neighbors=21)"
   ]
  },
  {
   "cell_type": "code",
   "execution_count": 28,
   "metadata": {},
   "outputs": [
    {
     "data": {
      "text/plain": [
       "array([4, 4, 4, 0, 4, 4, 0, 0, 0, 4, 2, 4, 4, 0, 0, 0, 0, 4, 0, 0, 4, 0,\n",
       "       4, 4, 0, 0, 0, 2, 4, 0, 0, 0, 4, 0, 0, 0, 0, 0, 4, 0, 0, 0, 0, 4,\n",
       "       4, 0, 0, 4, 4, 4, 2, 4, 0, 0, 4, 0, 4, 0, 0, 0, 4, 0, 4, 4, 0, 0,\n",
       "       0, 0, 4, 0, 0, 0, 0, 4, 4, 4, 0, 0, 0, 4, 4, 4, 0, 0, 0, 0, 0, 0,\n",
       "       4, 0, 0, 0, 4, 0, 0, 0, 2, 0, 4, 0, 4, 4, 2, 4])"
      ]
     },
     "execution_count": 28,
     "metadata": {},
     "output_type": "execute_result"
    }
   ],
   "source": [
    "KNN.fit(X_train, y_train)\n",
    "predicao = KNN.predict(X_test)\n",
    "predicao"
   ]
  },
  {
   "cell_type": "code",
   "execution_count": 29,
   "metadata": {},
   "outputs": [
    {
     "name": "stdout",
     "output_type": "stream",
     "text": [
      "\n"
     ]
    },
    {
     "name": "stderr",
     "output_type": "stream",
     "text": [
      "/tmp/ipykernel_9065/2791594524.py:25: UserWarning: You passed a edgecolor/edgecolors ('black') for an unfilled marker ('x').  Matplotlib is ignoring the edgecolor in favor of the facecolor.  This behavior may change in the future.\n",
      "  plt.scatter(x=X[y == cl, 0],\n"
     ]
    },
    {
     "data": {
      "image/png": "[encoded data removed]",
      "text/plain": [
       "<Figure size 432x288 with 1 Axes>"
      ]
     },
     "metadata": {
      "needs_background": "light"
     },
     "output_type": "display_data"
    }
   ],
   "source": [
    "plot_decision_regions(X_combined_std, y_combined_std, classifier=KNN)"
   ]
  },
  {
   "cell_type": "code",
   "execution_count": 30,
   "metadata": {},
   "outputs": [
    {
     "name": "stdout",
     "output_type": "stream",
     "text": [
      "[[44  0  3]\n",
      " [13  5  3]\n",
      " [ 3  0 33]]\n"
     ]
    }
   ],
   "source": [
    "from sklearn.metrics import classification_report, confusion_matrix, accuracy_score\n",
    "from sklearn.neighbors import KNeighborsClassifier\n",
    "print(confusion_matrix(y_test, predicao))"
   ]
  },
  {
   "cell_type": "code",
   "execution_count": 31,
   "metadata": {},
   "outputs": [
    {
     "data": {
      "text/plain": [
       "7.454545454545454"
      ]
     },
     "execution_count": 31,
     "metadata": {},
     "output_type": "execute_result"
    }
   ],
   "source": [
    "probabilidade = (44 + 5 + 33) / (3 + 5 + 3)\n",
    "probabilidade"
   ]
  },
  {
   "cell_type": "code",
   "execution_count": 32,
   "metadata": {},
   "outputs": [
    {
     "name": "stdout",
     "output_type": "stream",
     "text": [
      "              precision    recall  f1-score   support\n",
      "\n",
      "           0       0.73      0.94      0.82        47\n",
      "           2       1.00      0.24      0.38        21\n",
      "           4       0.85      0.92      0.88        36\n",
      "\n",
      "    accuracy                           0.79       104\n",
      "   macro avg       0.86      0.70      0.70       104\n",
      "weighted avg       0.83      0.79      0.75       104\n",
      "\n"
     ]
    }
   ],
   "source": [
    "print(classification_report(y_test, predicao))"
   ]
  },
  {
   "cell_type": "code",
   "execution_count": 33,
   "metadata": {},
   "outputs": [],
   "source": [
    "error_rate = []\n",
    "for i in range(1, 50):\n",
    "    KNN = KNeighborsClassifier(n_neighbors= i)\n",
    "    KNN.fit(X_train, y_train)\n",
    "    preditor_i = KNN.predict(X_test)\n",
    "    error_rate.append(np.mean(preditor_i != y_test))"
   ]
  },
  {
   "cell_type": "code",
   "execution_count": 34,
   "metadata": {},
   "outputs": [
    {
     "data": {
      "text/plain": [
       "[<matplotlib.lines.Line2D at 0x7f93854df250>]"
      ]
     },
     "execution_count": 34,
     "metadata": {},
     "output_type": "execute_result"
    },
    {
     "data": {
      "image/png": "[encoded data removed]",
      "text/plain": [
       "<Figure size 720x432 with 1 Axes>"
      ]
     },
     "metadata": {
      "needs_background": "light"
     },
     "output_type": "display_data"
    }
   ],
   "source": [
    "plt.figure(figsize=(10,6))\n",
    "plt.plot(range(1, 50), error_rate)"
   ]
  },
  {
   "cell_type": "code",
   "execution_count": 36,
   "metadata": {},
   "outputs": [
    {
     "name": "stdout",
     "output_type": "stream",
     "text": [
      "{'n_neighbors': [1, 2, 3, 4, 5, 6, 7, 8, 9, 10, 11, 12, 13, 14, 15, 16, 17, 18, 19, 20, 21, 22, 23, 24, 25, 26, 27, 28, 29, 30]}\n",
      "Fitting 10 folds for each of 30 candidates, totalling 300 fits\n"
     ]
    },
    {
     "name": "stderr",
     "output_type": "stream",
     "text": [
      "/home/luan/.local/lib/python3.8/site-packages/sklearn/model_selection/_split.py:684: UserWarning: The least populated class in y has only 1 members, which is less than n_splits=10.\n",
      "  warnings.warn(\n"
     ]
    },
    {
     "name": "stdout",
     "output_type": "stream",
     "text": [
      "{'n_neighbors': 1}\n",
      "Accuracy do treino : 83.33%\n"
     ]
    }
   ],
   "source": [
    "knn = KNeighborsClassifier()\n",
    "from sklearn.model_selection import GridSearchCV\n",
    "k_range = list(range(1, 31))\n",
    "param_grid = dict(n_neighbors=k_range)\n",
    "print(param_grid)\n",
    "  \n",
    "# defining parameter range\n",
    "grid = GridSearchCV(knn, param_grid, cv=10, scoring='accuracy', return_train_score=False,verbose=1)\n",
    "  \n",
    "grid_search=grid.fit(X_train, y_train)\n",
    "\n",
    "print(grid_search.best_params_)\n",
    "accuracy = grid_search.best_score_ *100\n",
    "print(\"Accuracy do treino : {:.2f}%\".format(accuracy))"
   ]
  },
  {
   "cell_type": "code",
   "execution_count": 37,
   "metadata": {},
   "outputs": [
    {
     "name": "stdout",
     "output_type": "stream",
     "text": [
      "              precision    recall  f1-score   support\n",
      "\n",
      "           0       0.77      0.70      0.73        47\n",
      "           2       0.65      0.62      0.63        21\n",
      "           3       0.00      0.00      0.00         0\n",
      "           4       0.75      0.83      0.79        36\n",
      "\n",
      "    accuracy                           0.73       104\n",
      "   macro avg       0.54      0.54      0.54       104\n",
      "weighted avg       0.74      0.73      0.73       104\n",
      "\n"
     ]
    },
    {
     "name": "stderr",
     "output_type": "stream",
     "text": [
      "/home/luan/.local/lib/python3.8/site-packages/sklearn/metrics/_classification.py:1334: UndefinedMetricWarning: Recall and F-score are ill-defined and being set to 0.0 in labels with no true samples. Use `zero_division` parameter to control this behavior.\n",
      "  _warn_prf(average, modifier, msg_start, len(result))\n",
      "/home/luan/.local/lib/python3.8/site-packages/sklearn/metrics/_classification.py:1334: UndefinedMetricWarning: Recall and F-score are ill-defined and being set to 0.0 in labels with no true samples. Use `zero_division` parameter to control this behavior.\n",
      "  _warn_prf(average, modifier, msg_start, len(result))\n",
      "/home/luan/.local/lib/python3.8/site-packages/sklearn/metrics/_classification.py:1334: UndefinedMetricWarning: Recall and F-score are ill-defined and being set to 0.0 in labels with no true samples. Use `zero_division` parameter to control this behavior.\n",
      "  _warn_prf(average, modifier, msg_start, len(result))\n"
     ]
    }
   ],
   "source": [
    "grid = GridSearchCV(knn, param_grid, cv=10, scoring='accuracy', return_train_score=False,verbose=1)\n",
    "print(classification_report(y_test, grid_search.predict(X_test)))"
   ]
  },
  {
   "cell_type": "code",
   "execution_count": 38,
   "metadata": {},
   "outputs": [
    {
     "name": "stdout",
     "output_type": "stream",
     "text": [
      "Accuracy do teste : 73.08%\n"
     ]
    }
   ],
   "source": [
    "knn = KNeighborsClassifier(n_neighbors=1)\n",
    "knn.fit(X_train, y_train)\n",
    "y_test_hat=knn.predict(X_test) \n",
    "test_accuracy=accuracy_score(y_test,y_test_hat)*100\n",
    "print(\"Accuracy do teste : {:.2f}%\".format(test_accuracy))"
   ]
  }
 ],
 "metadata": {
  "kernelspec": {
   "display_name": "Python 3.8.10 64-bit",
   "language": "python",
   "name": "python3"
  },
  "language_info": {
   "codemirror_mode": {
    "name": "ipython",
    "version": 3
   },
   "file_extension": ".py",
   "mimetype": "text/x-python",
   "name": "python",
   "nbconvert_exporter": "python",
   "pygments_lexer": "ipython3",
   "version": "3.8.10"
  },
  "orig_nbformat": 4,
  "vscode": {
   "interpreter": {
    "hash": "31f2aee4e71d21fbe5cf8b01ff0e069b9275f58929596ceb00d14d90e3e16cd6"
   }
  }
 },
 "nbformat": 4,
 "nbformat_minor": 2
}
