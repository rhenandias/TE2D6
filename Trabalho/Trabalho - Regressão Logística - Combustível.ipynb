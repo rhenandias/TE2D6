{
 "cells": [
  {
   "cell_type": "code",
   "execution_count": 17,
   "id": "69cdd424-6180-4788-850d-df71b660943e",
   "metadata": {},
   "outputs": [],
   "source": [
    "from sklearn import datasets\n",
    "import numpy as np\n",
    "import seaborn as sns\n",
    "import pandas as pd\n",
    "from sklearn.model_selection import train_test_split\n",
    "from sklearn.linear_model import LogisticRegression"
   ]
  },
  {
   "cell_type": "code",
   "execution_count": 18,
   "id": "833d3e1b-c457-41ae-8e9d-d0d46db41218",
   "metadata": {},
   "outputs": [],
   "source": [
    "work_directory = \"../../combustiveis/\"\n",
    "dataset_name = \"dataset_etanol_gasolina_sp.csv\"\n",
    "\n",
    "df_original = pd.read_csv(work_directory + dataset_name, sep=\",\", decimal=\".\", encoding=\"cp860\", index_col=False)"
   ]
  },
  {
   "cell_type": "code",
   "execution_count": 19,
   "id": "35df4537-7409-4fd8-b8a2-bcf23f96f1a8",
   "metadata": {},
   "outputs": [
    {
     "data": {
      "text/html": [
       "<div>\n",
       "<style scoped>\n",
       "    .dataframe tbody tr th:only-of-type {\n",
       "        vertical-align: middle;\n",
       "    }\n",
       "\n",
       "    .dataframe tbody tr th {\n",
       "        vertical-align: top;\n",
       "    }\n",
       "\n",
       "    .dataframe thead th {\n",
       "        text-align: right;\n",
       "    }\n",
       "</style>\n",
       "<table border=\"1\" class=\"dataframe\">\n",
       "  <thead>\n",
       "    <tr style=\"text-align: right;\">\n",
       "      <th></th>\n",
       "      <th>Semestre</th>\n",
       "      <th>ΓêÒΓòùΓõÉRegiao - Sigla</th>\n",
       "      <th>Estado - Sigla</th>\n",
       "      <th>Municipio</th>\n",
       "      <th>Revenda</th>\n",
       "      <th>CNPJ da Revenda</th>\n",
       "      <th>Nome da Rua</th>\n",
       "      <th>Numero Rua</th>\n",
       "      <th>Complemento</th>\n",
       "      <th>Bairro</th>\n",
       "      <th>Cep</th>\n",
       "      <th>Produto</th>\n",
       "      <th>Data da Coleta</th>\n",
       "      <th>Valor de Venda</th>\n",
       "      <th>Valor de Compra</th>\n",
       "      <th>Unidade de Medida</th>\n",
       "      <th>Bandeira</th>\n",
       "    </tr>\n",
       "  </thead>\n",
       "  <tbody>\n",
       "    <tr>\n",
       "      <th>0</th>\n",
       "      <td>2020-01</td>\n",
       "      <td>SE</td>\n",
       "      <td>SP</td>\n",
       "      <td>GUARULHOS</td>\n",
       "      <td>AUTO POSTO SAKAMOTO LTDA</td>\n",
       "      <td>49.051.667/0001-02</td>\n",
       "      <td>RODOVIA PRESIDENTE DUTRA</td>\n",
       "      <td>S/N</td>\n",
       "      <td>KM 210,5-SENT SP/RJ</td>\n",
       "      <td>BONSUCESSO</td>\n",
       "      <td>07178-580</td>\n",
       "      <td>GASOLINA</td>\n",
       "      <td>03/01/2020</td>\n",
       "      <td>4.399</td>\n",
       "      <td>NaN</td>\n",
       "      <td>R$ / litro</td>\n",
       "      <td>PETROBRAS DISTRIBUIDORA S.A.</td>\n",
       "    </tr>\n",
       "    <tr>\n",
       "      <th>1</th>\n",
       "      <td>2020-01</td>\n",
       "      <td>SE</td>\n",
       "      <td>SP</td>\n",
       "      <td>GUARULHOS</td>\n",
       "      <td>AUTO POSTO SAKAMOTO LTDA</td>\n",
       "      <td>49.051.667/0001-02</td>\n",
       "      <td>RODOVIA PRESIDENTE DUTRA</td>\n",
       "      <td>S/N</td>\n",
       "      <td>KM 210,5-SENT SP/RJ</td>\n",
       "      <td>BONSUCESSO</td>\n",
       "      <td>07178-580</td>\n",
       "      <td>ETANOL</td>\n",
       "      <td>03/01/2020</td>\n",
       "      <td>3.199</td>\n",
       "      <td>NaN</td>\n",
       "      <td>R$ / litro</td>\n",
       "      <td>PETROBRAS DISTRIBUIDORA S.A.</td>\n",
       "    </tr>\n",
       "    <tr>\n",
       "      <th>2</th>\n",
       "      <td>2020-01</td>\n",
       "      <td>SE</td>\n",
       "      <td>SP</td>\n",
       "      <td>ADAMANTINA</td>\n",
       "      <td>REDE GAZOLI AUTO POSTO LTDA.</td>\n",
       "      <td>09.116.143/0001-38</td>\n",
       "      <td>AVENIDA MARECHAL CASTELO BRANCO</td>\n",
       "      <td>15</td>\n",
       "      <td>NaN</td>\n",
       "      <td>VILA JAMIL DE LIMA</td>\n",
       "      <td>17800-000</td>\n",
       "      <td>GASOLINA</td>\n",
       "      <td>02/01/2020</td>\n",
       "      <td>4.390</td>\n",
       "      <td>NaN</td>\n",
       "      <td>R$ / litro</td>\n",
       "      <td>RAIZEN</td>\n",
       "    </tr>\n",
       "    <tr>\n",
       "      <th>3</th>\n",
       "      <td>2020-01</td>\n",
       "      <td>SE</td>\n",
       "      <td>SP</td>\n",
       "      <td>ADAMANTINA</td>\n",
       "      <td>REDE GAZOLI AUTO POSTO LTDA.</td>\n",
       "      <td>09.116.143/0001-38</td>\n",
       "      <td>AVENIDA MARECHAL CASTELO BRANCO</td>\n",
       "      <td>15</td>\n",
       "      <td>NaN</td>\n",
       "      <td>VILA JAMIL DE LIMA</td>\n",
       "      <td>17800-000</td>\n",
       "      <td>ETANOL</td>\n",
       "      <td>02/01/2020</td>\n",
       "      <td>2.790</td>\n",
       "      <td>NaN</td>\n",
       "      <td>R$ / litro</td>\n",
       "      <td>RAIZEN</td>\n",
       "    </tr>\n",
       "    <tr>\n",
       "      <th>4</th>\n",
       "      <td>2020-01</td>\n",
       "      <td>SE</td>\n",
       "      <td>SP</td>\n",
       "      <td>ADAMANTINA</td>\n",
       "      <td>AUTO POSTO CARREIRO LTDA</td>\n",
       "      <td>55.451.876/0001-46</td>\n",
       "      <td>AVENIDA CAP JOSE A DE OLIVEIRA</td>\n",
       "      <td>160</td>\n",
       "      <td>NaN</td>\n",
       "      <td>CENTRO</td>\n",
       "      <td>17800-000</td>\n",
       "      <td>GASOLINA</td>\n",
       "      <td>02/01/2020</td>\n",
       "      <td>4.340</td>\n",
       "      <td>3.91</td>\n",
       "      <td>R$ / litro</td>\n",
       "      <td>BRANCA</td>\n",
       "    </tr>\n",
       "  </tbody>\n",
       "</table>\n",
       "</div>"
      ],
      "text/plain": [
       "  Semestre ΓêÒΓòùΓõÉRegiao - Sigla Estado - Sigla   Municipio  \\\n",
       "0  2020-01                      SE             SP   GUARULHOS   \n",
       "1  2020-01                      SE             SP   GUARULHOS   \n",
       "2  2020-01                      SE             SP  ADAMANTINA   \n",
       "3  2020-01                      SE             SP  ADAMANTINA   \n",
       "4  2020-01                      SE             SP  ADAMANTINA   \n",
       "\n",
       "                        Revenda      CNPJ da Revenda  \\\n",
       "0      AUTO POSTO SAKAMOTO LTDA   49.051.667/0001-02   \n",
       "1      AUTO POSTO SAKAMOTO LTDA   49.051.667/0001-02   \n",
       "2  REDE GAZOLI AUTO POSTO LTDA.   09.116.143/0001-38   \n",
       "3  REDE GAZOLI AUTO POSTO LTDA.   09.116.143/0001-38   \n",
       "4      AUTO POSTO CARREIRO LTDA   55.451.876/0001-46   \n",
       "\n",
       "                       Nome da Rua Numero Rua          Complemento  \\\n",
       "0         RODOVIA PRESIDENTE DUTRA        S/N  KM 210,5-SENT SP/RJ   \n",
       "1         RODOVIA PRESIDENTE DUTRA        S/N  KM 210,5-SENT SP/RJ   \n",
       "2  AVENIDA MARECHAL CASTELO BRANCO         15                  NaN   \n",
       "3  AVENIDA MARECHAL CASTELO BRANCO         15                  NaN   \n",
       "4   AVENIDA CAP JOSE A DE OLIVEIRA        160                  NaN   \n",
       "\n",
       "               Bairro        Cep   Produto Data da Coleta  Valor de Venda  \\\n",
       "0          BONSUCESSO  07178-580  GASOLINA     03/01/2020           4.399   \n",
       "1          BONSUCESSO  07178-580    ETANOL     03/01/2020           3.199   \n",
       "2  VILA JAMIL DE LIMA  17800-000  GASOLINA     02/01/2020           4.390   \n",
       "3  VILA JAMIL DE LIMA  17800-000    ETANOL     02/01/2020           2.790   \n",
       "4              CENTRO  17800-000  GASOLINA     02/01/2020           4.340   \n",
       "\n",
       "   Valor de Compra Unidade de Medida                      Bandeira  \n",
       "0              NaN        R$ / litro  PETROBRAS DISTRIBUIDORA S.A.  \n",
       "1              NaN        R$ / litro  PETROBRAS DISTRIBUIDORA S.A.  \n",
       "2              NaN        R$ / litro                        RAIZEN  \n",
       "3              NaN        R$ / litro                        RAIZEN  \n",
       "4             3.91        R$ / litro                        BRANCA  "
      ]
     },
     "execution_count": 19,
     "metadata": {},
     "output_type": "execute_result"
    }
   ],
   "source": [
    "df_original.head()"
   ]
  },
  {
   "cell_type": "code",
   "execution_count": 20,
   "id": "291ab241-610c-4e57-a4f6-7255011ceb72",
   "metadata": {},
   "outputs": [],
   "source": [
    "df = df_original"
   ]
  },
  {
   "cell_type": "code",
   "execution_count": 21,
   "id": "e333ea10-ce88-4f70-adcf-131d4543a9ed",
   "metadata": {},
   "outputs": [],
   "source": [
    "df = df[[\"Produto\", \"Valor de Compra\", \"Valor de Venda\"]]"
   ]
  },
  {
   "cell_type": "code",
   "execution_count": 22,
   "id": "d3fbabd9-d055-441f-b627-ecbf32d54d5c",
   "metadata": {},
   "outputs": [],
   "source": [
    "df = df.dropna()"
   ]
  },
  {
   "cell_type": "code",
   "execution_count": 23,
   "id": "1241890b-9ae2-4635-8e6c-db470ac7c64d",
   "metadata": {},
   "outputs": [
    {
     "data": {
      "text/html": [
       "<div>\n",
       "<style scoped>\n",
       "    .dataframe tbody tr th:only-of-type {\n",
       "        vertical-align: middle;\n",
       "    }\n",
       "\n",
       "    .dataframe tbody tr th {\n",
       "        vertical-align: top;\n",
       "    }\n",
       "\n",
       "    .dataframe thead th {\n",
       "        text-align: right;\n",
       "    }\n",
       "</style>\n",
       "<table border=\"1\" class=\"dataframe\">\n",
       "  <thead>\n",
       "    <tr style=\"text-align: right;\">\n",
       "      <th></th>\n",
       "      <th>Produto</th>\n",
       "      <th>Valor de Compra</th>\n",
       "      <th>Valor de Venda</th>\n",
       "    </tr>\n",
       "  </thead>\n",
       "  <tbody>\n",
       "    <tr>\n",
       "      <th>4</th>\n",
       "      <td>GASOLINA</td>\n",
       "      <td>3.9100</td>\n",
       "      <td>4.340</td>\n",
       "    </tr>\n",
       "    <tr>\n",
       "      <th>5</th>\n",
       "      <td>ETANOL</td>\n",
       "      <td>2.5895</td>\n",
       "      <td>2.840</td>\n",
       "    </tr>\n",
       "    <tr>\n",
       "      <th>10</th>\n",
       "      <td>GASOLINA</td>\n",
       "      <td>4.0130</td>\n",
       "      <td>4.390</td>\n",
       "    </tr>\n",
       "    <tr>\n",
       "      <th>11</th>\n",
       "      <td>ETANOL</td>\n",
       "      <td>2.6013</td>\n",
       "      <td>2.790</td>\n",
       "    </tr>\n",
       "    <tr>\n",
       "      <th>12</th>\n",
       "      <td>GASOLINA</td>\n",
       "      <td>4.0040</td>\n",
       "      <td>4.459</td>\n",
       "    </tr>\n",
       "  </tbody>\n",
       "</table>\n",
       "</div>"
      ],
      "text/plain": [
       "     Produto  Valor de Compra  Valor de Venda\n",
       "4   GASOLINA           3.9100           4.340\n",
       "5     ETANOL           2.5895           2.840\n",
       "10  GASOLINA           4.0130           4.390\n",
       "11    ETANOL           2.6013           2.790\n",
       "12  GASOLINA           4.0040           4.459"
      ]
     },
     "execution_count": 23,
     "metadata": {},
     "output_type": "execute_result"
    }
   ],
   "source": [
    "df.head()"
   ]
  },
  {
   "cell_type": "code",
   "execution_count": 24,
   "id": "b9da6783-e985-4071-9f35-9bbffa46aba3",
   "metadata": {},
   "outputs": [
    {
     "name": "stdout",
     "output_type": "stream",
     "text": [
      "GASOLINA    1106570\n",
      "ETANOL      1066941\n",
      "Name: Produto, dtype: int64\n"
     ]
    }
   ],
   "source": [
    "contadores = df[\"Produto\"].value_counts()\n",
    "\n",
    "print(contadores)\n"
   ]
  },
  {
   "cell_type": "code",
   "execution_count": 25,
   "id": "6b621a64-7885-4af6-9072-c90dad73b787",
   "metadata": {},
   "outputs": [
    {
     "data": {
      "text/plain": [
       "<AxesSubplot:xlabel='Produto', ylabel='count'>"
      ]
     },
     "execution_count": 25,
     "metadata": {},
     "output_type": "execute_result"
    },
    {
     "data": {
      "image/png": "[encoded data removed]",
      "text/plain": [
       "<Figure size 576x360 with 1 Axes>"
      ]
     },
     "metadata": {
      "needs_background": "light"
     },
     "output_type": "display_data"
    }
   ],
   "source": [
    "import matplotlib.pyplot as plt\n",
    "\n",
    "fig, ax = plt.subplots(figsize=(8, 5))\n",
    "sns.countplot(x=\"Produto\", data=df, ax=ax)"
   ]
  },
  {
   "cell_type": "code",
   "execution_count": 31,
   "id": "a6827f92-7913-4d40-84ba-afc1aecb29d0",
   "metadata": {},
   "outputs": [
    {
     "data": {
      "text/plain": [
       "<AxesSubplot:xlabel='Produto', ylabel='count'>"
      ]
     },
     "execution_count": 31,
     "metadata": {},
     "output_type": "execute_result"
    },
    {
     "data": {
      "image/png": "[encoded data removed]",
      "text/plain": [
       "<Figure size 360x360 with 1 Axes>"
      ]
     },
     "metadata": {
      "needs_background": "light"
     },
     "output_type": "display_data"
    }
   ],
   "source": [
    "df_geral = pd.DataFrame()\n",
    "\n",
    "labels = np.unique(df[\"Produto\"])\n",
    "\n",
    "for label in labels:\n",
    "    periodo_subset = df.loc[df[\"Produto\"] == label, :]\n",
    "    sampled = periodo_subset.sample(1066941)\n",
    "    df_geral = pd.concat([df_geral, sampled], ignore_index=True)\n",
    "\n",
    "df = df_geral\n",
    "\n",
    "fig, ax = plt.subplots(figsize=(5, 5))\n",
    "sns.countplot(x=\"Produto\", data=df, ax=ax)\n"
   ]
  },
  {
   "cell_type": "markdown",
   "id": "40051029-64ae-49d6-a4b4-e19f2f57d30f",
   "metadata": {},
   "source": [
    "# Realizando Regressão Logística"
   ]
  },
  {
   "cell_type": "code",
   "execution_count": 27,
   "id": "be55cae5-fc1b-4555-b941-59a8ad811b0a",
   "metadata": {},
   "outputs": [],
   "source": [
    "from sklearn.preprocessing import StandardScaler\n",
    "\n",
    "# Definindo valores que serão utilizados\n",
    "X = df[[\"Valor de Venda\", \"Valor de Compra\"]].values\n",
    "Y = df['Produto'].values\n",
    "\n",
    "# Scaling\n",
    "sc_x = StandardScaler()\n",
    "sc_y = StandardScaler()\n",
    "\n",
    "x_std = sc_x.fit_transform(X)\n",
    "\n",
    "# Separando dados de treino e de teste\n",
    "X_train, X_test, y_train, y_test = train_test_split(X, Y, test_size=0.25, random_state=0)\n",
    "\n",
    "# Treinando o classificador\n",
    "logistic_regression = LogisticRegression()\n",
    "logistic_regression.fit(X_train, y_train)\n",
    "y_pred = logistic_regression.predict(X_test)"
   ]
  },
  {
   "cell_type": "code",
   "execution_count": 28,
   "id": "4d1e4f02-950b-4a86-8c02-2eee15eedeef",
   "metadata": {},
   "outputs": [
    {
     "data": {
      "text/plain": [
       "<AxesSubplot:xlabel='Predito', ylabel='Atual'>"
      ]
     },
     "execution_count": 28,
     "metadata": {},
     "output_type": "execute_result"
    },
    {
     "data": {
      "image/png": "[encoded data removed]",
      "text/plain": [
       "<Figure size 360x360 with 2 Axes>"
      ]
     },
     "metadata": {
      "needs_background": "light"
     },
     "output_type": "display_data"
    }
   ],
   "source": [
    "# Visualizando matriz de confusão\n",
    "confusion_matrix = pd.crosstab(y_test, y_pred, rownames=['Atual'], colnames=['Predito'])\n",
    "\n",
    "fig, ax = plt.subplots(figsize=(5, 5))\n",
    "sns.heatmap(confusion_matrix, annot=True, ax=ax)"
   ]
  },
  {
   "cell_type": "code",
   "execution_count": 29,
   "id": "fb5853be-5dc5-4d23-9698-cdb2f2e57983",
   "metadata": {},
   "outputs": [
    {
     "name": "stdout",
     "output_type": "stream",
     "text": [
      "              precision    recall  f1-score   support\n",
      "\n",
      "      ETANOL       0.91      0.83      0.87    266827\n",
      "    GASOLINA       0.84      0.92      0.88    266644\n",
      "\n",
      "    accuracy                           0.87    533471\n",
      "   macro avg       0.88      0.87      0.87    533471\n",
      "weighted avg       0.88      0.87      0.87    533471\n",
      "\n"
     ]
    }
   ],
   "source": [
    "from sklearn.metrics import classification_report\n",
    "from sklearn import metrics\n",
    "\n",
    "print(classification_report(y_test, y_pred))"
   ]
  },
  {
   "cell_type": "code",
   "execution_count": 30,
   "id": "cb70704d-8689-402d-ad0d-b428d9087bf4",
   "metadata": {},
   "outputs": [
    {
     "name": "stdout",
     "output_type": "stream",
     "text": [
      "Acurácia geral:  0.8745817485861462\n"
     ]
    }
   ],
   "source": [
    "logisticRegression = LogisticRegression()\n",
    "\n",
    "logisticRegression.fit(X_train, y_train)\n",
    "\n",
    "score = logisticRegression.score(X_test, y_test)\n",
    "\n",
    "print(\"Acurácia geral: \", score)"
   ]
  }
 ],
 "metadata": {
  "kernelspec": {
   "display_name": "Python 3 (ipykernel)",
   "language": "python",
   "name": "python3"
  },
  "language_info": {
   "codemirror_mode": {
    "name": "ipython",
    "version": 3
   },
   "file_extension": ".py",
   "mimetype": "text/x-python",
   "name": "python",
   "nbconvert_exporter": "python",
   "pygments_lexer": "ipython3",
   "version": "3.8.10"
  }
 },
 "nbformat": 4,
 "nbformat_minor": 5
}
