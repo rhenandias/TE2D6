{
 "cells": [
  {
   "cell_type": "code",
   "execution_count": 64,
   "id": "55701e84-b899-47bb-a481-7997789d6dd7",
   "metadata": {},
   "outputs": [],
   "source": [
    "from sklearn import datasets\n",
    "import numpy as np\n",
    "import seaborn as sns\n",
    "from sklearn.model_selection import train_test_split\n",
    "from sklearn.linear_model import LogisticRegression"
   ]
  },
  {
   "cell_type": "code",
   "execution_count": 65,
   "id": "833d3e1b-c457-41ae-8e9d-d0d46db41218",
   "metadata": {},
   "outputs": [
    {
     "name": "stdout",
     "output_type": "stream",
     "text": [
      "Dataset carregado. Quantidade de registros: 2032002\n"
     ]
    }
   ],
   "source": [
    "import pandas as pd\n",
    "\n",
    "work_directory = \"../../combustiveis/\"\n",
    "dataset_name = \"dataset_etanol_sp.csv\"\n",
    "\n",
    "df = pd.read_csv(work_directory + dataset_name, sep=\",\", decimal=\".\", encoding=\"cp860\", index_col=False)\n",
    "\n",
    "print(\"Dataset carregado. Quantidade de registros: \" + str(len(df.index)))"
   ]
  },
  {
   "cell_type": "code",
   "execution_count": 66,
   "id": "634006f4-8d51-412e-9d9b-523435720ab1",
   "metadata": {},
   "outputs": [
    {
     "data": {
      "text/html": [
       "<div>\n",
       "<style scoped>\n",
       "    .dataframe tbody tr th:only-of-type {\n",
       "        vertical-align: middle;\n",
       "    }\n",
       "\n",
       "    .dataframe tbody tr th {\n",
       "        vertical-align: top;\n",
       "    }\n",
       "\n",
       "    .dataframe thead th {\n",
       "        text-align: right;\n",
       "    }\n",
       "</style>\n",
       "<table border=\"1\" class=\"dataframe\">\n",
       "  <thead>\n",
       "    <tr style=\"text-align: right;\">\n",
       "      <th></th>\n",
       "      <th>Valor de Venda</th>\n",
       "      <th>Valor de Compra</th>\n",
       "      <th>Bandeira</th>\n",
       "    </tr>\n",
       "  </thead>\n",
       "  <tbody>\n",
       "    <tr>\n",
       "      <th>0</th>\n",
       "      <td>3.199</td>\n",
       "      <td>NaN</td>\n",
       "      <td>PETROBRAS</td>\n",
       "    </tr>\n",
       "    <tr>\n",
       "      <th>1</th>\n",
       "      <td>2.790</td>\n",
       "      <td>NaN</td>\n",
       "      <td>RAIZEN</td>\n",
       "    </tr>\n",
       "    <tr>\n",
       "      <th>2</th>\n",
       "      <td>2.840</td>\n",
       "      <td>2.5895</td>\n",
       "      <td>BRANCA</td>\n",
       "    </tr>\n",
       "    <tr>\n",
       "      <th>3</th>\n",
       "      <td>2.849</td>\n",
       "      <td>NaN</td>\n",
       "      <td>PETROBRAS</td>\n",
       "    </tr>\n",
       "    <tr>\n",
       "      <th>4</th>\n",
       "      <td>2.730</td>\n",
       "      <td>NaN</td>\n",
       "      <td>IPIRANGA</td>\n",
       "    </tr>\n",
       "  </tbody>\n",
       "</table>\n",
       "</div>"
      ],
      "text/plain": [
       "   Valor de Venda  Valor de Compra   Bandeira\n",
       "0           3.199              NaN  PETROBRAS\n",
       "1           2.790              NaN     RAIZEN\n",
       "2           2.840           2.5895     BRANCA\n",
       "3           2.849              NaN  PETROBRAS\n",
       "4           2.730              NaN   IPIRANGA"
      ]
     },
     "execution_count": 66,
     "metadata": {},
     "output_type": "execute_result"
    }
   ],
   "source": [
    "df = df[[\"Valor de Venda\", \"Valor de Compra\", \"Bandeira\"]]\n",
    "df = df.replace(\"PETROBRAS DISTRIBUIDORA S.A.\", \"PETROBRAS\")\n",
    "df.head()"
   ]
  },
  {
   "cell_type": "code",
   "execution_count": 67,
   "id": "b9da6783-e985-4071-9f35-9bbffa46aba3",
   "metadata": {},
   "outputs": [
    {
     "data": {
      "text/plain": [
       "BRANCA                 849055\n",
       "PETROBRAS              338909\n",
       "RAIZEN                 264267\n",
       "IPIRANGA               252337\n",
       "COSAN LUBRIFICANTES     99969\n",
       "                        ...  \n",
       "OIL PETRO                   1\n",
       "PETROBALL                   1\n",
       "FIRST DO BRASIL             1\n",
       "PETROSOL DIESEL             1\n",
       "TOWER                       1\n",
       "Name: Bandeira, Length: 142, dtype: int64"
      ]
     },
     "execution_count": 67,
     "metadata": {},
     "output_type": "execute_result"
    }
   ],
   "source": [
    "df[\"Bandeira\"].value_counts()"
   ]
  },
  {
   "cell_type": "code",
   "execution_count": 68,
   "id": "6b4bd963-3fc6-4954-90d7-9aac38474aae",
   "metadata": {},
   "outputs": [
    {
     "data": {
      "text/html": [
       "<div>\n",
       "<style scoped>\n",
       "    .dataframe tbody tr th:only-of-type {\n",
       "        vertical-align: middle;\n",
       "    }\n",
       "\n",
       "    .dataframe tbody tr th {\n",
       "        vertical-align: top;\n",
       "    }\n",
       "\n",
       "    .dataframe thead th {\n",
       "        text-align: right;\n",
       "    }\n",
       "</style>\n",
       "<table border=\"1\" class=\"dataframe\">\n",
       "  <thead>\n",
       "    <tr style=\"text-align: right;\">\n",
       "      <th></th>\n",
       "      <th>Valor de Venda</th>\n",
       "      <th>Valor de Compra</th>\n",
       "      <th>Bandeira</th>\n",
       "    </tr>\n",
       "  </thead>\n",
       "  <tbody>\n",
       "    <tr>\n",
       "      <th>0</th>\n",
       "      <td>3.199</td>\n",
       "      <td>NaN</td>\n",
       "      <td>PETROBRAS</td>\n",
       "    </tr>\n",
       "    <tr>\n",
       "      <th>3</th>\n",
       "      <td>2.849</td>\n",
       "      <td>NaN</td>\n",
       "      <td>PETROBRAS</td>\n",
       "    </tr>\n",
       "    <tr>\n",
       "      <th>4</th>\n",
       "      <td>2.730</td>\n",
       "      <td>NaN</td>\n",
       "      <td>IPIRANGA</td>\n",
       "    </tr>\n",
       "    <tr>\n",
       "      <th>5</th>\n",
       "      <td>2.790</td>\n",
       "      <td>2.6013</td>\n",
       "      <td>IPIRANGA</td>\n",
       "    </tr>\n",
       "    <tr>\n",
       "      <th>6</th>\n",
       "      <td>3.099</td>\n",
       "      <td>2.6887</td>\n",
       "      <td>PETROBRAS</td>\n",
       "    </tr>\n",
       "  </tbody>\n",
       "</table>\n",
       "</div>"
      ],
      "text/plain": [
       "   Valor de Venda  Valor de Compra   Bandeira\n",
       "0           3.199              NaN  PETROBRAS\n",
       "3           2.849              NaN  PETROBRAS\n",
       "4           2.730              NaN   IPIRANGA\n",
       "5           2.790           2.6013   IPIRANGA\n",
       "6           3.099           2.6887  PETROBRAS"
      ]
     },
     "execution_count": 68,
     "metadata": {},
     "output_type": "execute_result"
    }
   ],
   "source": [
    "df_bandeiras = df[(df[\"Bandeira\"] == \"PETROBRAS\") | \n",
    "                  (df[\"Bandeira\"] == \"IPIRANGA\" )]\n",
    "\n",
    "df_bandeiras.head()"
   ]
  },
  {
   "cell_type": "code",
   "execution_count": 69,
   "id": "6b621a64-7885-4af6-9072-c90dad73b787",
   "metadata": {},
   "outputs": [
    {
     "data": {
      "text/plain": [
       "<AxesSubplot:xlabel='Bandeira', ylabel='count'>"
      ]
     },
     "execution_count": 69,
     "metadata": {},
     "output_type": "execute_result"
    },
    {
     "data": {
      "image/png": "[encoded data removed]",
      "text/plain": [
       "<Figure size 576x360 with 1 Axes>"
      ]
     },
     "metadata": {
      "needs_background": "light"
     },
     "output_type": "display_data"
    }
   ],
   "source": [
    "fig, ax = plt.subplots(figsize=(8, 5))\n",
    "sns.countplot(x=\"Bandeira\", data=df_bandeiras, ax=ax)"
   ]
  },
  {
   "cell_type": "code",
   "execution_count": 70,
   "id": "a6827f92-7913-4d40-84ba-afc1aecb29d0",
   "metadata": {},
   "outputs": [
    {
     "name": "stdout",
     "output_type": "stream",
     "text": [
      "Quantidade de 'Petrobras':  338909\n",
      "Quantidade de 'Ipiranga':  252337\n"
     ]
    },
    {
     "data": {
      "text/plain": [
       "<AxesSubplot:xlabel='Bandeira', ylabel='count'>"
      ]
     },
     "execution_count": 70,
     "metadata": {},
     "output_type": "execute_result"
    },
    {
     "data": {
      "image/png": "[encoded data removed]",
      "text/plain": [
       "<Figure size 576x360 with 1 Axes>"
      ]
     },
     "metadata": {
      "needs_background": "light"
     },
     "output_type": "display_data"
    }
   ],
   "source": [
    "petrobras_subset = df_bandeiras.loc[df_bandeiras[\"Bandeira\"] == \"PETROBRAS\", :]\n",
    "ipiranga_subset  = df_bandeiras.loc[df_bandeiras[\"Bandeira\"] == \"IPIRANGA\", :]\n",
    "\n",
    "print(\"Quantidade de 'Petrobras': \", len(petrobras_subset))\n",
    "print(\"Quantidade de 'Ipiranga': \", len(ipiranga_subset))\n",
    "\n",
    "sampled_petrobras = petrobras_subset.sample(len(ipiranga_subset))\n",
    "\n",
    "df_balanceado = pd.concat([ipiranga_subset, sampled_petrobras], ignore_index=True)\n",
    "\n",
    "fig, ax = plt.subplots(figsize=(8, 5))\n",
    "sns.countplot(x=\"Bandeira\", data=df_balanceado, ax=ax)\n"
   ]
  },
  {
   "cell_type": "markdown",
   "id": "a5044884-822b-4e27-8184-fc2db085c1e5",
   "metadata": {},
   "source": [
    "# Preenchendo valores NaN"
   ]
  },
  {
   "cell_type": "markdown",
   "id": "89db5300-b644-4671-b699-be3541b8be42",
   "metadata": {},
   "source": [
    "Antes de prosseguir com a regressão logística, vamos preencher os valores com \"NaN\" presentes no dataset.\n",
    "\n",
    "Vamos utilizar uma técnica de preencher os valores faltantes com o valor médio de cada coluna"
   ]
  },
  {
   "cell_type": "code",
   "execution_count": 71,
   "id": "f4b62ca0-e5d4-404a-9902-d683fdcc180e",
   "metadata": {},
   "outputs": [
    {
     "data": {
      "text/html": [
       "<div>\n",
       "<style scoped>\n",
       "    .dataframe tbody tr th:only-of-type {\n",
       "        vertical-align: middle;\n",
       "    }\n",
       "\n",
       "    .dataframe tbody tr th {\n",
       "        vertical-align: top;\n",
       "    }\n",
       "\n",
       "    .dataframe thead th {\n",
       "        text-align: right;\n",
       "    }\n",
       "</style>\n",
       "<table border=\"1\" class=\"dataframe\">\n",
       "  <thead>\n",
       "    <tr style=\"text-align: right;\">\n",
       "      <th></th>\n",
       "      <th>Valor de Venda</th>\n",
       "      <th>Valor de Compra</th>\n",
       "      <th>Bandeira</th>\n",
       "    </tr>\n",
       "  </thead>\n",
       "  <tbody>\n",
       "    <tr>\n",
       "      <th>0</th>\n",
       "      <td>3.199</td>\n",
       "      <td>1.5574</td>\n",
       "      <td>PETROBRAS</td>\n",
       "    </tr>\n",
       "    <tr>\n",
       "      <th>3</th>\n",
       "      <td>2.849</td>\n",
       "      <td>1.5574</td>\n",
       "      <td>PETROBRAS</td>\n",
       "    </tr>\n",
       "    <tr>\n",
       "      <th>4</th>\n",
       "      <td>2.730</td>\n",
       "      <td>1.5574</td>\n",
       "      <td>IPIRANGA</td>\n",
       "    </tr>\n",
       "    <tr>\n",
       "      <th>5</th>\n",
       "      <td>2.790</td>\n",
       "      <td>2.6013</td>\n",
       "      <td>IPIRANGA</td>\n",
       "    </tr>\n",
       "    <tr>\n",
       "      <th>6</th>\n",
       "      <td>3.099</td>\n",
       "      <td>2.6887</td>\n",
       "      <td>PETROBRAS</td>\n",
       "    </tr>\n",
       "  </tbody>\n",
       "</table>\n",
       "</div>"
      ],
      "text/plain": [
       "   Valor de Venda  Valor de Compra   Bandeira\n",
       "0           3.199           1.5574  PETROBRAS\n",
       "3           2.849           1.5574  PETROBRAS\n",
       "4           2.730           1.5574   IPIRANGA\n",
       "5           2.790           2.6013   IPIRANGA\n",
       "6           3.099           2.6887  PETROBRAS"
      ]
     },
     "execution_count": 71,
     "metadata": {},
     "output_type": "execute_result"
    }
   ],
   "source": [
    "values = {\"Valor de Venda\": df_bandeiras[\"Valor de Venda\"].median(),\n",
    "          \"Valor de Compra\": df_bandeiras[\"Valor de Compra\"].median()}\n",
    "\n",
    "df_bandeiras = df_bandeiras.fillna(value=values)\n",
    "\n",
    "df_bandeiras.head()"
   ]
  },
  {
   "cell_type": "markdown",
   "id": "40051029-64ae-49d6-a4b4-e19f2f57d30f",
   "metadata": {},
   "source": [
    "# Realizando Regressão Logística"
   ]
  },
  {
   "cell_type": "code",
   "execution_count": 72,
   "id": "be55cae5-fc1b-4555-b941-59a8ad811b0a",
   "metadata": {},
   "outputs": [],
   "source": [
    "# Definindo valores que serão utilizados\n",
    "X = df_bandeiras[[\"Valor de Compra\", \"Valor de Venda\"]]\n",
    "y = df_bandeiras['Bandeira']\n",
    "\n",
    "# Separando dados de treino e de teste\n",
    "X_train, X_test, y_train, y_test = train_test_split(X, y, test_size=0.25, random_state=0)\n",
    "\n",
    "# Treinando o classificador\n",
    "logistic_regression = LogisticRegression()\n",
    "logistic_regression.fit(X_train, y_train)\n",
    "y_pred = logistic_regression.predict(X_test)"
   ]
  },
  {
   "cell_type": "code",
   "execution_count": 73,
   "id": "4d1e4f02-950b-4a86-8c02-2eee15eedeef",
   "metadata": {},
   "outputs": [
    {
     "data": {
      "text/plain": [
       "<AxesSubplot:xlabel='Predito', ylabel='Atual'>"
      ]
     },
     "execution_count": 73,
     "metadata": {},
     "output_type": "execute_result"
    },
    {
     "data": {
      "image/png": "[encoded data removed]",
      "text/plain": [
       "<Figure size 432x288 with 2 Axes>"
      ]
     },
     "metadata": {
      "needs_background": "light"
     },
     "output_type": "display_data"
    }
   ],
   "source": [
    "# Visualizando matriz de confusão\n",
    "confusion_matrix = pd.crosstab(y_test, y_pred, rownames=['Atual'], colnames=['Predito'])\n",
    "sns.heatmap(confusion_matrix, annot=True)"
   ]
  },
  {
   "cell_type": "code",
   "execution_count": 74,
   "id": "fb5853be-5dc5-4d23-9698-cdb2f2e57983",
   "metadata": {},
   "outputs": [
    {
     "name": "stdout",
     "output_type": "stream",
     "text": [
      "              precision    recall  f1-score   support\n",
      "\n",
      "    IPIRANGA       0.54      0.30      0.39     62626\n",
      "   PETROBRAS       0.61      0.81      0.70     85186\n",
      "\n",
      "    accuracy                           0.60    147812\n",
      "   macro avg       0.58      0.56      0.54    147812\n",
      "weighted avg       0.58      0.60      0.57    147812\n",
      "\n"
     ]
    }
   ],
   "source": [
    "from sklearn.metrics import classification_report\n",
    "from sklearn import metrics\n",
    "\n",
    "print(classification_report(y_test, y_pred))"
   ]
  },
  {
   "cell_type": "code",
   "execution_count": 75,
   "id": "cb70704d-8689-402d-ad0d-b428d9087bf4",
   "metadata": {},
   "outputs": [
    {
     "name": "stdout",
     "output_type": "stream",
     "text": [
      "Acurácia geral:  0.5954590966903905\n"
     ]
    }
   ],
   "source": [
    "logisticRegression = LogisticRegression()\n",
    "\n",
    "logisticRegression.fit(X_train, y_train)\n",
    "\n",
    "score = logisticRegression.score(X_test, y_test)\n",
    "\n",
    "print(\"Acurácia geral: \", score)"
   ]
  }
 ],
 "metadata": {
  "kernelspec": {
   "display_name": "Python 3 (ipykernel)",
   "language": "python",
   "name": "python3"
  },
  "language_info": {
   "codemirror_mode": {
    "name": "ipython",
    "version": 3
   },
   "file_extension": ".py",
   "mimetype": "text/x-python",
   "name": "python",
   "nbconvert_exporter": "python",
   "pygments_lexer": "ipython3",
   "version": "3.8.10"
  }
 },
 "nbformat": 4,
 "nbformat_minor": 5
}
