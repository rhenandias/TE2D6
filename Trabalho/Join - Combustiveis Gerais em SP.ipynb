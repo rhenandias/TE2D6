{
 "cells": [
  {
   "cell_type": "code",
   "execution_count": 11,
   "id": "f21d3e26-16bb-4e7a-b29c-a0668384474b",
   "metadata": {},
   "outputs": [],
   "source": [
    "import pandas as pd\n",
    "import os"
   ]
  },
  {
   "cell_type": "code",
   "execution_count": 12,
   "id": "1c333906-021e-4570-9d50-d6db903c893c",
   "metadata": {},
   "outputs": [],
   "source": [
    "# Configurações\n",
    "work_directory = \"../../combustiveis/\"\n",
    "final_dataset_name = \"dataset_etanol_gasolina_gnv_guarulhos.csv\""
   ]
  },
  {
   "cell_type": "code",
   "execution_count": 13,
   "id": "dae1fe5b-7c49-430e-ba11-1e9c79a4af73",
   "metadata": {},
   "outputs": [],
   "source": [
    "# Adquire os nomes dos arquivos existentes no diretório\n",
    "# Cada nome de arquivo representa uma entrada semestral do dataset\n",
    "filenames = next(os.walk(work_directory), (None, None, []))[2]"
   ]
  },
  {
   "cell_type": "code",
   "execution_count": 14,
   "id": "1f1b8dc4-9c05-40f1-bf8b-061ce2ca9612",
   "metadata": {},
   "outputs": [],
   "source": [
    "# Cria um dataframe para unificar todas as entradas semestrais\n",
    "final_df = pd.DataFrame()"
   ]
  },
  {
   "cell_type": "code",
   "execution_count": 15,
   "id": "4d36ae3a-7041-4af2-98bf-61555b7d03ad",
   "metadata": {},
   "outputs": [
    {
     "name": "stdout",
     "output_type": "stream",
     "text": [
      "Leitura finalizada da entrada 1\n",
      "Leitura finalizada da entrada 2\n",
      "Leitura finalizada da entrada 3\n",
      "Leitura finalizada da entrada 4\n",
      "Leitura finalizada da entrada 5\n",
      "Leitura finalizada da entrada 6\n",
      "Leitura finalizada da entrada 7\n",
      "Leitura finalizada da entrada 8\n",
      "Leitura finalizada da entrada 9\n",
      "Leitura finalizada da entrada 10\n",
      "Leitura finalizada da entrada 11\n",
      "Leitura finalizada da entrada 12\n",
      "Leitura finalizada da entrada 13\n",
      "Leitura finalizada da entrada 14\n",
      "Leitura finalizada da entrada 15\n",
      "Leitura finalizada da entrada 16\n",
      "Leitura finalizada da entrada 17\n",
      "Leitura finalizada da entrada 18\n",
      "Leitura finalizada da entrada 19\n",
      "Leitura finalizada da entrada 20\n",
      "Leitura finalizada da entrada 21\n",
      "Leitura finalizada da entrada 22\n",
      "Leitura finalizada da entrada 23\n",
      "Leitura finalizada da entrada 24\n",
      "Leitura finalizada da entrada 25\n",
      "Leitura finalizada da entrada 26\n",
      "Leitura finalizada da entrada 27\n",
      "Leitura finalizada da entrada 28\n",
      "Leitura finalizada da entrada 29\n",
      "Leitura finalizada da entrada 30\n",
      "Leitura finalizada da entrada 31\n",
      "Leitura finalizada da entrada 32\n",
      "Leitura finalizada da entrada 33\n",
      "Leitura finalizada da entrada 34\n",
      "Leitura finalizada da entrada 35\n",
      "Leitura finalizada da entrada 36\n",
      "Concatenação finalizada\n"
     ]
    }
   ],
   "source": [
    "# Primeiro, remover arquivo existente de dataset final\n",
    "# Isso é necessário pois se o arquivo já existir, iremos escrever mais dados sobre ele\n",
    "# Dessa maneira, a fidelidade dos dados do dataset será prejudicada\n",
    "try:\n",
    "    os.remove(work_directory + final_dataset_name)\n",
    "except OSError as e:\n",
    "    print (\"Nenhum arquivo existente de dataset final\")\n",
    "\n",
    "# Realiza leitura de cada um dos datasets semestrais e concatena em um único dataframe\n",
    "i = 1\n",
    "\n",
    "for filename in filenames:\n",
    "    # Ignora arquivo de dataset final, ler apenas entradas semestrais\n",
    "    if not \"ca-\" in filename:\n",
    "        continue\n",
    "        \n",
    "    # Realiza leitura do dataset\n",
    "    df = pd.read_csv(work_directory + filename, sep=\";\", decimal=\",\", encoding=\"cp860\")\n",
    "    \n",
    "     \n",
    "    # Aplicar filtros desejados para o dataset\n",
    "    df = df[((df[\"Produto\"] == \"ETANOL\") | (df[\"Produto\"] == \"GASOLINA\") | (df[\"Produto\"] == \"GNV\")) & (df[\"Municipio\"] == \"GUARULHOS\")]\n",
    "\n",
    "    \n",
    "    # Acrescenta coluna com o identificador do semestre\n",
    "    df.insert(0, \"Semestre\", filename[3:10], True)\n",
    "\n",
    "    # Para concatenar o dataframe no arquivo CSV, considerar o header apenas para a primeira entrada\n",
    "    save_header = True if i == 1 else False\n",
    "    \n",
    "    # Concatena o dataframe lido com o dataframe geral\n",
    "    df.to_csv(work_directory + final_dataset_name, mode=\"a\", index=False, header=save_header)\n",
    "    \n",
    "    print(f'Leitura finalizada da entrada {i}')\n",
    "    i += 1\n",
    "\n",
    "print(\"Concatenação finalizada\")"
   ]
  },
  {
   "cell_type": "code",
   "execution_count": null,
   "id": "64dd1355-cb3a-4e61-9511-2bf6ab3cca6a",
   "metadata": {},
   "outputs": [],
   "source": []
  }
 ],
 "metadata": {
  "kernelspec": {
   "display_name": "Python 3 (ipykernel)",
   "language": "python",
   "name": "python3"
  },
  "language_info": {
   "codemirror_mode": {
    "name": "ipython",
    "version": 3
   },
   "file_extension": ".py",
   "mimetype": "text/x-python",
   "name": "python",
   "nbconvert_exporter": "python",
   "pygments_lexer": "ipython3",
   "version": "3.8.10"
  }
 },
 "nbformat": 4,
 "nbformat_minor": 5
}
