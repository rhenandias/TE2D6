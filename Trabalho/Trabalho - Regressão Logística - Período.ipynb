{
 "cells": [
  {
   "cell_type": "code",
   "execution_count": 1,
   "id": "69cdd424-6180-4788-850d-df71b660943e",
   "metadata": {},
   "outputs": [],
   "source": [
    "from sklearn import datasets\n",
    "import numpy as np\n",
    "import seaborn as sns\n",
    "import pandas as pd\n",
    "from sklearn.model_selection import train_test_split\n",
    "from sklearn.linear_model import LogisticRegression"
   ]
  },
  {
   "cell_type": "code",
   "execution_count": 2,
   "id": "833d3e1b-c457-41ae-8e9d-d0d46db41218",
   "metadata": {},
   "outputs": [
    {
     "name": "stdout",
     "output_type": "stream",
     "text": [
      "Dataset carregado. Quantidade de registros: 2032002\n"
     ]
    }
   ],
   "source": [
    "work_directory = \"../../combustiveis/\"\n",
    "dataset_name = \"dataset_etanol_sp.csv\"\n",
    "\n",
    "df_original = pd.read_csv(work_directory + dataset_name, sep=\",\", decimal=\".\", encoding=\"cp860\", index_col=False)\n",
    "\n",
    "print(\"Dataset carregado. Quantidade de registros: \" + str(len(df_original.index)))"
   ]
  },
  {
   "cell_type": "code",
   "execution_count": 3,
   "id": "d3fbabd9-d055-441f-b627-ecbf32d54d5c",
   "metadata": {},
   "outputs": [],
   "source": [
    "df_original = df_original[[\"Semestre\", \"Valor de Venda\", \"Valor de Compra\"]]\n",
    "\n",
    "values = {\"Valor de Venda\": df_original[\"Valor de Venda\"].median(),\n",
    "          \"Valor de Compra\": df_original[\"Valor de Compra\"].median()}\n",
    "\n",
    "df_original = df_original.fillna(value=values)"
   ]
  },
  {
   "cell_type": "code",
   "execution_count": 4,
   "id": "291ab241-610c-4e57-a4f6-7255011ceb72",
   "metadata": {},
   "outputs": [],
   "source": [
    "df = df_original"
   ]
  },
  {
   "cell_type": "code",
   "execution_count": 5,
   "id": "b9da6783-e985-4071-9f35-9bbffa46aba3",
   "metadata": {},
   "outputs": [
    {
     "name": "stdout",
     "output_type": "stream",
     "text": [
      "Período 0    1251352\n",
      "Período 1     780650\n",
      "Name: Periodo, dtype: int64\n"
     ]
    }
   ],
   "source": [
    "semestres = np.unique(df[\"Semestre\"])\n",
    "\n",
    "anos = np.unique([x.split(\"-\")[0] for x in semestres])\n",
    "\n",
    "chunks = 2\n",
    "\n",
    "separados = np.array_split(anos, chunks)\n",
    "\n",
    "for ano in anos:\n",
    "    for chunk in range(chunks):\n",
    "        if ano in separados[chunk]:\n",
    "            df = df.replace(\"^\" + ano + \".*\", \"Período \" + str(chunk), regex=True)\n",
    "\n",
    "df = df.rename(columns={\"Semestre\": \"Periodo\"})\n",
    "\n",
    "contadores = df[\"Periodo\"].value_counts()\n",
    "\n",
    "print(contadores)\n"
   ]
  },
  {
   "cell_type": "code",
   "execution_count": 6,
   "id": "6b621a64-7885-4af6-9072-c90dad73b787",
   "metadata": {},
   "outputs": [
    {
     "data": {
      "text/plain": [
       "<AxesSubplot:xlabel='Periodo', ylabel='count'>"
      ]
     },
     "execution_count": 6,
     "metadata": {},
     "output_type": "execute_result"
    },
    {
     "data": {
      "image/png": "[encoded data removed]",
      "text/plain": [
       "<Figure size 432x360 with 1 Axes>"
      ]
     },
     "metadata": {
      "needs_background": "light"
     },
     "output_type": "display_data"
    }
   ],
   "source": [
    "import matplotlib.pyplot as plt\n",
    "\n",
    "fig, ax = plt.subplots(figsize=(6, 5))\n",
    "sns.countplot(x=\"Periodo\", data=df, ax=ax)"
   ]
  },
  {
   "cell_type": "code",
   "execution_count": 7,
   "id": "a6827f92-7913-4d40-84ba-afc1aecb29d0",
   "metadata": {},
   "outputs": [
    {
     "data": {
      "text/plain": [
       "<AxesSubplot:xlabel='Periodo', ylabel='count'>"
      ]
     },
     "execution_count": 7,
     "metadata": {},
     "output_type": "execute_result"
    },
    {
     "data": {
      "image/png": "[encoded data removed]",
      "text/plain": [
       "<Figure size 432x360 with 1 Axes>"
      ]
     },
     "metadata": {
      "needs_background": "light"
     },
     "output_type": "display_data"
    }
   ],
   "source": [
    "df_geral = pd.DataFrame()\n",
    "\n",
    "labels = np.unique(df[\"Periodo\"])\n",
    "\n",
    "for label in labels:\n",
    "    periodo_subset = df.loc[df[\"Periodo\"] == label, :]\n",
    "    sampled = periodo_subset.sample(780650)\n",
    "    df_geral = pd.concat([df_geral, sampled], ignore_index=True)\n",
    "\n",
    "df = df_geral\n",
    "\n",
    "fig, ax = plt.subplots(figsize=(6, 5))\n",
    "sns.countplot(x=\"Periodo\", data=df, ax=ax)\n"
   ]
  },
  {
   "cell_type": "markdown",
   "id": "40051029-64ae-49d6-a4b4-e19f2f57d30f",
   "metadata": {},
   "source": [
    "# Realizando Regressão Logística"
   ]
  },
  {
   "cell_type": "code",
   "execution_count": 8,
   "id": "be55cae5-fc1b-4555-b941-59a8ad811b0a",
   "metadata": {},
   "outputs": [],
   "source": [
    "from sklearn.preprocessing import StandardScaler\n",
    "\n",
    "# Definindo valores que serão utilizados\n",
    "X = df[[\"Valor de Venda\", \"Valor de Compra\"]].values\n",
    "Y = df['Periodo'].values\n",
    "\n",
    "# Scaling\n",
    "sc_x = StandardScaler()\n",
    "sc_y = StandardScaler()\n",
    "\n",
    "x_std = sc_x.fit_transform(X)\n",
    "\n",
    "# Separando dados de treino e de teste\n",
    "X_train, X_test, y_train, y_test = train_test_split(X, Y, test_size=0.25, random_state=0)\n",
    "\n",
    "# Treinando o classificador\n",
    "logistic_regression = LogisticRegression()\n",
    "logistic_regression.fit(X_train, y_train)\n",
    "y_pred = logistic_regression.predict(X_test)"
   ]
  },
  {
   "cell_type": "code",
   "execution_count": 9,
   "id": "4d1e4f02-950b-4a86-8c02-2eee15eedeef",
   "metadata": {},
   "outputs": [
    {
     "data": {
      "text/plain": [
       "<AxesSubplot:xlabel='Predito', ylabel='Atual'>"
      ]
     },
     "execution_count": 9,
     "metadata": {},
     "output_type": "execute_result"
    },
    {
     "data": {
      "image/png": "[encoded data removed]",
      "text/plain": [
       "<Figure size 360x360 with 2 Axes>"
      ]
     },
     "metadata": {
      "needs_background": "light"
     },
     "output_type": "display_data"
    }
   ],
   "source": [
    "# Visualizando matriz de confusão\n",
    "confusion_matrix = pd.crosstab(y_test, y_pred, rownames=['Atual'], colnames=['Predito'])\n",
    "\n",
    "fig, ax = plt.subplots(figsize=(5, 5))\n",
    "sns.heatmap(confusion_matrix, annot=True, ax=ax)"
   ]
  },
  {
   "cell_type": "code",
   "execution_count": 10,
   "id": "fb5853be-5dc5-4d23-9698-cdb2f2e57983",
   "metadata": {},
   "outputs": [
    {
     "name": "stdout",
     "output_type": "stream",
     "text": [
      "              precision    recall  f1-score   support\n",
      "\n",
      "   Período 0       0.88      0.88      0.88    194817\n",
      "   Período 1       0.88      0.88      0.88    195508\n",
      "\n",
      "    accuracy                           0.88    390325\n",
      "   macro avg       0.88      0.88      0.88    390325\n",
      "weighted avg       0.88      0.88      0.88    390325\n",
      "\n"
     ]
    }
   ],
   "source": [
    "from sklearn.metrics import classification_report\n",
    "from sklearn import metrics\n",
    "\n",
    "print(classification_report(y_test, y_pred))"
   ]
  },
  {
   "cell_type": "raw",
   "id": "297d3bfe",
   "metadata": {},
   "source": []
  },
  {
   "cell_type": "code",
   "execution_count": 11,
   "id": "cb70704d-8689-402d-ad0d-b428d9087bf4",
   "metadata": {},
   "outputs": [
    {
     "name": "stdout",
     "output_type": "stream",
     "text": [
      "Acurácia geral:  0.8836584897201051\n"
     ]
    }
   ],
   "source": [
    "logisticRegression = LogisticRegression()\n",
    "\n",
    "logisticRegression.fit(X_train, y_train)\n",
    "\n",
    "score = logisticRegression.score(X_test, y_test)\n",
    "\n",
    "print(\"Acurácia geral: \", score)"
   ]
  }
 ],
 "metadata": {
  "kernelspec": {
   "display_name": "Python 3 (ipykernel)",
   "language": "python",
   "name": "python3"
  },
  "language_info": {
   "codemirror_mode": {
    "name": "ipython",
    "version": 3
   },
   "file_extension": ".py",
   "mimetype": "text/x-python",
   "name": "python",
   "nbconvert_exporter": "python",
   "pygments_lexer": "ipython3",
   "version": "3.8.10"
  }
 },
 "nbformat": 4,
 "nbformat_minor": 5
}
