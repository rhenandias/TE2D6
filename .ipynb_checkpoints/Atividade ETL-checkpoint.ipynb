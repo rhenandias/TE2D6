{
 "cells": [
  {
   "cell_type": "markdown",
   "id": "7792ca1f-f054-4b9a-b709-fffa028e15ca",
   "metadata": {},
   "source": [
    "### Importando as bibliotecas necessárias"
   ]
  },
  {
   "cell_type": "code",
   "execution_count": 2,
   "id": "b10e3904-66e6-4c7d-8b68-4b6be0ad5824",
   "metadata": {},
   "outputs": [],
   "source": [
    "import seaborn as sns\n",
    "import petl as etl"
   ]
  },
  {
   "cell_type": "markdown",
   "id": "6839952b-55c5-4fb6-a59b-c95a66d90b4d",
   "metadata": {},
   "source": [
    "### Importando o dataset \"Iris\" da base de exemplos do Seaborn"
   ]
  },
  {
   "cell_type": "code",
   "execution_count": null,
   "id": "63fa03d1-3373-419a-917b-69da41c4f9f8",
   "metadata": {},
   "outputs": [],
   "source": [
    "iris = sns.load_dataset('iris')\n",
    "dados = etl.fromdataframe(iris)"
   ]
  },
  {
   "cell_type": "markdown",
   "id": "949a6668-89d5-475c-ad67-7efa079be85b",
   "metadata": {},
   "source": [
    "### Primeira visualização do dataset"
   ]
  },
  {
   "cell_type": "code",
   "execution_count": 19,
   "id": "a6e01750-5310-4340-813f-6ddf2d83076c",
   "metadata": {},
   "outputs": [
    {
     "data": {
      "text/html": [
       "<div>\n",
       "<style scoped>\n",
       "    .dataframe tbody tr th:only-of-type {\n",
       "        vertical-align: middle;\n",
       "    }\n",
       "\n",
       "    .dataframe tbody tr th {\n",
       "        vertical-align: top;\n",
       "    }\n",
       "\n",
       "    .dataframe thead th {\n",
       "        text-align: right;\n",
       "    }\n",
       "</style>\n",
       "<table border=\"1\" class=\"dataframe\">\n",
       "  <thead>\n",
       "    <tr style=\"text-align: right;\">\n",
       "      <th></th>\n",
       "      <th>sepal_length</th>\n",
       "      <th>sepal_width</th>\n",
       "      <th>petal_length</th>\n",
       "      <th>petal_width</th>\n",
       "      <th>species</th>\n",
       "    </tr>\n",
       "  </thead>\n",
       "  <tbody>\n",
       "    <tr>\n",
       "      <th>0</th>\n",
       "      <td>5.1</td>\n",
       "      <td>3.5</td>\n",
       "      <td>1.4</td>\n",
       "      <td>0.2</td>\n",
       "      <td>setosa</td>\n",
       "    </tr>\n",
       "    <tr>\n",
       "      <th>1</th>\n",
       "      <td>4.9</td>\n",
       "      <td>3.0</td>\n",
       "      <td>1.4</td>\n",
       "      <td>0.2</td>\n",
       "      <td>setosa</td>\n",
       "    </tr>\n",
       "    <tr>\n",
       "      <th>2</th>\n",
       "      <td>4.7</td>\n",
       "      <td>3.2</td>\n",
       "      <td>1.3</td>\n",
       "      <td>0.2</td>\n",
       "      <td>setosa</td>\n",
       "    </tr>\n",
       "    <tr>\n",
       "      <th>3</th>\n",
       "      <td>4.6</td>\n",
       "      <td>3.1</td>\n",
       "      <td>1.5</td>\n",
       "      <td>0.2</td>\n",
       "      <td>setosa</td>\n",
       "    </tr>\n",
       "    <tr>\n",
       "      <th>4</th>\n",
       "      <td>5.0</td>\n",
       "      <td>3.6</td>\n",
       "      <td>1.4</td>\n",
       "      <td>0.2</td>\n",
       "      <td>setosa</td>\n",
       "    </tr>\n",
       "    <tr>\n",
       "      <th>...</th>\n",
       "      <td>...</td>\n",
       "      <td>...</td>\n",
       "      <td>...</td>\n",
       "      <td>...</td>\n",
       "      <td>...</td>\n",
       "    </tr>\n",
       "    <tr>\n",
       "      <th>145</th>\n",
       "      <td>6.7</td>\n",
       "      <td>3.0</td>\n",
       "      <td>5.2</td>\n",
       "      <td>2.3</td>\n",
       "      <td>virginica</td>\n",
       "    </tr>\n",
       "    <tr>\n",
       "      <th>146</th>\n",
       "      <td>6.3</td>\n",
       "      <td>2.5</td>\n",
       "      <td>5.0</td>\n",
       "      <td>1.9</td>\n",
       "      <td>virginica</td>\n",
       "    </tr>\n",
       "    <tr>\n",
       "      <th>147</th>\n",
       "      <td>6.5</td>\n",
       "      <td>3.0</td>\n",
       "      <td>5.2</td>\n",
       "      <td>2.0</td>\n",
       "      <td>virginica</td>\n",
       "    </tr>\n",
       "    <tr>\n",
       "      <th>148</th>\n",
       "      <td>6.2</td>\n",
       "      <td>3.4</td>\n",
       "      <td>5.4</td>\n",
       "      <td>2.3</td>\n",
       "      <td>virginica</td>\n",
       "    </tr>\n",
       "    <tr>\n",
       "      <th>149</th>\n",
       "      <td>5.9</td>\n",
       "      <td>3.0</td>\n",
       "      <td>5.1</td>\n",
       "      <td>1.8</td>\n",
       "      <td>virginica</td>\n",
       "    </tr>\n",
       "  </tbody>\n",
       "</table>\n",
       "<p>150 rows × 5 columns</p>\n",
       "</div>"
      ],
      "text/plain": [
       "     sepal_length  sepal_width  petal_length  petal_width    species\n",
       "0             5.1          3.5           1.4          0.2     setosa\n",
       "1             4.9          3.0           1.4          0.2     setosa\n",
       "2             4.7          3.2           1.3          0.2     setosa\n",
       "3             4.6          3.1           1.5          0.2     setosa\n",
       "4             5.0          3.6           1.4          0.2     setosa\n",
       "..            ...          ...           ...          ...        ...\n",
       "145           6.7          3.0           5.2          2.3  virginica\n",
       "146           6.3          2.5           5.0          1.9  virginica\n",
       "147           6.5          3.0           5.2          2.0  virginica\n",
       "148           6.2          3.4           5.4          2.3  virginica\n",
       "149           5.9          3.0           5.1          1.8  virginica\n",
       "\n",
       "[150 rows x 5 columns]"
      ]
     },
     "execution_count": 19,
     "metadata": {},
     "output_type": "execute_result"
    }
   ],
   "source": [
    "iris"
   ]
  },
  {
   "cell_type": "markdown",
   "id": "3b01714e-f6b8-4f27-80ec-0e5cdf1904ae",
   "metadata": {},
   "source": [
    "### Visualizando os fieldnames do dataset"
   ]
  },
  {
   "cell_type": "code",
   "execution_count": 20,
   "id": "6d08ca2c-6910-4f8a-89b2-deb02340698a",
   "metadata": {},
   "outputs": [
    {
     "data": {
      "text/plain": [
       "('sepal_length', 'sepal_width', 'petal_length', 'petal_width', 'species')"
      ]
     },
     "execution_count": 20,
     "metadata": {},
     "output_type": "execute_result"
    }
   ],
   "source": [
    "dados.fieldnames()"
   ]
  },
  {
   "cell_type": "markdown",
   "id": "0129f1e4-8954-4d9c-a39a-aa274cc80816",
   "metadata": {},
   "source": [
    "### Exibindo uma quantidade específica de dados"
   ]
  },
  {
   "cell_type": "code",
   "execution_count": 21,
   "id": "83fc9491-79a7-4efc-b7db-11fe5f078a82",
   "metadata": {},
   "outputs": [
    {
     "data": {
      "text/html": [
       "<table class='petl'>\n",
       "<thead>\n",
       "<tr>\n",
       "<th>sepal_length</th>\n",
       "<th>sepal_width</th>\n",
       "<th>petal_length</th>\n",
       "<th>petal_width</th>\n",
       "<th>species</th>\n",
       "</tr>\n",
       "</thead>\n",
       "<tbody>\n",
       "<tr>\n",
       "<td style='text-align: right'>5.1</td>\n",
       "<td style='text-align: right'>3.5</td>\n",
       "<td style='text-align: right'>1.4</td>\n",
       "<td style='text-align: right'>0.2</td>\n",
       "<td>setosa</td>\n",
       "</tr>\n",
       "<tr>\n",
       "<td style='text-align: right'>4.9</td>\n",
       "<td style='text-align: right'>3.0</td>\n",
       "<td style='text-align: right'>1.4</td>\n",
       "<td style='text-align: right'>0.2</td>\n",
       "<td>setosa</td>\n",
       "</tr>\n",
       "<tr>\n",
       "<td style='text-align: right'>4.7</td>\n",
       "<td style='text-align: right'>3.2</td>\n",
       "<td style='text-align: right'>1.3</td>\n",
       "<td style='text-align: right'>0.2</td>\n",
       "<td>setosa</td>\n",
       "</tr>\n",
       "<tr>\n",
       "<td style='text-align: right'>4.6</td>\n",
       "<td style='text-align: right'>3.1</td>\n",
       "<td style='text-align: right'>1.5</td>\n",
       "<td style='text-align: right'>0.2</td>\n",
       "<td>setosa</td>\n",
       "</tr>\n",
       "<tr>\n",
       "<td style='text-align: right'>5.0</td>\n",
       "<td style='text-align: right'>3.6</td>\n",
       "<td style='text-align: right'>1.4</td>\n",
       "<td style='text-align: right'>0.2</td>\n",
       "<td>setosa</td>\n",
       "</tr>\n",
       "</tbody>\n",
       "</table>\n",
       "<p><strong>...</strong></p>"
      ]
     },
     "metadata": {},
     "output_type": "display_data"
    }
   ],
   "source": [
    "dados.display(5)"
   ]
  },
  {
   "cell_type": "markdown",
   "id": "acc2b871-91a7-42a4-b664-a108547ef48f",
   "metadata": {},
   "source": [
    "### Contabilizando a quantidade total de linhas do dataset"
   ]
  },
  {
   "cell_type": "code",
   "execution_count": 22,
   "id": "5c1a4dec-02c5-4b17-9694-8b2085f76e93",
   "metadata": {},
   "outputs": [
    {
     "data": {
      "text/plain": [
       "150"
      ]
     },
     "execution_count": 22,
     "metadata": {},
     "output_type": "execute_result"
    }
   ],
   "source": [
    "dados.nrows()"
   ]
  },
  {
   "cell_type": "markdown",
   "id": "1eac5447-2c12-4905-b652-3932e2727c00",
   "metadata": {},
   "source": [
    "### Funções para transformação, para adicionar á area das Sépalas e das Pétalas"
   ]
  },
  {
   "cell_type": "code",
   "execution_count": 23,
   "id": "cbf4a897-3002-444c-98aa-49169e25512e",
   "metadata": {},
   "outputs": [],
   "source": [
    "def sepal_area(row):\n",
    "    return round(row[\"sepal_length\"] * row[\"sepal_width\"], 3)\n",
    "\n",
    "def petal_area(row):\n",
    "    return round(row[\"petal_length\"] * row[\"petal_width\"], 3)"
   ]
  },
  {
   "cell_type": "markdown",
   "id": "7b4afab0-4cec-4cca-9985-8a9e087f0220",
   "metadata": {},
   "source": [
    "### Calculando área das Sépalas e das Pétalas"
   ]
  },
  {
   "cell_type": "code",
   "execution_count": 24,
   "id": "44885c87-f5c6-401e-8f12-0c80c3ee38f1",
   "metadata": {},
   "outputs": [
    {
     "data": {
      "text/html": [
       "<table class='petl'>\n",
       "<thead>\n",
       "<tr>\n",
       "<th>sepal_length</th>\n",
       "<th>sepal_width</th>\n",
       "<th>petal_length</th>\n",
       "<th>petal_width</th>\n",
       "<th>species</th>\n",
       "<th>sepal_area</th>\n",
       "<th>petal_area</th>\n",
       "</tr>\n",
       "</thead>\n",
       "<tbody>\n",
       "<tr>\n",
       "<td style='text-align: right'>5.1</td>\n",
       "<td style='text-align: right'>3.5</td>\n",
       "<td style='text-align: right'>1.4</td>\n",
       "<td style='text-align: right'>0.2</td>\n",
       "<td>setosa</td>\n",
       "<td style='text-align: right'>17.85</td>\n",
       "<td style='text-align: right'>0.28</td>\n",
       "</tr>\n",
       "<tr>\n",
       "<td style='text-align: right'>4.9</td>\n",
       "<td style='text-align: right'>3.0</td>\n",
       "<td style='text-align: right'>1.4</td>\n",
       "<td style='text-align: right'>0.2</td>\n",
       "<td>setosa</td>\n",
       "<td style='text-align: right'>14.7</td>\n",
       "<td style='text-align: right'>0.28</td>\n",
       "</tr>\n",
       "<tr>\n",
       "<td style='text-align: right'>4.7</td>\n",
       "<td style='text-align: right'>3.2</td>\n",
       "<td style='text-align: right'>1.3</td>\n",
       "<td style='text-align: right'>0.2</td>\n",
       "<td>setosa</td>\n",
       "<td style='text-align: right'>15.04</td>\n",
       "<td style='text-align: right'>0.26</td>\n",
       "</tr>\n",
       "<tr>\n",
       "<td style='text-align: right'>4.6</td>\n",
       "<td style='text-align: right'>3.1</td>\n",
       "<td style='text-align: right'>1.5</td>\n",
       "<td style='text-align: right'>0.2</td>\n",
       "<td>setosa</td>\n",
       "<td style='text-align: right'>14.26</td>\n",
       "<td style='text-align: right'>0.3</td>\n",
       "</tr>\n",
       "<tr>\n",
       "<td style='text-align: right'>5.0</td>\n",
       "<td style='text-align: right'>3.6</td>\n",
       "<td style='text-align: right'>1.4</td>\n",
       "<td style='text-align: right'>0.2</td>\n",
       "<td>setosa</td>\n",
       "<td style='text-align: right'>18.0</td>\n",
       "<td style='text-align: right'>0.28</td>\n",
       "</tr>\n",
       "<tr>\n",
       "<td style='text-align: right'>5.4</td>\n",
       "<td style='text-align: right'>3.9</td>\n",
       "<td style='text-align: right'>1.7</td>\n",
       "<td style='text-align: right'>0.4</td>\n",
       "<td>setosa</td>\n",
       "<td style='text-align: right'>21.06</td>\n",
       "<td style='text-align: right'>0.68</td>\n",
       "</tr>\n",
       "<tr>\n",
       "<td style='text-align: right'>4.6</td>\n",
       "<td style='text-align: right'>3.4</td>\n",
       "<td style='text-align: right'>1.4</td>\n",
       "<td style='text-align: right'>0.3</td>\n",
       "<td>setosa</td>\n",
       "<td style='text-align: right'>15.64</td>\n",
       "<td style='text-align: right'>0.42</td>\n",
       "</tr>\n",
       "<tr>\n",
       "<td style='text-align: right'>5.0</td>\n",
       "<td style='text-align: right'>3.4</td>\n",
       "<td style='text-align: right'>1.5</td>\n",
       "<td style='text-align: right'>0.2</td>\n",
       "<td>setosa</td>\n",
       "<td style='text-align: right'>17.0</td>\n",
       "<td style='text-align: right'>0.3</td>\n",
       "</tr>\n",
       "<tr>\n",
       "<td style='text-align: right'>4.4</td>\n",
       "<td style='text-align: right'>2.9</td>\n",
       "<td style='text-align: right'>1.4</td>\n",
       "<td style='text-align: right'>0.2</td>\n",
       "<td>setosa</td>\n",
       "<td style='text-align: right'>12.76</td>\n",
       "<td style='text-align: right'>0.28</td>\n",
       "</tr>\n",
       "<tr>\n",
       "<td style='text-align: right'>4.9</td>\n",
       "<td style='text-align: right'>3.1</td>\n",
       "<td style='text-align: right'>1.5</td>\n",
       "<td style='text-align: right'>0.1</td>\n",
       "<td>setosa</td>\n",
       "<td style='text-align: right'>15.19</td>\n",
       "<td style='text-align: right'>0.15</td>\n",
       "</tr>\n",
       "</tbody>\n",
       "</table>\n",
       "<p><strong>...</strong></p>"
      ]
     },
     "metadata": {},
     "output_type": "display_data"
    }
   ],
   "source": [
    "dados = dados.addfield(\"sepal_area\", sepal_area)\n",
    "dados = dados.addfield(\"petal_area\", petal_area)\n",
    "\n",
    "dados.display(10)"
   ]
  },
  {
   "cell_type": "markdown",
   "id": "1cd8653b-fe2e-4277-a0a2-9f298b791f26",
   "metadata": {},
   "source": [
    "### Realizando Corte das áreas geradas"
   ]
  },
  {
   "cell_type": "code",
   "execution_count": 25,
   "id": "39271661-df92-46d5-b423-bdf118e9969f",
   "metadata": {},
   "outputs": [
    {
     "data": {
      "text/html": [
       "<table class='petl'>\n",
       "<thead>\n",
       "<tr>\n",
       "<th>sepal_length</th>\n",
       "<th>sepal_width</th>\n",
       "<th>sepal_area</th>\n",
       "</tr>\n",
       "</thead>\n",
       "<tbody>\n",
       "<tr>\n",
       "<td style='text-align: right'>5.1</td>\n",
       "<td style='text-align: right'>3.5</td>\n",
       "<td style='text-align: right'>17.85</td>\n",
       "</tr>\n",
       "<tr>\n",
       "<td style='text-align: right'>4.9</td>\n",
       "<td style='text-align: right'>3.0</td>\n",
       "<td style='text-align: right'>14.7</td>\n",
       "</tr>\n",
       "<tr>\n",
       "<td style='text-align: right'>4.7</td>\n",
       "<td style='text-align: right'>3.2</td>\n",
       "<td style='text-align: right'>15.04</td>\n",
       "</tr>\n",
       "<tr>\n",
       "<td style='text-align: right'>4.6</td>\n",
       "<td style='text-align: right'>3.1</td>\n",
       "<td style='text-align: right'>14.26</td>\n",
       "</tr>\n",
       "<tr>\n",
       "<td style='text-align: right'>5.0</td>\n",
       "<td style='text-align: right'>3.6</td>\n",
       "<td style='text-align: right'>18.0</td>\n",
       "</tr>\n",
       "</tbody>\n",
       "</table>\n",
       "<p><strong>...</strong></p>"
      ],
      "text/plain": [
       "+--------------+-------------+------------+\n",
       "| sepal_length | sepal_width | sepal_area |\n",
       "+==============+=============+============+\n",
       "|          5.1 |         3.5 |      17.85 |\n",
       "+--------------+-------------+------------+\n",
       "|          4.9 |         3.0 |       14.7 |\n",
       "+--------------+-------------+------------+\n",
       "|          4.7 |         3.2 |      15.04 |\n",
       "+--------------+-------------+------------+\n",
       "|          4.6 |         3.1 |      14.26 |\n",
       "+--------------+-------------+------------+\n",
       "|          5.0 |         3.6 |       18.0 |\n",
       "+--------------+-------------+------------+\n",
       "..."
      ]
     },
     "execution_count": 25,
     "metadata": {},
     "output_type": "execute_result"
    }
   ],
   "source": [
    "sepals = dados.cut([\"sepal_length\", \"sepal_width\", \"sepal_area\"])\n",
    "\n",
    "sepals"
   ]
  },
  {
   "cell_type": "code",
   "execution_count": 26,
   "id": "04f08650-8ae1-4194-8405-208f572cb8f7",
   "metadata": {},
   "outputs": [
    {
     "data": {
      "text/html": [
       "<table class='petl'>\n",
       "<thead>\n",
       "<tr>\n",
       "<th>petal_length</th>\n",
       "<th>petal_width</th>\n",
       "<th>petal_area</th>\n",
       "</tr>\n",
       "</thead>\n",
       "<tbody>\n",
       "<tr>\n",
       "<td style='text-align: right'>1.4</td>\n",
       "<td style='text-align: right'>0.2</td>\n",
       "<td style='text-align: right'>0.28</td>\n",
       "</tr>\n",
       "<tr>\n",
       "<td style='text-align: right'>1.4</td>\n",
       "<td style='text-align: right'>0.2</td>\n",
       "<td style='text-align: right'>0.28</td>\n",
       "</tr>\n",
       "<tr>\n",
       "<td style='text-align: right'>1.3</td>\n",
       "<td style='text-align: right'>0.2</td>\n",
       "<td style='text-align: right'>0.26</td>\n",
       "</tr>\n",
       "<tr>\n",
       "<td style='text-align: right'>1.5</td>\n",
       "<td style='text-align: right'>0.2</td>\n",
       "<td style='text-align: right'>0.3</td>\n",
       "</tr>\n",
       "<tr>\n",
       "<td style='text-align: right'>1.4</td>\n",
       "<td style='text-align: right'>0.2</td>\n",
       "<td style='text-align: right'>0.28</td>\n",
       "</tr>\n",
       "</tbody>\n",
       "</table>\n",
       "<p><strong>...</strong></p>"
      ],
      "text/plain": [
       "+--------------+-------------+------------+\n",
       "| petal_length | petal_width | petal_area |\n",
       "+==============+=============+============+\n",
       "|          1.4 |         0.2 |       0.28 |\n",
       "+--------------+-------------+------------+\n",
       "|          1.4 |         0.2 |       0.28 |\n",
       "+--------------+-------------+------------+\n",
       "|          1.3 |         0.2 |       0.26 |\n",
       "+--------------+-------------+------------+\n",
       "|          1.5 |         0.2 |        0.3 |\n",
       "+--------------+-------------+------------+\n",
       "|          1.4 |         0.2 |       0.28 |\n",
       "+--------------+-------------+------------+\n",
       "..."
      ]
     },
     "execution_count": 26,
     "metadata": {},
     "output_type": "execute_result"
    }
   ],
   "source": [
    "petals = dados.cut([\"petal_length\", \"petal_width\", \"petal_area\"])\n",
    "\n",
    "petals"
   ]
  },
  {
   "cell_type": "markdown",
   "id": "5330fb76-83a5-4989-b0e2-34717993a5e6",
   "metadata": {},
   "source": [
    "### Separando dados em treino"
   ]
  },
  {
   "cell_type": "code",
   "execution_count": 36,
   "id": "e4e76299-a937-47ae-92b7-49bd3eca208f",
   "metadata": {},
   "outputs": [],
   "source": [
    "import matplotlib.pyplot as plt\n",
    "import pandas as pd\n",
    "import numpy as np\n",
    "from sklearn import (ensemble, model_selection, preprocessing, tree)\n",
    "from sklearn.metrics import (auc, confusion_matrix, roc_auc_score, roc_curve)\n",
    "from sklearn.model_selection import(train_test_split, StratifiedKFold)\n",
    "from yellowbrick.classifier import (ConfusionMatrix, ROCAUC)\n",
    "from yellowbrick.model_selection import (LearningCurve)\n",
    "\n",
    "import janitor as jn"
   ]
  },
  {
   "cell_type": "code",
   "execution_count": 30,
   "id": "cfd21a0f-96c1-441c-b89c-ede5f69300db",
   "metadata": {},
   "outputs": [],
   "source": [
    "X, y = jn.get_features_targets(iris, target_columns='petal_length')"
   ]
  },
  {
   "cell_type": "code",
   "execution_count": 33,
   "id": "8908ff2c-26e6-4a65-afa9-e174495e3544",
   "metadata": {},
   "outputs": [],
   "source": [
    "X_treino, X_test, Y_treino, Y_test = model_selection.train_test_split(X, y, test_size=0.3, random_state=42)"
   ]
  },
  {
   "cell_type": "code",
   "execution_count": 34,
   "id": "19fc3452-96e0-4a41-9ea6-63608825f5b2",
   "metadata": {},
   "outputs": [
    {
     "data": {
      "text/html": [
       "<div>\n",
       "<style scoped>\n",
       "    .dataframe tbody tr th:only-of-type {\n",
       "        vertical-align: middle;\n",
       "    }\n",
       "\n",
       "    .dataframe tbody tr th {\n",
       "        vertical-align: top;\n",
       "    }\n",
       "\n",
       "    .dataframe thead th {\n",
       "        text-align: right;\n",
       "    }\n",
       "</style>\n",
       "<table border=\"1\" class=\"dataframe\">\n",
       "  <thead>\n",
       "    <tr style=\"text-align: right;\">\n",
       "      <th></th>\n",
       "      <th>sepal_length</th>\n",
       "      <th>sepal_width</th>\n",
       "      <th>petal_width</th>\n",
       "      <th>species</th>\n",
       "    </tr>\n",
       "  </thead>\n",
       "  <tbody>\n",
       "    <tr>\n",
       "      <th>81</th>\n",
       "      <td>5.5</td>\n",
       "      <td>2.4</td>\n",
       "      <td>1.0</td>\n",
       "      <td>versicolor</td>\n",
       "    </tr>\n",
       "    <tr>\n",
       "      <th>133</th>\n",
       "      <td>6.3</td>\n",
       "      <td>2.8</td>\n",
       "      <td>1.5</td>\n",
       "      <td>virginica</td>\n",
       "    </tr>\n",
       "    <tr>\n",
       "      <th>137</th>\n",
       "      <td>6.4</td>\n",
       "      <td>3.1</td>\n",
       "      <td>1.8</td>\n",
       "      <td>virginica</td>\n",
       "    </tr>\n",
       "    <tr>\n",
       "      <th>75</th>\n",
       "      <td>6.6</td>\n",
       "      <td>3.0</td>\n",
       "      <td>1.4</td>\n",
       "      <td>versicolor</td>\n",
       "    </tr>\n",
       "    <tr>\n",
       "      <th>109</th>\n",
       "      <td>7.2</td>\n",
       "      <td>3.6</td>\n",
       "      <td>2.5</td>\n",
       "      <td>virginica</td>\n",
       "    </tr>\n",
       "    <tr>\n",
       "      <th>...</th>\n",
       "      <td>...</td>\n",
       "      <td>...</td>\n",
       "      <td>...</td>\n",
       "      <td>...</td>\n",
       "    </tr>\n",
       "    <tr>\n",
       "      <th>71</th>\n",
       "      <td>6.1</td>\n",
       "      <td>2.8</td>\n",
       "      <td>1.3</td>\n",
       "      <td>versicolor</td>\n",
       "    </tr>\n",
       "    <tr>\n",
       "      <th>106</th>\n",
       "      <td>4.9</td>\n",
       "      <td>2.5</td>\n",
       "      <td>1.7</td>\n",
       "      <td>virginica</td>\n",
       "    </tr>\n",
       "    <tr>\n",
       "      <th>14</th>\n",
       "      <td>5.8</td>\n",
       "      <td>4.0</td>\n",
       "      <td>0.2</td>\n",
       "      <td>setosa</td>\n",
       "    </tr>\n",
       "    <tr>\n",
       "      <th>92</th>\n",
       "      <td>5.8</td>\n",
       "      <td>2.6</td>\n",
       "      <td>1.2</td>\n",
       "      <td>versicolor</td>\n",
       "    </tr>\n",
       "    <tr>\n",
       "      <th>102</th>\n",
       "      <td>7.1</td>\n",
       "      <td>3.0</td>\n",
       "      <td>2.1</td>\n",
       "      <td>virginica</td>\n",
       "    </tr>\n",
       "  </tbody>\n",
       "</table>\n",
       "<p>105 rows × 4 columns</p>\n",
       "</div>"
      ],
      "text/plain": [
       "     sepal_length  sepal_width  petal_width     species\n",
       "81            5.5          2.4          1.0  versicolor\n",
       "133           6.3          2.8          1.5   virginica\n",
       "137           6.4          3.1          1.8   virginica\n",
       "75            6.6          3.0          1.4  versicolor\n",
       "109           7.2          3.6          2.5   virginica\n",
       "..            ...          ...          ...         ...\n",
       "71            6.1          2.8          1.3  versicolor\n",
       "106           4.9          2.5          1.7   virginica\n",
       "14            5.8          4.0          0.2      setosa\n",
       "92            5.8          2.6          1.2  versicolor\n",
       "102           7.1          3.0          2.1   virginica\n",
       "\n",
       "[105 rows x 4 columns]"
      ]
     },
     "execution_count": 34,
     "metadata": {},
     "output_type": "execute_result"
    }
   ],
   "source": [
    "X_treino"
   ]
  }
 ],
 "metadata": {
  "kernelspec": {
   "display_name": "Python 3 (ipykernel)",
   "language": "python",
   "name": "python3"
  },
  "language_info": {
   "codemirror_mode": {
    "name": "ipython",
    "version": 3
   },
   "file_extension": ".py",
   "mimetype": "text/x-python",
   "name": "python",
   "nbconvert_exporter": "python",
   "pygments_lexer": "ipython3",
   "version": "3.8.10"
  }
 },
 "nbformat": 4,
 "nbformat_minor": 5
}
