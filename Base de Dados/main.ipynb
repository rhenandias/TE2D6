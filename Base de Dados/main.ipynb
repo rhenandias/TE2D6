{
 "cells": [
  {
   "cell_type": "code",
   "execution_count": 35,
   "metadata": {},
   "outputs": [],
   "source": [
    "import pandas as pd\n",
    "import numpy as np"
   ]
  },
  {
   "cell_type": "code",
   "execution_count": 44,
   "metadata": {},
   "outputs": [
    {
     "name": "stdout",
     "output_type": "stream",
     "text": [
      "       MARCA                        PROPRIETARIO  \\\n",
      "0      PPAAN                JOSE LUIZ FORNAGIERI   \n",
      "1      PPAAP                   FÁBIO DA SILVEIRA   \n",
      "2      PPAAS            CHUBB SEGUROS BRASIL S.A   \n",
      "3      PPAJN        SKYJET BRASIL SERV.AEREOS SA   \n",
      "4      PPAMP            MARIA ELEUZA SOUSA BUENO   \n",
      "...      ...                                 ...   \n",
      "29792  PUWEN         ALEXANDRE DE CAMARGO WENZEL   \n",
      "29793  PUWRO                     ANTONIO PARIZZI   \n",
      "29794  PUXJP  LIGIRA MORAES DE OLIVEIRA BASSETTO   \n",
      "29795  PUXYZ  ANTONIO CARLOS GUARINI PERPETUO/OU   \n",
      "29796  PUZZB                    FRANCO LANDOLINA   \n",
      "\n",
      "                                    OUTROS_PROPRIETARIOS SG_UF  \\\n",
      "0                                                    NaN    PR   \n",
      "1      ANDREA SILVEIRA RODRIGUES;LUIZ EDUARDO SILVEIR...    MG   \n",
      "2                                                    NaN    SP   \n",
      "3                                                    NaN    RJ   \n",
      "4                                                    NaN    PA   \n",
      "...                                                  ...   ...   \n",
      "29792                                                NaN    SP   \n",
      "29793                                                NaN    MT   \n",
      "29794                                                NaN    SP   \n",
      "29795                                 THOMAS LEOMIL SHAW    SP   \n",
      "29796                                                NaN    SP   \n",
      "\n",
      "                 CPF_CNPJ                         NM_OPERADOR  \\\n",
      "0          280.XXX.XXX-04     AEREO AGRÍCOLA FORNAGIERI LTDA.   \n",
      "1          020.XXX.XXX-05                   FÁBIO DA SILVEIRA   \n",
      "2      03.502.099/0001-18                         OMAR CASALE   \n",
      "3      86.977.642/0001-60                                 NaN   \n",
      "4          000.XXX.XXX-00            MARIA ELEUZA SOUSA BUENO   \n",
      "...                   ...                                 ...   \n",
      "29792      123.XXX.XXX-09         ALEXANDRE DE CAMARGO WENZEL   \n",
      "29793      667.XXX.XXX-87                     ANTONIO PARIZZI   \n",
      "29794      139.XXX.XXX-43  LIGIRA MORAES DE OLIVEIRA BASSETTO   \n",
      "29795      024.XXX.XXX-85  ANTONIO CARLOS GUARINI PERPETUO/OU   \n",
      "29796      021.XXX.XXX-78                    FRANCO LANDOLINA   \n",
      "\n",
      "                                       OUTROS_OPERADORES UF_OPERADOR  \\\n",
      "0                                                    NaN          PR   \n",
      "1      ANDREA SILVEIRA RODRIGUES;LUIZ EDUARDO SILVEIR...          MG   \n",
      "2                                          SILVIO CASALE          SP   \n",
      "3                                                    NaN         NaN   \n",
      "4                                                    NaN          PA   \n",
      "...                                                  ...         ...   \n",
      "29792                                                NaN          SP   \n",
      "29793                                                NaN          MT   \n",
      "29794                                                NaN          SP   \n",
      "29795                                                NaN          SP   \n",
      "29796                                                NaN          SP   \n",
      "\n",
      "                  CPF_CGC  NR_CERT_MATRICULA  ... DT_VALIDADE_CA  \\\n",
      "0      31.164.358/0001-83            18796.0  ...       04112022   \n",
      "1          020.XXX.XXX-05            18026.0  ...       21022023   \n",
      "2          074.XXX.XXX-02            20098.0  ...       04072019   \n",
      "3                     NaN                0.0  ...         300999   \n",
      "4          000.XXX.XXX-00             5824.0  ...         251097   \n",
      "...                   ...                ...  ...            ...   \n",
      "29792      123.XXX.XXX-09            60620.0  ...         RESRAB   \n",
      "29793      667.XXX.XXX-87           101228.0  ...            NaN   \n",
      "29794      139.XXX.XXX-43           150211.0  ...            NaN   \n",
      "29795      024.XXX.XXX-85            40115.0  ...         RESRAB   \n",
      "29796      021.XXX.XXX-78           990407.0  ...            NaN   \n",
      "\n",
      "                       DT_CANC           DS_MOTIVO_CANC CD_INTERDICAO  \\\n",
      "0                          NaN                      NaN             N   \n",
      "1                          NaN                      NaN             N   \n",
      "2                          NaN                      NaN            C8   \n",
      "3      2010-01-28 00:00:00.000  Nº MATRICULA SEM PADRAO            M4   \n",
      "4      2022-05-12 00:00:00.000              PERECIMENTO             M   \n",
      "...                        ...                      ...           ...   \n",
      "29792                      NaN                      NaN             U   \n",
      "29793                      NaN                      NaN             U   \n",
      "29794                      NaN                      NaN             U   \n",
      "29795                      NaN                      NaN             U   \n",
      "29796                      NaN                      NaN             U   \n",
      "\n",
      "      CD_MARCA_NAC1 CD_MARCA_NAC2 CD_MARCA_NAC3 CD_MARCA_ESTRANGEIRA  \\\n",
      "0               NaN           NaN           NaN                  NaN   \n",
      "1               NaN           NaN           NaN                  NaN   \n",
      "2               NaN           NaN           NaN                  NaN   \n",
      "3               NaN           NaN           NaN                  NaN   \n",
      "4               NaN           NaN           NaN                  NaN   \n",
      "...             ...           ...           ...                  ...   \n",
      "29792           NaN           NaN           NaN                  NaN   \n",
      "29793           NaN           NaN           NaN                  NaN   \n",
      "29794           NaN           NaN           NaN                  NaN   \n",
      "29795           NaN           NaN           NaN                  NaN   \n",
      "29796         PPZZB           NaN           NaN                  NaN   \n",
      "\n",
      "                      DS_GRAVAME         DT_MATRICULA  \n",
      "0       CESSÃO DE USO (COMODATO)  2010-01-01 00:00:00  \n",
      "1      NENHUM GRAVAME REGISTRADO  2010-12-01 00:00:00  \n",
      "2             COMUNICADA A VENDA  2011-07-27 00:00:00  \n",
      "3           RESERVADAS AS MARCAS                  NaN  \n",
      "4            MATRÍCULA CANCELADA  2012-03-23 00:00:00  \n",
      "...                          ...                  ...  \n",
      "29792                        NaN                  NaN  \n",
      "29793  NENHUM GRAVAME REGISTRADO  2010-12-22 00:00:00  \n",
      "29794  NENHUM GRAVAME REGISTRADO  2015-02-20 00:00:00  \n",
      "29795                        NaN  2012-06-14 00:00:00  \n",
      "29796  NENHUM GRAVAME REGISTRADO  2013-05-27 00:00:00  \n",
      "\n",
      "[29797 rows x 33 columns]\n"
     ]
    },
    {
     "name": "stderr",
     "output_type": "stream",
     "text": [
      "/tmp/ipykernel_10155/3210619500.py:1: DtypeWarning: Columns (21) have mixed types. Specify dtype option on import or set low_memory=False.\n",
      "  df = pd.read_csv('./Dados/aeronaves.csv', delimiter=\";\")\n"
     ]
    }
   ],
   "source": [
    "df = pd.read_csv('./Dados/aeronaves.csv', delimiter=\";\")\n",
    "\n",
    "print(df)\n",
    "\n",
    "# print(df.columns)\n",
    "\n",
    "# print(df[\"NR_PASSAGEIROS_MAX\"])\n",
    "\n",
    "# df[\"NR_ANO_FABRICACAO\"]\n"
   ]
  },
  {
   "cell_type": "code",
   "execution_count": null,
   "metadata": {},
   "outputs": [],
   "source": []
  }
 ],
 "metadata": {
  "kernelspec": {
   "display_name": "Python 3.8.10 64-bit",
   "language": "python",
   "name": "python3"
  },
  "language_info": {
   "codemirror_mode": {
    "name": "ipython",
    "version": 3
   },
   "file_extension": ".py",
   "mimetype": "text/x-python",
   "name": "python",
   "nbconvert_exporter": "python",
   "pygments_lexer": "ipython3",
   "version": "3.8.10"
  },
  "orig_nbformat": 4,
  "vscode": {
   "interpreter": {
    "hash": "916dbcbb3f70747c44a77c7bcd40155683ae19c65e1c03b4aa3499c5328201f1"
   }
  }
 },
 "nbformat": 4,
 "nbformat_minor": 2
}
