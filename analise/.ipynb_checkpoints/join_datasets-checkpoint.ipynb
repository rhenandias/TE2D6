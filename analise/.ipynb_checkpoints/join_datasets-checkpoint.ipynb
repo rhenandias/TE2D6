{
 "cells": [
  {
   "cell_type": "code",
   "execution_count": 1,
   "id": "f21d3e26-16bb-4e7a-b29c-a0668384474b",
   "metadata": {},
   "outputs": [],
   "source": [
    "import pandas as pd\n",
    "import os"
   ]
  },
  {
   "cell_type": "code",
   "execution_count": 2,
   "id": "1c333906-021e-4570-9d50-d6db903c893c",
   "metadata": {},
   "outputs": [],
   "source": [
    "# Configurações\n",
    "work_directory = \"../../combustiveis/\"\n",
    "final_dataset_name = \"dataset_etanol_sp.csv\"\n",
    "combustivel = \"ETANOL\"\n",
    "estado = \"SP\""
   ]
  },
  {
   "cell_type": "code",
   "execution_count": 3,
   "id": "dae1fe5b-7c49-430e-ba11-1e9c79a4af73",
   "metadata": {},
   "outputs": [
    {
     "name": "stdout",
     "output_type": "stream",
     "text": [
      "Quantidade total de entradas semestrais: 47\n"
     ]
    }
   ],
   "source": [
    "# Adquire os nomes dos arquivos existentes no diretório\n",
    "# Cada nome de arquivo representa uma entrada semestral do dataset\n",
    "filenames = next(os.walk(work_directory), (None, None, []))[2]\n",
    "\n",
    "print(f'Quantidade total de entradas semestrais: {len(filenames)}')"
   ]
  },
  {
   "cell_type": "code",
   "execution_count": 4,
   "id": "1f1b8dc4-9c05-40f1-bf8b-061ce2ca9612",
   "metadata": {},
   "outputs": [],
   "source": [
    "# Cria um dataframe para unificar todas as entradas semestrais\n",
    "final_df = pd.DataFrame()"
   ]
  },
  {
   "cell_type": "code",
   "execution_count": null,
   "id": "4d36ae3a-7041-4af2-98bf-61555b7d03ad",
   "metadata": {},
   "outputs": [],
   "source": [
    "# Primeiro, remover arquivo existente de dataset final\n",
    "# Isso é necessário pois se o arquivo já existir, iremos escrever mais dados sobre ele\n",
    "# Dessa maneira, a fidelidade dos dados do dataset será prejudicada\n",
    "try:\n",
    "    os.remove(work_directory + final_dataset_name)\n",
    "except OSError as e:\n",
    "    print (\"Nenhum arquivo existente de dataset final\")\n",
    "\n",
    "# Realiza leitura de cada um dos datasets semestrais e concatena em um único dataframe\n",
    "i = 1\n",
    "\n",
    "for filename in filenames:\n",
    "    # Ignora arquivo de dataset final, ler apenas entradas semestrais\n",
    "    if not \"ca-\" in filename:\n",
    "        continue\n",
    "        \n",
    "    # Realiza leitura do dataset\n",
    "    df = pd.read_csv(work_directory + filename, sep=\";\", decimal=\",\", encoding=\"cp860\")\n",
    "    \n",
    "    # Aplicar filtros desejados para o dataset\n",
    "    df = df[(df[\"Produto\"] == combustivel) & (df[\"Estado - Sigla\"] == estado)]\n",
    "    \n",
    "    # Acrescenta coluna com o identificador do semestre\n",
    "    df.insert(0, \"Semestre\", filename[3:10], True)\n",
    "\n",
    "    # Para concatenar o dataframe no arquivo CSV, considerar o header apenas para a primeira entrada\n",
    "    save_header = True if i == 1 else False\n",
    "    \n",
    "    # Concatena o dataframe lido com o dataframe geral\n",
    "    df.to_csv(work_directory + final_dataset_name, mode=\"a\", index=False, header=save_header)\n",
    "    \n",
    "    print(f'Leitura finalizada da entrada {i}')\n",
    "    i += 1\n",
    "\n",
    "print(\"Concatenação finalizada\")"
   ]
  },
  {
   "cell_type": "code",
   "execution_count": null,
   "id": "64dd1355-cb3a-4e61-9511-2bf6ab3cca6a",
   "metadata": {},
   "outputs": [],
   "source": []
  }
 ],
 "metadata": {
  "kernelspec": {
   "display_name": "Python 3 (ipykernel)",
   "language": "python",
   "name": "python3"
  },
  "language_info": {
   "codemirror_mode": {
    "name": "ipython",
    "version": 3
   },
   "file_extension": ".py",
   "mimetype": "text/x-python",
   "name": "python",
   "nbconvert_exporter": "python",
   "pygments_lexer": "ipython3",
   "version": "3.8.10"
  }
 },
 "nbformat": 4,
 "nbformat_minor": 5
}
