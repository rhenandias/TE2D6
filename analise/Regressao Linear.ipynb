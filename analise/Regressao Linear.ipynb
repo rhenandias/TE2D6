{
 "cells": [
  {
   "cell_type": "markdown",
   "id": "740ba3e4-4a2e-49d4-b6bf-51dde3cfa111",
   "metadata": {},
   "source": [
    "# Regressão Linear\n",
    "\n",
    "Ela modela uma relação linear entre dois elementos ou mais elementos determinando uma saída por meio de um ou mais conjuntos de entrada.\n",
    "\n",
    "## Regressão Linear Univariada ou Simples\n",
    "\n",
    "Objetivo é modelar uma relação entre um elemento (variável x) e um alvo de valor contínuo (variável de resposta y).\n",
    "\n",
    "y = "
   ]
  }
 ],
 "metadata": {
  "kernelspec": {
   "display_name": "Python 3 (ipykernel)",
   "language": "python",
   "name": "python3"
  },
  "language_info": {
   "codemirror_mode": {
    "name": "ipython",
    "version": 3
   },
   "file_extension": ".py",
   "mimetype": "text/x-python",
   "name": "python",
   "nbconvert_exporter": "python",
   "pygments_lexer": "ipython3",
   "version": "3.8.10"
  }
 },
 "nbformat": 4,
 "nbformat_minor": 5
}
