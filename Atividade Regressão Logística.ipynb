{
 "cells": [
  {
   "cell_type": "markdown",
   "id": "bdf4a5ca-cf64-4090-aa8c-abf90cbf0439",
   "metadata": {},
   "source": [
    "# Regressão Logística\n",
    "\n",
    "Rhenan Dias Morais - GU3009254"
   ]
  },
  {
   "cell_type": "markdown",
   "id": "eb3b044c-5bc2-4c9a-acae-6ac0af9f497c",
   "metadata": {
    "tags": []
   },
   "source": [
    "# Importando Dataset"
   ]
  },
  {
   "cell_type": "code",
   "execution_count": 207,
   "id": "55701e84-b899-47bb-a481-7997789d6dd7",
   "metadata": {},
   "outputs": [],
   "source": [
    "from sklearn import datasets\n",
    "import numpy as np\n",
    "import seaborn as sns\n",
    "from sklearn.model_selection import train_test_split\n",
    "from sklearn.linear_model import LogisticRegression\n",
    "import pandas as pd"
   ]
  },
  {
   "cell_type": "markdown",
   "id": "55d580bf-3591-42ad-8f6f-acdbd99d8f08",
   "metadata": {},
   "source": [
    "Será utilizado o dataset \"planets\", inicialmente, vamos descartar as colunas que não são quantitativas.\n",
    "\n",
    "Vamos ficar com as colunas de método, período orbital, massa e distância."
   ]
  },
  {
   "cell_type": "code",
   "execution_count": 208,
   "id": "634006f4-8d51-412e-9d9b-523435720ab1",
   "metadata": {},
   "outputs": [
    {
     "data": {
      "text/plain": [
       "Index(['method', 'orbital_period', 'mass', 'distance'], dtype='object')"
      ]
     },
     "execution_count": 208,
     "metadata": {},
     "output_type": "execute_result"
    }
   ],
   "source": [
    "planetas = sns.load_dataset('planets')\n",
    "planetas = planetas.drop(columns=[\"number\"])\n",
    "planetas = planetas.drop(columns=[\"year\"])\n",
    "\n",
    "planetas.columns"
   ]
  },
  {
   "cell_type": "markdown",
   "id": "ddd6aefe-159c-48f8-8bd9-1735f55a8b7a",
   "metadata": {
    "tags": []
   },
   "source": [
    "# Definindo quais valores utilizar para regressão"
   ]
  },
  {
   "cell_type": "markdown",
   "id": "43422931-9b33-4915-b784-7d3d32e37f4f",
   "metadata": {},
   "source": [
    "A regressão Logística é a técnica de classificar uma base de dados seguindo opções binárias, sim ou não, aprovado ou reprovado, método A ou método B, etc.\n",
    "\n",
    "Para essa base de dados, podemos tentar prever qual o método de detecção de um planeta foi utilizado com base nas suas outras características de massa, período orbital, etc.\n",
    "\n",
    "Para isso, vamos descobrir primeiro duas das técnicas de detecção mais presentes no dataset."
   ]
  },
  {
   "cell_type": "markdown",
   "id": "8299e936-f650-4cba-a123-04c676724a28",
   "metadata": {},
   "source": [
    "Abaixo, no gráfico de countplot, podemos perceber que os métodos mais presentes são os de \"Radial Velocity\" e \"Transit\", com 553 e 397 registros respectivamente."
   ]
  },
  {
   "cell_type": "code",
   "execution_count": 209,
   "id": "732a2950-c080-4eb7-b26e-45b71f207f7e",
   "metadata": {},
   "outputs": [
    {
     "data": {
      "text/plain": [
       "<AxesSubplot:xlabel='method', ylabel='count'>"
      ]
     },
     "execution_count": 209,
     "metadata": {},
     "output_type": "execute_result"
    },
    {
     "data": {
      "image/png": "[encoded data removed]",
      "text/plain": [
       "<Figure size 1080x720 with 1 Axes>"
      ]
     },
     "metadata": {
      "needs_background": "light"
     },
     "output_type": "display_data"
    }
   ],
   "source": [
    "fig, ax = plt.subplots(figsize=(15, 10))\n",
    "sns.countplot(x=\"method\", data=planetas, ax=ax)"
   ]
  },
  {
   "cell_type": "markdown",
   "id": "37bc37e6-98d9-4a75-ba47-0c540b7c4d07",
   "metadata": {},
   "source": [
    "Vamos então filtrar nosso dataset para manter apenas os dados que possuem como método de detecção as técnicas \"Radial Velocity\" ou \"Transit\""
   ]
  },
  {
   "cell_type": "code",
   "execution_count": 210,
   "id": "10b9fd7f-2348-4910-a24a-dd6ba848bd09",
   "metadata": {},
   "outputs": [],
   "source": [
    "planetas = planetas[(planetas.method == \"Radial Velocity\") |  (planetas.method == \"Transit\")]"
   ]
  },
  {
   "cell_type": "markdown",
   "id": "d9593085-1eb6-44be-81cb-f95844850630",
   "metadata": {},
   "source": [
    "# Balanceando Dados"
   ]
  },
  {
   "cell_type": "markdown",
   "id": "d4f1c45c-5c15-4c7f-a7ec-139e9e78b926",
   "metadata": {},
   "source": [
    "Agora com os dados separados apenas para os métodos de detecção interessantes para nossa análise, podemos contar a quantidade de ocorrências para um deles.\n",
    "\n",
    "Vamos perceber que os dados não estão balanceados, ou seja, um método possui maior ocorrência que outro."
   ]
  },
  {
   "cell_type": "code",
   "execution_count": 211,
   "id": "0dbb5051-c602-46af-9860-405bfee44a42",
   "metadata": {},
   "outputs": [
    {
     "data": {
      "text/plain": [
       "Radial Velocity    553\n",
       "Transit            397\n",
       "Name: method, dtype: int64"
      ]
     },
     "execution_count": 211,
     "metadata": {},
     "output_type": "execute_result"
    }
   ],
   "source": [
    "planetas[\"method\"].value_counts()"
   ]
  },
  {
   "cell_type": "code",
   "execution_count": 212,
   "id": "d5a10fa1-429f-4de9-a097-e664aaa71033",
   "metadata": {},
   "outputs": [
    {
     "data": {
      "text/plain": [
       "<AxesSubplot:xlabel='method', ylabel='count'>"
      ]
     },
     "execution_count": 212,
     "metadata": {},
     "output_type": "execute_result"
    },
    {
     "data": {
      "image/png": "[encoded data removed]",
      "text/plain": [
       "<Figure size 576x360 with 1 Axes>"
      ]
     },
     "metadata": {
      "needs_background": "light"
     },
     "output_type": "display_data"
    }
   ],
   "source": [
    "fig, ax = plt.subplots(figsize=(8, 5))\n",
    "sns.countplot(x=\"method\", data=planetas, ax=ax)"
   ]
  },
  {
   "cell_type": "markdown",
   "id": "732ef544-284c-4ba2-b791-7e4ff8f807da",
   "metadata": {},
   "source": [
    "Vamos então balancear os dados.\n",
    "\n",
    "Para isso, contamos as quantidades de ocorrência de cada um dos métodos, e então, realizamos um \"sample\" do dataframe com maior quantidade, para ajustar as mesmas quantidades que o de menor quantidade.\n",
    "\n",
    "Com esse método, os valores sobressalentes no subset com maior quantidade serão descartados até termos a mesma quantidade de valores no subset de menor quantidade."
   ]
  },
  {
   "cell_type": "code",
   "execution_count": 213,
   "id": "5239969c-f033-4f81-bfb2-0972896dd1ed",
   "metadata": {},
   "outputs": [
    {
     "name": "stdout",
     "output_type": "stream",
     "text": [
      "Quantidade de 'Transit':  397\n",
      "Quantidade de 'Radial Velocity':  553\n",
      "Quantidade balanceada de 'Radial Velocity':  397\n"
     ]
    }
   ],
   "source": [
    "transit_subset = planetas.loc[planetas[\"method\"] == \"Transit\", :]\n",
    "radial_velocity_subset = planetas.loc[planetas[\"method\"] == \"Radial Velocity\", :]\n",
    "\n",
    "print(\"Quantidade de 'Transit': \", len(transit_subset))\n",
    "print(\"Quantidade de 'Radial Velocity': \", len(radial_velocity_subset))\n",
    "\n",
    "sampled_radial_velocity = radial_velocity_subset.sample(len(transit_subset))\n",
    "\n",
    "print(\"Quantidade balanceada de 'Radial Velocity': \", len(sampled_radial_velocity))\n",
    "\n",
    "planetas = pd.concat([transit_subset, sampled_radial_velocity], ignore_index=True)"
   ]
  },
  {
   "cell_type": "markdown",
   "id": "91ad3e47-e3bb-4557-80b4-9933d1e2ac59",
   "metadata": {},
   "source": [
    "Agora podemos verificar que os dados estão balanceados e com a mesma quantidade de ocorrências"
   ]
  },
  {
   "cell_type": "code",
   "execution_count": 214,
   "id": "0bee804f-d971-49bc-b301-9ec9b74f84da",
   "metadata": {},
   "outputs": [
    {
     "data": {
      "text/plain": [
       "<AxesSubplot:xlabel='method', ylabel='count'>"
      ]
     },
     "execution_count": 214,
     "metadata": {},
     "output_type": "execute_result"
    },
    {
     "data": {
      "image/png": "[encoded data removed]",
      "text/plain": [
       "<Figure size 576x360 with 1 Axes>"
      ]
     },
     "metadata": {
      "needs_background": "light"
     },
     "output_type": "display_data"
    }
   ],
   "source": [
    "fig, ax = plt.subplots(figsize=(8, 5))\n",
    "sns.countplot(x=\"method\", data=planetas, ax=ax)"
   ]
  },
  {
   "cell_type": "markdown",
   "id": "0152aa47-249d-4544-9188-97cb011f8dc0",
   "metadata": {},
   "source": [
    "Até agora, temos então quantidades balanceadas de ocorrências dos dois métodos que queremos classificar, e podemos prosseguir com a regressão logística."
   ]
  },
  {
   "cell_type": "markdown",
   "id": "a5044884-822b-4e27-8184-fc2db085c1e5",
   "metadata": {},
   "source": [
    "# Preenchendo valores NaN"
   ]
  },
  {
   "cell_type": "markdown",
   "id": "89db5300-b644-4671-b699-be3541b8be42",
   "metadata": {},
   "source": [
    "Antes de prosseguir com a regressão logística, vamos preencher os valores com \"NaN\" presentes no dataset.\n",
    "\n",
    "Vamos utilizar uma técnica de preencher os valores faltantes com o valor médio de cada coluna"
   ]
  },
  {
   "cell_type": "code",
   "execution_count": 215,
   "id": "f4b62ca0-e5d4-404a-9902-d683fdcc180e",
   "metadata": {},
   "outputs": [],
   "source": [
    "values = {\"orbital_period\": planetas[\"orbital_period\"].median(),\n",
    "          \"mass\": planetas[\"mass\"].median(),\n",
    "          \"distance\": planetas[\"distance\"].median()}\n",
    "\n",
    "planetas = planetas.fillna(value=values)"
   ]
  },
  {
   "cell_type": "markdown",
   "id": "40051029-64ae-49d6-a4b4-e19f2f57d30f",
   "metadata": {},
   "source": [
    "# Realizando Regressão Logística"
   ]
  },
  {
   "cell_type": "markdown",
   "id": "adaced60-3ea9-4795-81d8-b3e6bab179ad",
   "metadata": {},
   "source": [
    "Podemos então iniciar a regressão logística.\n",
    "\n",
    "Para isso vamos seguir as etapas de:\n",
    "\n",
    "- Definir os eixos que serão utilizados, vamos comprar a relação de período orbital, massa e distância com o eixo de método de detecção\n",
    "- Separar os valores em treino e teste\n",
    "- Aplicar regressão logística"
   ]
  },
  {
   "cell_type": "code",
   "execution_count": 216,
   "id": "be55cae5-fc1b-4555-b941-59a8ad811b0a",
   "metadata": {},
   "outputs": [],
   "source": [
    "# Definindo valores que serão utilizados\n",
    "X = planetas[[\"orbital_period\", \"mass\", \"distance\"]]\n",
    "y = planetas['method']\n",
    "\n",
    "# Separando dados de treino e de teste\n",
    "X_train, X_test, y_train, y_test = train_test_split(X, y, test_size=0.25, random_state=0)\n",
    "\n",
    "# Treinando o classificador\n",
    "logistic_regression = LogisticRegression()\n",
    "logistic_regression.fit(X_train, y_train)\n",
    "y_pred = logistic_regression.predict(X_test)"
   ]
  },
  {
   "cell_type": "markdown",
   "id": "334eb0c3-6592-4d8a-9064-4aafac32d340",
   "metadata": {},
   "source": [
    "Agora podemos exibir os resultados em um formato de matriz de confusão.\n",
    "\n",
    "Podemos perceber nesse resultado, a quantidade de acertos e erros do modelo gerado.\n",
    "\n",
    "O modelo gerado apresenta um erro na predição de valores que o sistema prevê como \"Transit\", mas que na verdade são \"Radial Velocity\" (no quadro superior direito).\n",
    "\n",
    "No quadro inferior esquerdo, são apresentados os valores que o sistema prevê como \"Radial Velocity\", mas que na verdade são \"Transit\". O modelo gerado não apresentou erro nessa detecção.\n",
    "\n",
    "Nas colunas diagonais são os valores de acerto, em que o sistema preveu um valor que realmente era o valor predito."
   ]
  },
  {
   "cell_type": "code",
   "execution_count": 217,
   "id": "4d1e4f02-950b-4a86-8c02-2eee15eedeef",
   "metadata": {},
   "outputs": [
    {
     "data": {
      "text/plain": [
       "<AxesSubplot:xlabel='Predito', ylabel='Atual'>"
      ]
     },
     "execution_count": 217,
     "metadata": {},
     "output_type": "execute_result"
    },
    {
     "data": {
      "image/png": "[encoded data removed]",
      "text/plain": [
       "<Figure size 432x288 with 2 Axes>"
      ]
     },
     "metadata": {
      "needs_background": "light"
     },
     "output_type": "display_data"
    }
   ],
   "source": [
    "# Visualizando matriz de confusão\n",
    "confusion_matrix = pd.crosstab(y_test, y_pred, rownames=['Atual'], colnames=['Predito'])\n",
    "sns.heatmap(confusion_matrix, annot=True)"
   ]
  },
  {
   "cell_type": "markdown",
   "id": "032500e1-7ef7-43c5-ad83-653acce48073",
   "metadata": {},
   "source": []
  },
  {
   "cell_type": "markdown",
   "id": "686a644d-b67e-44dc-8c46-10a9fb97dfaa",
   "metadata": {},
   "source": [
    "Por fim, utilizamos os códigos de métricas para verificar a acurácia do modelo gerado.\n",
    "\n",
    "É apresentado a precisão para cada um das possibilidades separadamente, e para a acurácia geral.\n",
    "\n",
    "A acurácia geral ficou em torno de 93% a 94%, aresentando variações a cada execução, isso se deve a o fator de randomização durante a geração de dados de treinos e de testes."
   ]
  },
  {
   "cell_type": "code",
   "execution_count": 218,
   "id": "fb5853be-5dc5-4d23-9698-cdb2f2e57983",
   "metadata": {},
   "outputs": [
    {
     "name": "stdout",
     "output_type": "stream",
     "text": [
      "                 precision    recall  f1-score   support\n",
      "\n",
      "Radial Velocity       1.00      0.90      0.95       103\n",
      "        Transit       0.91      1.00      0.95        96\n",
      "\n",
      "       accuracy                           0.95       199\n",
      "      macro avg       0.95      0.95      0.95       199\n",
      "   weighted avg       0.95      0.95      0.95       199\n",
      "\n"
     ]
    }
   ],
   "source": [
    "from sklearn.metrics import classification_report\n",
    "from sklearn import metrics\n",
    "\n",
    "print(classification_report(y_test, y_pred))"
   ]
  },
  {
   "cell_type": "code",
   "execution_count": 219,
   "id": "cb70704d-8689-402d-ad0d-b428d9087bf4",
   "metadata": {},
   "outputs": [
    {
     "name": "stdout",
     "output_type": "stream",
     "text": [
      "Acurácia geral:  0.949748743718593\n"
     ]
    }
   ],
   "source": [
    "logisticRegression = LogisticRegression()\n",
    "\n",
    "logisticRegression.fit(X_train, y_train)\n",
    "\n",
    "score = logisticRegression.score(X_test, y_test)\n",
    "\n",
    "print(\"Acurácia geral: \", score)"
   ]
  }
 ],
 "metadata": {
  "kernelspec": {
   "display_name": "Python 3 (ipykernel)",
   "language": "python",
   "name": "python3"
  },
  "language_info": {
   "codemirror_mode": {
    "name": "ipython",
    "version": 3
   },
   "file_extension": ".py",
   "mimetype": "text/x-python",
   "name": "python",
   "nbconvert_exporter": "python",
   "pygments_lexer": "ipython3",
   "version": "3.8.10"
  }
 },
 "nbformat": 4,
 "nbformat_minor": 5
}
